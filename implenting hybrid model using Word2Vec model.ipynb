{
 "cells": [
  {
   "cell_type": "code",
   "execution_count": 1,
   "id": "004a26db",
   "metadata": {},
   "outputs": [],
   "source": [
    "#For Apex AD2600 Progressive-scan DVD player"
   ]
  },
  {
   "cell_type": "code",
   "execution_count": 2,
   "id": "7171f822",
   "metadata": {},
   "outputs": [],
   "source": [
    "#Step1: Extracting all adjectives from the given dataset"
   ]
  },
  {
   "cell_type": "code",
   "execution_count": 3,
   "id": "6731aa8e",
   "metadata": {},
   "outputs": [],
   "source": [
    "import nltk\n",
    "\n",
    "#we may have to download stopwords first before importing it. to do which we can use\n",
    "#nltk.download('stopwords')\n",
    "\n",
    "import pandas as pd\n",
    "\n",
    "from nltk.corpus import stopwords\n",
    "from nltk.stem import WordNetLemmatizer\n",
    "from nltk.tokenize import word_tokenize, sent_tokenize\n",
    "from collections import Counter"
   ]
  },
  {
   "cell_type": "code",
   "execution_count": 4,
   "id": "655cba43",
   "metadata": {},
   "outputs": [],
   "source": [
    "dataset=pd.read_csv('D:/4th sem/Research project/implementing hybrid approach/corpus for implicit aspect indicator extraction/v1/Apex AD2600 Progressive-scan DVD player.csv')\n",
    "X=dataset.iloc[:,0].values\n",
    "y=dataset.iloc[:,1].values"
   ]
  },
  {
   "cell_type": "code",
   "execution_count": 5,
   "id": "0efb1232",
   "metadata": {},
   "outputs": [
    {
     "name": "stdout",
     "output_type": "stream",
     "text": [
      "['it practically plays almost everything you give it  '\n",
      " 'i ve had the player for about 2 years now and it still performs nicely with the exception of an occasional wwhhhrrr sound from the motor  '\n",
      " 'it s very sleek looking with a very good front panel button layout  and it has a great feature set  '\n",
      " 'i have a dvd burner on my computer and a zillion mp3s  and it s a lot nicer to access them 45 gb at a time  dvdr  than 07 gb at a time  cdr   '\n",
      " 'at doublespeed  2x forward speed   it still plays mp3s with sound  they are pitchcorrected and smooth  but twice as fast  '\n",
      " 'there are funny little ridges on the dvd that look like the slice of a tree trunk  '\n",
      " 'have used it frequently and have had no problems  '\n",
      " 'they play just about everything  but  2 and  3 died very shortly after getting them  '\n",
      " 'this item broke just two weeks after i gave it to my kids for christmas  '\n",
      " 'it looks great  and is loaded with features  '\n",
      " 'unfortunately it turns out to be the  disposable  type  '\n",
      " 'the only thing i did experience was a problem of the player freezing while playing  which i was able to clear by opening it up and blowing it out with  canned air   '\n",
      " 'the two main reasons i had for getting this model were the range of disks types played and the recommendation of a friend  '\n",
      " 'the fact that this model would play jpeg slideshows was a big plus for me as a visual artist  and i discovered by accident  it is not mentioned anywhere in the literature  that it will play mpeg1 files on a regular cdr data disk without vcd formatting  '\n",
      " 'i also did nt like the way it displayed information way down into the screen when you are in zoom mode  '\n",
      " 'it is more than 90 days and it does not show the picture no matter what i do  '\n",
      " 'wo nt play a lot of discs  '\n",
      " 'some movies it played yesterday  it wo nt play today  '\n",
      " 'it wo nt play 80  of my movies  which are all store boughten  '\n",
      " 'i bought 2 of this model for christmas presents and neither one of them work  '\n",
      " 'one stopped working in february and the other in march  '\n",
      " 'this has happened with several different dvd s and occasionally if we keep trying something  it will work when it did not work one time before  '\n",
      " 'nothing has broken on it  and it plays all the dvds i have  '\n",
      " 'unfortunately it can t play all of the dvd  '\n",
      " 'we tried it out christmas night and it worked great  '\n",
      " ' on here of course  also  a couple dvd s would nt play and they were new ones  '\n",
      " 'unit took forever since the begiining to recognize and play discs  '\n",
      " '3 months of use and it no longer recognizes anything  '\n",
      " 'only used for 3 month before it s down  '\n",
      " 'the entire unit was poorly crafted  '\n",
      " 'after hooking the thing up  i found that it would only played less than 50  of the dvds i put in it  '\n",
      " 'the dvd player just wouldt recognize them  '\n",
      " 'this dvd player plays raw mpeg2 and mpeg1 videos  jpeg  wma  cdr  cdrw  dvdr  dvdrw  and of course plays dvd movies from uk i love the aiff  progressive scan feature  '\n",
      " 'the cool thing about the ad2600 it plays alot of different file like mp3  wma cds  jpeg and kodak picture cds  dvd s  dvd    r s  '\n",
      " 'i ve tried playing all of these discs and they all play great  '\n",
      " 'i was surprised to find that not only could this dvd player play mpeg2 format which allowed me to stack 2 movies on a dvd  but it also was able to play vob files which i created with smart ripper  '\n",
      " 'i was surprised to find that not only could this dvd player play mpeg2 format which allowed me to stack 2 movies on a dvd  but it also was able to play vob files which i created with smart ripper  '\n",
      " 'it plays all my backups   or   and everything else i have put in it without a hick up  '\n",
      " 'well worth the money  '\n",
      " 'i am very pleased with the apex ad2600it plays just about anything you put in the drawer  '\n",
      " 'i can t speak to its longterm reliability  as i ve only had the apex ad2600 for a little over a week at this point  '\n",
      " 'but  it seems to work so well now  that i do nt anticipate any problems with it  '\n",
      " 'simple to use and hook up  '\n",
      " 'one big difference between the 1201 and the 2600 models is that the 2600 model is virtually silent  '\n",
      " 'it wo nt play all of my movies  '\n",
      " 'keeps coming up with no disk errors  '\n",
      " 'each of the 4 lasted less than six months  '\n",
      " 'this player has worked flawlessly for me and at this price  you can t go wrong  '\n",
      " 'i have sent my ad2600 back to apex because it wo nt play certain disney and other dvd movies  no disc message   '\n",
      " 'it plays basically every media i ve tested so far  even an old vcd that i ripped years ago and the rental dvd that could nt be played on my old  200 sharp player  '\n",
      " 'hope the unit lasts as i ve only had it for 3 days  '\n",
      " 'and the slim formfactor together with the mirrorlike front panel sure makes the player look cool and pricey  '\n",
      " 'and the slim formfactor together with the mirrorlike front panel sure makes the player look cool and pricey  '\n",
      " 'one bad thing though  i find the remotecontrol a bit flimsy and i predict it will most probably  die  before the player does  '\n",
      " 'the first one would nt work from the start  '\n",
      " 'but about 25  of dvd s i ve played on ithave a problem  when watching a movie the picture will freeze  but the dvd still plays  and eventualy the picture kicks back in after skipping a few moments  '\n",
      " 'we have had this product for over a month and yesterday it stopped working  '\n",
      " 'i would have rated it five stars but for the poor manual  '\n",
      " 'it worked from 1226 to 19 at which time the picture failed completely  see other negative reviewsmy unit was nt the only one this happened to   '\n",
      " 'it only read the dvds 10  of the time  otherwise i would get a no disc screen  '\n",
      " 'seems to read most dvds fine  and reads quietly  i had a pioneer player that had fairly loud disc spin noise   '\n",
      " 'seems to read most dvds fine  and reads quietly  i had a pioneer player that had fairly loud disc spin noise   '\n",
      " 'also  i have not had trouble reading svcds that i created and vbr mp3 cds  my old apex ad1200 had trouble with these   '\n",
      " 'i ve had this player for several months and it reads most discs  but it would not recognize several discs that were clean and read on other players  from friends season 2   '\n",
      " 'i ve had this player for several months and it reads most discs  but it would not recognize several discs that were clean and read on other players  from friends season 2   '\n",
      " 'my other gripe is the incredibly crappy remote  which is worse than other  cheaper apex units  '\n",
      " 'i checked out the amazon reviews and i m pleased to say mine worked  works  fine right out of the box  '\n",
      " 'looks ok  very shiny chrome and mirrors  '\n",
      " 'and the remote is cheap and cheasy  not sure how long it ll last  but for 50 bucks what the heck  '\n",
      " 'and the remote is cheap and cheasy  not sure how long it ll last  but for 50 bucks what the heck  '\n",
      " 'this thing plays everything i feed it  '\n",
      " 'when i 1st tried it i found that it had no problem playing the more expensive dvd  r media disc s that other players would play but to my surprise was able to play cheep media that i had burned that i could nt get to work before in anything but the dvd burner itself that i had made the disc with  '\n",
      " 'easy to use  small form factor  and looks good to boot  '\n",
      " 'easy to use  small form factor  and looks good to boot  '\n",
      " 'after about an hour it starts skipping like the dvd s are dirty  '\n",
      " 'it has never worked  '\n",
      " 'i ve attempted to connect this unit to several different tvs  using a multitude of connection methods  and i still can t get a video signal from the machine  '\n",
      " 'the most recent is that it will stop responding to the onoff button  '\n",
      " '34 way through the first disk we played on it  naturally on 31 days after purchase  the dvd player froze  '\n",
      " 'now it will not load any disk or just says that there is no disk  '\n",
      " 'after using it for just a month  i could not play any dvd  '\n",
      " 'one of the dvd s i received as a christmas present kept freezing  '\n",
      " 'some dvd s i rented would not play  '\n",
      " 'the prior one looked and felt lightweight  cheesy  and assembled by the oppressed  '\n",
      " 'the prior one looked and felt lightweight  cheesy  and assembled by the oppressed  '\n",
      " 'without a doubt the finest looking apex dvd player that i ve seen  '\n",
      " 'as a whole  the dvd player has a sleek design and works fine  '\n",
      " 'what disappointed me is the fact that it does not seem to read certain dvds  '\n",
      " 'for example  i tried playing my new  pirates of the carribean  extra features dvd  but this dvd player can not read it  '\n",
      " 'this player seems to work fine with everything else  '\n",
      " 'so i do nt understand why it would not work with dvds that seem to have more features in them  '\n",
      " 'this has so many capabilities that you ll always have room for new technologies as they evolve  '\n",
      " 'so much packed in a small case and very affordable  '\n",
      " 'so much packed in a small case and very affordable  '\n",
      " 'unit worked great for 3 weeks then video output failed  '\n",
      " 'it s a compact  attractive machine and was easy to set up  '\n",
      " 'it s a compact  attractive machine and was easy to set up  '\n",
      " 'it s a compact  attractive machine and was easy to set up  '\n",
      " 'the catch is that  while it plays movies just fine  it has refused to read second discs with the movie  extras  on them on the two occaisions when i tried to do that  '\n",
      " 'it works well enough  so far  for me to be satisfied with it  and it s possible that i m missing something  '\n",
      " 'so far the dvd works so i hope it does nt break down like the reviews i ve read  '\n",
      " 'it works great  '\n",
      " 'the unit seems to play all formats that i have put in it  jpeg  kodak pic s and dvdr  i have read other reviews and some good and soom not so good  but my feeling at this time is  two thumbs up   '\n",
      " 'i bought this thing because it plays everything  '\n",
      " 'forget about the sleek looks if it can t play some of your real dvds '\n",
      " 'i bought the 2600 because it plays everything  '\n",
      " 'so now it still plays everything  you just can t see it  '\n",
      " 'the first one we installed did nt work  and our kids were devastated to say the least  '\n",
      " 'it seems to be working fine  but we ve not used it all that much  '\n",
      " 'the player looked good right out of the box  offering lots of features and good styling  '\n",
      " 'when i tried to install the second dvd player in my brothers house  that one didn  t work either  '\n",
      " 'what can i say  i bought the ad600 2 years ago and it was probly the best dvd player ever  quality design  stable  plus it uses a standard ide interface so you can use an old dvd drive from your computer if the player dies  '\n",
      " 'the ad1600 did nt work corectly from the start and the ad1220 lasted about a week and a half before it started to act up  '\n",
      " 'it does play a wide range of formats as advertised which is very nice  '\n",
      " 'the machine is very light and slim and fits nicely into my tv stand  '\n",
      " 'the machine is very light and slim and fits nicely into my tv stand  '\n",
      " 'the machine is very light and slim and fits nicely into my tv stand  '\n",
      " 'even if i had paid full price i would have considered this a good deal  '\n",
      " 'we tried the  finding nemo  dvd and when we got to  chapter 28  the frames started to freeze for no reason  '\n",
      " 'i can t rate it one star only because when it does work it s pretty good  '\n",
      " 'the player kept displaying  no disc   so i tried the disc in another machine and sure as     '\n",
      " 'it worked  ' 'it plays everything  even vcd s  '\n",
      " 'if only it played stand alone avi files  '\n",
      " '1  frame freezes and the family yells   dad  somethings wrong with the dvd player  come quick   '\n",
      " '4  it did play my jpeg photos but wow  trying to figure it out was really something  '\n",
      " 'one still works fine  the other quit after one day  '\n",
      " 'one still works fine  the other quit after one day  '\n",
      " 'it seems to be a little slow when identifying a new disc that s inserted  maybe 10 seconds of wait  '\n",
      " 'seemed like a good deal  but this pos frequently cannot recognize dvds and music cds  takes a long time loading and then concludes   no disc   '\n",
      " 'seemed like a good deal  but this pos frequently cannot recognize dvds and music cds  takes a long time loading and then concludes   no disc   '\n",
      " 'first  the player did not allow me to access the menus of dvds  '\n",
      " 'the remote is flimsyfeeling and awkward to use  '\n",
      " 'the player does seem to play dvds adequately enough  '\n",
      " 'it played only one out of three dvd s without problems  the other two being afflicted by a number of glitches  '\n",
      " 'one also exhibited extremely slow speed when going to the menu  '\n",
      " 'i was impressed by this very inexpensive playerfor the first three hours  and then it died  '\n",
      " 'i looked into buying an inexpensive dvd player that had more than the standard set of features and this item seemed to be the best in that category  '\n",
      " 'still  i was willing to overlook those things as this unit looks sleek and has a myriad of features  '\n",
      " 'i try navigating to a chapter past 34 via the menu and it would nt do it  '\n",
      " 'i try navigating using the player s built in menu  and it still would nt work  '\n",
      " 'unfortunately  the player would not read any of my region one dvds even though they were not damaged in any way  '\n",
      " 'ability to play most discs  i tried dvd  vcd  dvdr  audio cd and it played all '\n",
      " 'good looks ' 'also  very light and portable  '\n",
      " 'also  very light and portable  '\n",
      " 'it will read and play all cd audio disc  '\n",
      " 'it will read and play all cd audio disc  '\n",
      " 'i bought the apex ad2600 because of the ability to play jpegs and it seemed like it was the most bang for the buck  '\n",
      " 'it does not only have difficulty playing jpegs  it even has trouble properly playing dvd movies  '\n",
      " 'it plays original dvds and cds and plays mp3s and jpegs  '\n",
      " 'however  it does not play windows media and i can not get it to play any of my divx rips  '\n",
      " 'i guess that i can not complain since it does not actually claim to play vcd  svcd formats  but others say they can  '\n",
      " 'bought this player after reading the reviews here which identify it as reading most formats including dvd  rw s and vcd s  '\n",
      " 'it did play a dvdr which was unplayable in my older philips machine  '\n",
      " 'it looks really sleek and stylish  and does everything it claims  '\n",
      " 'i tried as bunch of different formats to see if it would play and it did  '\n",
      " 'noiseless  lightweight and oh yeah  '\n",
      " 'noiseless  lightweight and oh yeah  ' 'works great  '\n",
      " 'it plays just about any format  check before you buy if it plays yours   '\n",
      " 'if it can fit in the drive bay  this dvd player will play it  '\n",
      " 'for instance  i made several backups of my dvd movies using dvdr  w  and  r  w  and it plays the dvds  ']\n"
     ]
    }
   ],
   "source": [
    "print(X)"
   ]
  },
  {
   "cell_type": "code",
   "execution_count": 6,
   "id": "b15e7fe5",
   "metadata": {},
   "outputs": [
    {
     "name": "stdout",
     "output_type": "stream",
     "text": [
      "['performance' 'performance' 'appearance' 'functionality' 'performance'\n",
      " 'appearance' 'quality' 'performance' 'quality' 'appearance' 'quality'\n",
      " 'performance' 'functionality' 'performance' 'functionality'\n",
      " 'functionality' 'performance' 'performance' 'performance' 'quality'\n",
      " 'quality' 'quality' 'performance' 'performance' 'quality' 'performance'\n",
      " 'functionality' 'functionality' 'quality' 'quality' 'performance'\n",
      " 'functionality' 'performance' 'performance' 'performance'\n",
      " 'functionality ' 'performance' 'functionality' 'quality' 'performance'\n",
      " 'quality' 'quality' 'functionality' 'behavior' 'performance' 'quality'\n",
      " 'quality' 'quality' 'performance' 'performance' 'quality' 'size'\n",
      " 'appearance' 'quality' 'quality' 'performance' 'functionality' 'quality'\n",
      " 'quality' 'performance' 'performance' 'behavior' 'performance'\n",
      " 'performance ' 'performance' 'price' 'quality' 'appearance' 'quality '\n",
      " 'quality' 'functionality' 'performance' 'size' 'appearance' 'performance'\n",
      " 'quality' 'functionality' 'functionality' 'performance' 'performance'\n",
      " 'performance' 'performance' 'performance' 'size' 'quality' 'appearance'\n",
      " 'quality' 'performance' 'performance' 'quality' 'quality' 'functionality'\n",
      " 'size ' 'price' 'quality' 'size' 'appearance' 'functionality'\n",
      " 'performance' 'performance' 'quality' 'quality' 'performance'\n",
      " 'performance' 'appearance' 'performance' 'performance' 'quality'\n",
      " 'quality' 'appearance' 'quality' 'behavior' 'quality' 'performance'\n",
      " 'weight' 'size' 'size' 'price' 'quality' 'quality' 'functionality'\n",
      " 'quality' 'performance' 'performance' 'quality' 'performance' 'quality'\n",
      " 'quality' 'performance' 'performance' 'performance' 'functionality'\n",
      " 'quality' 'performance' 'performance' 'performance' 'price' 'price'\n",
      " 'appearance' 'functionality' 'functionality' 'performance' 'performance'\n",
      " 'appearance' 'weight' 'size' 'performance' 'performance' 'performance'\n",
      " 'performance' 'performance' 'performance' 'performance' 'performance'\n",
      " 'performance' 'appearance' 'performance' 'behavior' 'weight'\n",
      " 'performance' 'performance' 'performance' 'performance']\n"
     ]
    }
   ],
   "source": [
    "print(y)"
   ]
  },
  {
   "cell_type": "code",
   "execution_count": 7,
   "id": "b3d2c0bc",
   "metadata": {},
   "outputs": [
    {
     "name": "stdout",
     "output_type": "stream",
     "text": [
      "['performance' 'performance' 'appearance' 'functionality' 'performance'\n",
      " 'appearance' 'quality' 'performance' 'quality' 'appearance' 'quality'\n",
      " 'performance' 'functionality' 'performance' 'functionality'\n",
      " 'functionality' 'performance' 'performance' 'performance' 'quality'\n",
      " 'quality' 'quality' 'performance' 'performance' 'quality' 'performance'\n",
      " 'functionality' 'functionality' 'quality' 'quality' 'performance'\n",
      " 'functionality' 'performance' 'performance' 'performance' 'functionality'\n",
      " 'performance' 'functionality' 'quality' 'performance' 'quality' 'quality'\n",
      " 'functionality' 'behavior' 'performance' 'quality' 'quality' 'quality'\n",
      " 'performance' 'performance' 'quality' 'size' 'appearance' 'quality'\n",
      " 'quality' 'performance' 'functionality' 'quality' 'quality' 'performance'\n",
      " 'performance' 'behavior' 'performance' 'performance' 'performance'\n",
      " 'price' 'quality' 'appearance' 'quality' 'quality' 'functionality'\n",
      " 'performance' 'size' 'appearance' 'performance' 'quality' 'functionality'\n",
      " 'functionality' 'performance' 'performance' 'performance' 'performance'\n",
      " 'performance' 'size' 'quality' 'appearance' 'quality' 'performance'\n",
      " 'performance' 'quality' 'quality' 'functionality' 'size' 'price'\n",
      " 'quality' 'size' 'appearance' 'functionality' 'performance' 'performance'\n",
      " 'quality' 'quality' 'performance' 'performance' 'appearance'\n",
      " 'performance' 'performance' 'quality' 'quality' 'appearance' 'quality'\n",
      " 'behavior' 'quality' 'performance' 'weight' 'size' 'size' 'price'\n",
      " 'quality' 'quality' 'functionality' 'quality' 'performance' 'performance'\n",
      " 'quality' 'performance' 'quality' 'quality' 'performance' 'performance'\n",
      " 'performance' 'functionality' 'quality' 'performance' 'performance'\n",
      " 'performance' 'price' 'price' 'appearance' 'functionality'\n",
      " 'functionality' 'performance' 'performance' 'appearance' 'weight' 'size'\n",
      " 'performance' 'performance' 'performance' 'performance' 'performance'\n",
      " 'performance' 'performance' 'performance' 'performance' 'appearance'\n",
      " 'performance' 'behavior' 'weight' 'performance' 'performance'\n",
      " 'performance' 'performance']\n"
     ]
    }
   ],
   "source": [
    "# Iterating through each word in the list y and removing the trailing spaces from each word\n",
    "for i in range(len(y)):\n",
    "    # Remove trailing spaces from the word\n",
    "    y[i] = y[i].rstrip()\n",
    "\n",
    "# Print the updated array of words\n",
    "print(y)"
   ]
  },
  {
   "cell_type": "code",
   "execution_count": 8,
   "id": "a44cb4b8",
   "metadata": {},
   "outputs": [],
   "source": [
    "#lets convert X into list\n",
    "X_list=list(X)"
   ]
  },
  {
   "cell_type": "code",
   "execution_count": 11,
   "id": "400908fa",
   "metadata": {},
   "outputs": [],
   "source": [
    "#Also lets convert y into list\n",
    "y_list=list(y)"
   ]
  },
  {
   "cell_type": "code",
   "execution_count": 9,
   "id": "929dd374",
   "metadata": {},
   "outputs": [
    {
     "name": "stdout",
     "output_type": "stream",
     "text": [
      "['it practically plays almost everything you give it  ', 'i ve had the player for about 2 years now and it still performs nicely with the exception of an occasional wwhhhrrr sound from the motor  ', 'it s very sleek looking with a very good front panel button layout  and it has a great feature set  ', 'i have a dvd burner on my computer and a zillion mp3s  and it s a lot nicer to access them 45 gb at a time  dvdr  than 07 gb at a time  cdr   ', 'at doublespeed  2x forward speed   it still plays mp3s with sound  they are pitchcorrected and smooth  but twice as fast  ', 'there are funny little ridges on the dvd that look like the slice of a tree trunk  ', 'have used it frequently and have had no problems  ', 'they play just about everything  but  2 and  3 died very shortly after getting them  ', 'this item broke just two weeks after i gave it to my kids for christmas  ', 'it looks great  and is loaded with features  ', 'unfortunately it turns out to be the  disposable  type  ', 'the only thing i did experience was a problem of the player freezing while playing  which i was able to clear by opening it up and blowing it out with  canned air   ', 'the two main reasons i had for getting this model were the range of disks types played and the recommendation of a friend  ', 'the fact that this model would play jpeg slideshows was a big plus for me as a visual artist  and i discovered by accident  it is not mentioned anywhere in the literature  that it will play mpeg1 files on a regular cdr data disk without vcd formatting  ', 'i also did nt like the way it displayed information way down into the screen when you are in zoom mode  ', 'it is more than 90 days and it does not show the picture no matter what i do  ', 'wo nt play a lot of discs  ', 'some movies it played yesterday  it wo nt play today  ', 'it wo nt play 80  of my movies  which are all store boughten  ', 'i bought 2 of this model for christmas presents and neither one of them work  ', 'one stopped working in february and the other in march  ', 'this has happened with several different dvd s and occasionally if we keep trying something  it will work when it did not work one time before  ', 'nothing has broken on it  and it plays all the dvds i have  ', 'unfortunately it can t play all of the dvd  ', 'we tried it out christmas night and it worked great  ', ' on here of course  also  a couple dvd s would nt play and they were new ones  ', 'unit took forever since the begiining to recognize and play discs  ', '3 months of use and it no longer recognizes anything  ', 'only used for 3 month before it s down  ', 'the entire unit was poorly crafted  ', 'after hooking the thing up  i found that it would only played less than 50  of the dvds i put in it  ', 'the dvd player just wouldt recognize them  ', 'this dvd player plays raw mpeg2 and mpeg1 videos  jpeg  wma  cdr  cdrw  dvdr  dvdrw  and of course plays dvd movies from uk i love the aiff  progressive scan feature  ', 'the cool thing about the ad2600 it plays alot of different file like mp3  wma cds  jpeg and kodak picture cds  dvd s  dvd    r s  ', 'i ve tried playing all of these discs and they all play great  ', 'i was surprised to find that not only could this dvd player play mpeg2 format which allowed me to stack 2 movies on a dvd  but it also was able to play vob files which i created with smart ripper  ', 'i was surprised to find that not only could this dvd player play mpeg2 format which allowed me to stack 2 movies on a dvd  but it also was able to play vob files which i created with smart ripper  ', 'it plays all my backups   or   and everything else i have put in it without a hick up  ', 'well worth the money  ', 'i am very pleased with the apex ad2600it plays just about anything you put in the drawer  ', 'i can t speak to its longterm reliability  as i ve only had the apex ad2600 for a little over a week at this point  ', 'but  it seems to work so well now  that i do nt anticipate any problems with it  ', 'simple to use and hook up  ', 'one big difference between the 1201 and the 2600 models is that the 2600 model is virtually silent  ', 'it wo nt play all of my movies  ', 'keeps coming up with no disk errors  ', 'each of the 4 lasted less than six months  ', 'this player has worked flawlessly for me and at this price  you can t go wrong  ', 'i have sent my ad2600 back to apex because it wo nt play certain disney and other dvd movies  no disc message   ', 'it plays basically every media i ve tested so far  even an old vcd that i ripped years ago and the rental dvd that could nt be played on my old  200 sharp player  ', 'hope the unit lasts as i ve only had it for 3 days  ', 'and the slim formfactor together with the mirrorlike front panel sure makes the player look cool and pricey  ', 'and the slim formfactor together with the mirrorlike front panel sure makes the player look cool and pricey  ', 'one bad thing though  i find the remotecontrol a bit flimsy and i predict it will most probably  die  before the player does  ', 'the first one would nt work from the start  ', 'but about 25  of dvd s i ve played on ithave a problem  when watching a movie the picture will freeze  but the dvd still plays  and eventualy the picture kicks back in after skipping a few moments  ', 'we have had this product for over a month and yesterday it stopped working  ', 'i would have rated it five stars but for the poor manual  ', 'it worked from 1226 to 19 at which time the picture failed completely  see other negative reviewsmy unit was nt the only one this happened to   ', 'it only read the dvds 10  of the time  otherwise i would get a no disc screen  ', 'seems to read most dvds fine  and reads quietly  i had a pioneer player that had fairly loud disc spin noise   ', 'seems to read most dvds fine  and reads quietly  i had a pioneer player that had fairly loud disc spin noise   ', 'also  i have not had trouble reading svcds that i created and vbr mp3 cds  my old apex ad1200 had trouble with these   ', 'i ve had this player for several months and it reads most discs  but it would not recognize several discs that were clean and read on other players  from friends season 2   ', 'i ve had this player for several months and it reads most discs  but it would not recognize several discs that were clean and read on other players  from friends season 2   ', 'my other gripe is the incredibly crappy remote  which is worse than other  cheaper apex units  ', 'i checked out the amazon reviews and i m pleased to say mine worked  works  fine right out of the box  ', 'looks ok  very shiny chrome and mirrors  ', 'and the remote is cheap and cheasy  not sure how long it ll last  but for 50 bucks what the heck  ', 'and the remote is cheap and cheasy  not sure how long it ll last  but for 50 bucks what the heck  ', 'this thing plays everything i feed it  ', 'when i 1st tried it i found that it had no problem playing the more expensive dvd  r media disc s that other players would play but to my surprise was able to play cheep media that i had burned that i could nt get to work before in anything but the dvd burner itself that i had made the disc with  ', 'easy to use  small form factor  and looks good to boot  ', 'easy to use  small form factor  and looks good to boot  ', 'after about an hour it starts skipping like the dvd s are dirty  ', 'it has never worked  ', 'i ve attempted to connect this unit to several different tvs  using a multitude of connection methods  and i still can t get a video signal from the machine  ', 'the most recent is that it will stop responding to the onoff button  ', '34 way through the first disk we played on it  naturally on 31 days after purchase  the dvd player froze  ', 'now it will not load any disk or just says that there is no disk  ', 'after using it for just a month  i could not play any dvd  ', 'one of the dvd s i received as a christmas present kept freezing  ', 'some dvd s i rented would not play  ', 'the prior one looked and felt lightweight  cheesy  and assembled by the oppressed  ', 'the prior one looked and felt lightweight  cheesy  and assembled by the oppressed  ', 'without a doubt the finest looking apex dvd player that i ve seen  ', 'as a whole  the dvd player has a sleek design and works fine  ', 'what disappointed me is the fact that it does not seem to read certain dvds  ', 'for example  i tried playing my new  pirates of the carribean  extra features dvd  but this dvd player can not read it  ', 'this player seems to work fine with everything else  ', 'so i do nt understand why it would not work with dvds that seem to have more features in them  ', 'this has so many capabilities that you ll always have room for new technologies as they evolve  ', 'so much packed in a small case and very affordable  ', 'so much packed in a small case and very affordable  ', 'unit worked great for 3 weeks then video output failed  ', 'it s a compact  attractive machine and was easy to set up  ', 'it s a compact  attractive machine and was easy to set up  ', 'it s a compact  attractive machine and was easy to set up  ', 'the catch is that  while it plays movies just fine  it has refused to read second discs with the movie  extras  on them on the two occaisions when i tried to do that  ', 'it works well enough  so far  for me to be satisfied with it  and it s possible that i m missing something  ', 'so far the dvd works so i hope it does nt break down like the reviews i ve read  ', 'it works great  ', 'the unit seems to play all formats that i have put in it  jpeg  kodak pic s and dvdr  i have read other reviews and some good and soom not so good  but my feeling at this time is  two thumbs up   ', 'i bought this thing because it plays everything  ', 'forget about the sleek looks if it can t play some of your real dvds ', 'i bought the 2600 because it plays everything  ', 'so now it still plays everything  you just can t see it  ', 'the first one we installed did nt work  and our kids were devastated to say the least  ', 'it seems to be working fine  but we ve not used it all that much  ', 'the player looked good right out of the box  offering lots of features and good styling  ', 'when i tried to install the second dvd player in my brothers house  that one didn  t work either  ', 'what can i say  i bought the ad600 2 years ago and it was probly the best dvd player ever  quality design  stable  plus it uses a standard ide interface so you can use an old dvd drive from your computer if the player dies  ', 'the ad1600 did nt work corectly from the start and the ad1220 lasted about a week and a half before it started to act up  ', 'it does play a wide range of formats as advertised which is very nice  ', 'the machine is very light and slim and fits nicely into my tv stand  ', 'the machine is very light and slim and fits nicely into my tv stand  ', 'the machine is very light and slim and fits nicely into my tv stand  ', 'even if i had paid full price i would have considered this a good deal  ', 'we tried the  finding nemo  dvd and when we got to  chapter 28  the frames started to freeze for no reason  ', 'i can t rate it one star only because when it does work it s pretty good  ', 'the player kept displaying  no disc   so i tried the disc in another machine and sure as     ', 'it worked  ', 'it plays everything  even vcd s  ', 'if only it played stand alone avi files  ', '1  frame freezes and the family yells   dad  somethings wrong with the dvd player  come quick   ', '4  it did play my jpeg photos but wow  trying to figure it out was really something  ', 'one still works fine  the other quit after one day  ', 'one still works fine  the other quit after one day  ', 'it seems to be a little slow when identifying a new disc that s inserted  maybe 10 seconds of wait  ', 'seemed like a good deal  but this pos frequently cannot recognize dvds and music cds  takes a long time loading and then concludes   no disc   ', 'seemed like a good deal  but this pos frequently cannot recognize dvds and music cds  takes a long time loading and then concludes   no disc   ', 'first  the player did not allow me to access the menus of dvds  ', 'the remote is flimsyfeeling and awkward to use  ', 'the player does seem to play dvds adequately enough  ', 'it played only one out of three dvd s without problems  the other two being afflicted by a number of glitches  ', 'one also exhibited extremely slow speed when going to the menu  ', 'i was impressed by this very inexpensive playerfor the first three hours  and then it died  ', 'i looked into buying an inexpensive dvd player that had more than the standard set of features and this item seemed to be the best in that category  ', 'still  i was willing to overlook those things as this unit looks sleek and has a myriad of features  ', 'i try navigating to a chapter past 34 via the menu and it would nt do it  ', 'i try navigating using the player s built in menu  and it still would nt work  ', 'unfortunately  the player would not read any of my region one dvds even though they were not damaged in any way  ', 'ability to play most discs  i tried dvd  vcd  dvdr  audio cd and it played all ', 'good looks ', 'also  very light and portable  ', 'also  very light and portable  ', 'it will read and play all cd audio disc  ', 'it will read and play all cd audio disc  ', 'i bought the apex ad2600 because of the ability to play jpegs and it seemed like it was the most bang for the buck  ', 'it does not only have difficulty playing jpegs  it even has trouble properly playing dvd movies  ', 'it plays original dvds and cds and plays mp3s and jpegs  ', 'however  it does not play windows media and i can not get it to play any of my divx rips  ', 'i guess that i can not complain since it does not actually claim to play vcd  svcd formats  but others say they can  ', 'bought this player after reading the reviews here which identify it as reading most formats including dvd  rw s and vcd s  ', 'it did play a dvdr which was unplayable in my older philips machine  ', 'it looks really sleek and stylish  and does everything it claims  ', 'i tried as bunch of different formats to see if it would play and it did  ', 'noiseless  lightweight and oh yeah  ', 'noiseless  lightweight and oh yeah  ', 'works great  ', 'it plays just about any format  check before you buy if it plays yours   ', 'if it can fit in the drive bay  this dvd player will play it  ', 'for instance  i made several backups of my dvd movies using dvdr  w  and  r  w  and it plays the dvds  ']\n"
     ]
    }
   ],
   "source": [
    "print(X_list)"
   ]
  },
  {
   "cell_type": "code",
   "execution_count": 12,
   "id": "96cbbf0f",
   "metadata": {},
   "outputs": [
    {
     "name": "stdout",
     "output_type": "stream",
     "text": [
      "['performance', 'performance', 'appearance', 'functionality', 'performance', 'appearance', 'quality', 'performance', 'quality', 'appearance', 'quality', 'performance', 'functionality', 'performance', 'functionality', 'functionality', 'performance', 'performance', 'performance', 'quality', 'quality', 'quality', 'performance', 'performance', 'quality', 'performance', 'functionality', 'functionality', 'quality', 'quality', 'performance', 'functionality', 'performance', 'performance', 'performance', 'functionality', 'performance', 'functionality', 'quality', 'performance', 'quality', 'quality', 'functionality', 'behavior', 'performance', 'quality', 'quality', 'quality', 'performance', 'performance', 'quality', 'size', 'appearance', 'quality', 'quality', 'performance', 'functionality', 'quality', 'quality', 'performance', 'performance', 'behavior', 'performance', 'performance', 'performance', 'price', 'quality', 'appearance', 'quality', 'quality', 'functionality', 'performance', 'size', 'appearance', 'performance', 'quality', 'functionality', 'functionality', 'performance', 'performance', 'performance', 'performance', 'performance', 'size', 'quality', 'appearance', 'quality', 'performance', 'performance', 'quality', 'quality', 'functionality', 'size', 'price', 'quality', 'size', 'appearance', 'functionality', 'performance', 'performance', 'quality', 'quality', 'performance', 'performance', 'appearance', 'performance', 'performance', 'quality', 'quality', 'appearance', 'quality', 'behavior', 'quality', 'performance', 'weight', 'size', 'size', 'price', 'quality', 'quality', 'functionality', 'quality', 'performance', 'performance', 'quality', 'performance', 'quality', 'quality', 'performance', 'performance', 'performance', 'functionality', 'quality', 'performance', 'performance', 'performance', 'price', 'price', 'appearance', 'functionality', 'functionality', 'performance', 'performance', 'appearance', 'weight', 'size', 'performance', 'performance', 'performance', 'performance', 'performance', 'performance', 'performance', 'performance', 'performance', 'appearance', 'performance', 'behavior', 'weight', 'performance', 'performance', 'performance', 'performance']\n"
     ]
    }
   ],
   "source": [
    "print(y_list)"
   ]
  },
  {
   "cell_type": "code",
   "execution_count": 13,
   "id": "6c5926de",
   "metadata": {},
   "outputs": [
    {
     "data": {
      "text/plain": [
       "163"
      ]
     },
     "execution_count": 13,
     "metadata": {},
     "output_type": "execute_result"
    }
   ],
   "source": [
    "len(y_list)"
   ]
  },
  {
   "cell_type": "code",
   "execution_count": 14,
   "id": "9e6d5502",
   "metadata": {},
   "outputs": [
    {
     "name": "stdout",
     "output_type": "stream",
     "text": [
      "['it practically plays almost everything you give it  ', 'i ve had the player for about 2 years now and it still performs nicely with the exception of an occasional wwhhhrrr sound from the motor  ', 'it s very sleek looking with a very good front panel button layout  and it has a great feature set  ', 'i have a dvd burner on my computer and a zillion mp3s  and it s a lot nicer to access them 45 gb at a time  dvdr  than 07 gb at a time  cdr   ', 'at doublespeed  2x forward speed   it still plays mp3s with sound  they are pitchcorrected and smooth  but twice as fast  ', 'there are funny little ridges on the dvd that look like the slice of a tree trunk  ', 'have used it frequently and have had no problems  ', 'they play just about everything  but  2 and  3 died very shortly after getting them  ', 'this item broke just two weeks after i gave it to my kids for christmas  ', 'it looks great  and is loaded with features  ', 'unfortunately it turns out to be the  disposable  type  ', 'the only thing i did experience was a problem of the player freezing while playing  which i was able to clear by opening it up and blowing it out with  canned air   ', 'the two main reasons i had for getting this model were the range of disks types played and the recommendation of a friend  ', 'the fact that this model would play jpeg slideshows was a big plus for me as a visual artist  and i discovered by accident  it is not mentioned anywhere in the literature  that it will play mpeg1 files on a regular cdr data disk without vcd formatting  ', 'i also did nt like the way it displayed information way down into the screen when you are in zoom mode  ', 'it is more than 90 days and it does not show the picture no matter what i do  ', 'wo nt play a lot of discs  ', 'some movies it played yesterday  it wo nt play today  ', 'it wo nt play 80  of my movies  which are all store boughten  ', 'i bought 2 of this model for christmas presents and neither one of them work  ', 'one stopped working in february and the other in march  ', 'this has happened with several different dvd s and occasionally if we keep trying something  it will work when it did not work one time before  ', 'nothing has broken on it  and it plays all the dvds i have  ', 'unfortunately it can t play all of the dvd  ', 'we tried it out christmas night and it worked great  ', ' on here of course  also  a couple dvd s would nt play and they were new ones  ', 'unit took forever since the begiining to recognize and play discs  ', '3 months of use and it no longer recognizes anything  ', 'only used for 3 month before it s down  ', 'the entire unit was poorly crafted  ', 'after hooking the thing up  i found that it would only played less than 50  of the dvds i put in it  ', 'the dvd player just wouldt recognize them  ', 'this dvd player plays raw mpeg2 and mpeg1 videos  jpeg  wma  cdr  cdrw  dvdr  dvdrw  and of course plays dvd movies from uk i love the aiff  progressive scan feature  ', 'the cool thing about the ad2600 it plays alot of different file like mp3  wma cds  jpeg and kodak picture cds  dvd s  dvd    r s  ', 'i ve tried playing all of these discs and they all play great  ', 'i was surprised to find that not only could this dvd player play mpeg2 format which allowed me to stack 2 movies on a dvd  but it also was able to play vob files which i created with smart ripper  ', 'i was surprised to find that not only could this dvd player play mpeg2 format which allowed me to stack 2 movies on a dvd  but it also was able to play vob files which i created with smart ripper  ', 'it plays all my backups   or   and everything else i have put in it without a hick up  ', 'well worth the money  ', 'i am very pleased with the apex ad2600it plays just about anything you put in the drawer  ', 'i can t speak to its longterm reliability  as i ve only had the apex ad2600 for a little over a week at this point  ', 'but  it seems to work so well now  that i do nt anticipate any problems with it  ', 'simple to use and hook up  ', 'one big difference between the 1201 and the 2600 models is that the 2600 model is virtually silent  ', 'it wo nt play all of my movies  ', 'keeps coming up with no disk errors  ', 'each of the 4 lasted less than six months  ', 'this player has worked flawlessly for me and at this price  you can t go wrong  ', 'i have sent my ad2600 back to apex because it wo nt play certain disney and other dvd movies  no disc message   ', 'it plays basically every media i ve tested so far  even an old vcd that i ripped years ago and the rental dvd that could nt be played on my old  200 sharp player  ', 'hope the unit lasts as i ve only had it for 3 days  ', 'and the slim formfactor together with the mirrorlike front panel sure makes the player look cool and pricey  ', 'and the slim formfactor together with the mirrorlike front panel sure makes the player look cool and pricey  ', 'one bad thing though  i find the remotecontrol a bit flimsy and i predict it will most probably  die  before the player does  ', 'the first one would nt work from the start  ', 'but about 25  of dvd s i ve played on ithave a problem  when watching a movie the picture will freeze  but the dvd still plays  and eventualy the picture kicks back in after skipping a few moments  ', 'we have had this product for over a month and yesterday it stopped working  ', 'i would have rated it five stars but for the poor manual  ', 'it worked from 1226 to 19 at which time the picture failed completely  see other negative reviewsmy unit was nt the only one this happened to   ', 'it only read the dvds 10  of the time  otherwise i would get a no disc screen  ', 'seems to read most dvds fine  and reads quietly  i had a pioneer player that had fairly loud disc spin noise   ', 'seems to read most dvds fine  and reads quietly  i had a pioneer player that had fairly loud disc spin noise   ', 'also  i have not had trouble reading svcds that i created and vbr mp3 cds  my old apex ad1200 had trouble with these   ', 'i ve had this player for several months and it reads most discs  but it would not recognize several discs that were clean and read on other players  from friends season 2   ', 'i ve had this player for several months and it reads most discs  but it would not recognize several discs that were clean and read on other players  from friends season 2   ', 'my other gripe is the incredibly crappy remote  which is worse than other  cheaper apex units  ', 'i checked out the amazon reviews and i m pleased to say mine worked  works  fine right out of the box  ', 'looks ok  very shiny chrome and mirrors  ', 'and the remote is cheap and cheasy  not sure how long it ll last  but for 50 bucks what the heck  ', 'and the remote is cheap and cheasy  not sure how long it ll last  but for 50 bucks what the heck  ', 'this thing plays everything i feed it  ', 'when i 1st tried it i found that it had no problem playing the more expensive dvd  r media disc s that other players would play but to my surprise was able to play cheep media that i had burned that i could nt get to work before in anything but the dvd burner itself that i had made the disc with  ', 'easy to use  small form factor  and looks good to boot  ', 'easy to use  small form factor  and looks good to boot  ', 'after about an hour it starts skipping like the dvd s are dirty  ', 'it has never worked  ', 'i ve attempted to connect this unit to several different tvs  using a multitude of connection methods  and i still can t get a video signal from the machine  ', 'the most recent is that it will stop responding to the onoff button  ', '34 way through the first disk we played on it  naturally on 31 days after purchase  the dvd player froze  ', 'now it will not load any disk or just says that there is no disk  ', 'after using it for just a month  i could not play any dvd  ', 'one of the dvd s i received as a christmas present kept freezing  ', 'some dvd s i rented would not play  ', 'the prior one looked and felt lightweight  cheesy  and assembled by the oppressed  ', 'the prior one looked and felt lightweight  cheesy  and assembled by the oppressed  ', 'without a doubt the finest looking apex dvd player that i ve seen  ', 'as a whole  the dvd player has a sleek design and works fine  ', 'what disappointed me is the fact that it does not seem to read certain dvds  ', 'for example  i tried playing my new  pirates of the carribean  extra features dvd  but this dvd player can not read it  ', 'this player seems to work fine with everything else  ', 'so i do nt understand why it would not work with dvds that seem to have more features in them  ', 'this has so many capabilities that you ll always have room for new technologies as they evolve  ', 'so much packed in a small case and very affordable  ', 'so much packed in a small case and very affordable  ', 'unit worked great for 3 weeks then video output failed  ', 'it s a compact  attractive machine and was easy to set up  ', 'it s a compact  attractive machine and was easy to set up  ', 'it s a compact  attractive machine and was easy to set up  ', 'the catch is that  while it plays movies just fine  it has refused to read second discs with the movie  extras  on them on the two occaisions when i tried to do that  ', 'it works well enough  so far  for me to be satisfied with it  and it s possible that i m missing something  ', 'so far the dvd works so i hope it does nt break down like the reviews i ve read  ', 'it works great  ', 'the unit seems to play all formats that i have put in it  jpeg  kodak pic s and dvdr  i have read other reviews and some good and soom not so good  but my feeling at this time is  two thumbs up   ', 'i bought this thing because it plays everything  ', 'forget about the sleek looks if it can t play some of your real dvds ', 'i bought the 2600 because it plays everything  ', 'so now it still plays everything  you just can t see it  ', 'the first one we installed did nt work  and our kids were devastated to say the least  ', 'it seems to be working fine  but we ve not used it all that much  ', 'the player looked good right out of the box  offering lots of features and good styling  ', 'when i tried to install the second dvd player in my brothers house  that one didn  t work either  ', 'what can i say  i bought the ad600 2 years ago and it was probly the best dvd player ever  quality design  stable  plus it uses a standard ide interface so you can use an old dvd drive from your computer if the player dies  ', 'the ad1600 did nt work corectly from the start and the ad1220 lasted about a week and a half before it started to act up  ', 'it does play a wide range of formats as advertised which is very nice  ', 'the machine is very light and slim and fits nicely into my tv stand  ', 'the machine is very light and slim and fits nicely into my tv stand  ', 'the machine is very light and slim and fits nicely into my tv stand  ', 'even if i had paid full price i would have considered this a good deal  ', 'we tried the  finding nemo  dvd and when we got to  chapter 28  the frames started to freeze for no reason  ', 'i can t rate it one star only because when it does work it s pretty good  ', 'the player kept displaying  no disc   so i tried the disc in another machine and sure as     ', 'it worked  ', 'it plays everything  even vcd s  ', 'if only it played stand alone avi files  ', '1  frame freezes and the family yells   dad  somethings wrong with the dvd player  come quick   ', '4  it did play my jpeg photos but wow  trying to figure it out was really something  ', 'one still works fine  the other quit after one day  ', 'one still works fine  the other quit after one day  ', 'it seems to be a little slow when identifying a new disc that s inserted  maybe 10 seconds of wait  ', 'seemed like a good deal  but this pos frequently cannot recognize dvds and music cds  takes a long time loading and then concludes   no disc   ', 'seemed like a good deal  but this pos frequently cannot recognize dvds and music cds  takes a long time loading and then concludes   no disc   ', 'first  the player did not allow me to access the menus of dvds  ', 'the remote is flimsyfeeling and awkward to use  ', 'the player does seem to play dvds adequately enough  ', 'it played only one out of three dvd s without problems  the other two being afflicted by a number of glitches  ', 'one also exhibited extremely slow speed when going to the menu  ', 'i was impressed by this very inexpensive playerfor the first three hours  and then it died  ', 'i looked into buying an inexpensive dvd player that had more than the standard set of features and this item seemed to be the best in that category  ', 'still  i was willing to overlook those things as this unit looks sleek and has a myriad of features  ', 'i try navigating to a chapter past 34 via the menu and it would nt do it  ', 'i try navigating using the player s built in menu  and it still would nt work  ', 'unfortunately  the player would not read any of my region one dvds even though they were not damaged in any way  ', 'ability to play most discs  i tried dvd  vcd  dvdr  audio cd and it played all ', 'good looks ', 'also  very light and portable  ', 'also  very light and portable  ', 'it will read and play all cd audio disc  ', 'it will read and play all cd audio disc  ', 'i bought the apex ad2600 because of the ability to play jpegs and it seemed like it was the most bang for the buck  ', 'it does not only have difficulty playing jpegs  it even has trouble properly playing dvd movies  ', 'it plays original dvds and cds and plays mp3s and jpegs  ', 'however  it does not play windows media and i can not get it to play any of my divx rips  ', 'i guess that i can not complain since it does not actually claim to play vcd  svcd formats  but others say they can  ', 'bought this player after reading the reviews here which identify it as reading most formats including dvd  rw s and vcd s  ', 'it did play a dvdr which was unplayable in my older philips machine  ', 'it looks really sleek and stylish  and does everything it claims  ', 'i tried as bunch of different formats to see if it would play and it did  ', 'noiseless  lightweight and oh yeah  ', 'noiseless  lightweight and oh yeah  ', 'works great  ', 'it plays just about any format  check before you buy if it plays yours   ', 'if it can fit in the drive bay  this dvd player will play it  ', 'for instance  i made several backups of my dvd movies using dvdr  w  and  r  w  and it plays the dvds  ']\n"
     ]
    }
   ],
   "source": [
    "# Removing punctuation marks from each sentence in the list\n",
    "\n",
    "import string\n",
    "\n",
    "clean_sentences = [''.join(char for char in sentence if char not in string.punctuation) for sentence in X]\n",
    "\n",
    "# print the clean sentences\n",
    "print(clean_sentences)       "
   ]
  },
  {
   "cell_type": "code",
   "execution_count": 15,
   "id": "9b308a4c",
   "metadata": {},
   "outputs": [
    {
     "name": "stdout",
     "output_type": "stream",
     "text": [
      "['it', 'practically', 'plays', 'almost', 'everything', 'you', 'give', 'it', 'i', 've', 'had', 'the', 'player', 'for', 'about', '2', 'years', 'now', 'and', 'it', 'still', 'performs', 'nicely', 'with', 'the', 'exception', 'of', 'an', 'occasional', 'wwhhhrrr', 'sound', 'from', 'the', 'motor', 'it', 's', 'very', 'sleek', 'looking', 'with', 'a', 'very', 'good', 'front', 'panel', 'button', 'layout', 'and', 'it', 'has', 'a', 'great', 'feature', 'set', 'i', 'have', 'a', 'dvd', 'burner', 'on', 'my', 'computer', 'and', 'a', 'zillion', 'mp3s', 'and', 'it', 's', 'a', 'lot', 'nicer', 'to', 'access', 'them', '45', 'gb', 'at', 'a', 'time', 'dvdr', 'than', '07', 'gb', 'at', 'a', 'time', 'cdr', 'at', 'doublespeed', '2x', 'forward', 'speed', 'it', 'still', 'plays', 'mp3s', 'with', 'sound', 'they', 'are', 'pitchcorrected', 'and', 'smooth', 'but', 'twice', 'as', 'fast', 'there', 'are', 'funny', 'little', 'ridges', 'on', 'the', 'dvd', 'that', 'look', 'like', 'the', 'slice', 'of', 'a', 'tree', 'trunk', 'have', 'used', 'it', 'frequently', 'and', 'have', 'had', 'no', 'problems', 'they', 'play', 'just', 'about', 'everything', 'but', '2', 'and', '3', 'died', 'very', 'shortly', 'after', 'getting', 'them', 'this', 'item', 'broke', 'just', 'two', 'weeks', 'after', 'i', 'gave', 'it', 'to', 'my', 'kids', 'for', 'christmas', 'it', 'looks', 'great', 'and', 'is', 'loaded', 'with', 'features', 'unfortunately', 'it', 'turns', 'out', 'to', 'be', 'the', 'disposable', 'type', 'the', 'only', 'thing', 'i', 'did', 'experience', 'was', 'a', 'problem', 'of', 'the', 'player', 'freezing', 'while', 'playing', 'which', 'i', 'was', 'able', 'to', 'clear', 'by', 'opening', 'it', 'up', 'and', 'blowing', 'it', 'out', 'with', 'canned', 'air', 'the', 'two', 'main', 'reasons', 'i', 'had', 'for', 'getting', 'this', 'model', 'were', 'the', 'range', 'of', 'disks', 'types', 'played', 'and', 'the', 'recommendation', 'of', 'a', 'friend', 'the', 'fact', 'that', 'this', 'model', 'would', 'play', 'jpeg', 'slideshows', 'was', 'a', 'big', 'plus', 'for', 'me', 'as', 'a', 'visual', 'artist', 'and', 'i', 'discovered', 'by', 'accident', 'it', 'is', 'not', 'mentioned', 'anywhere', 'in', 'the', 'literature', 'that', 'it', 'will', 'play', 'mpeg1', 'files', 'on', 'a', 'regular', 'cdr', 'data', 'disk', 'without', 'vcd', 'formatting', 'i', 'also', 'did', 'nt', 'like', 'the', 'way', 'it', 'displayed', 'information', 'way', 'down', 'into', 'the', 'screen', 'when', 'you', 'are', 'in', 'zoom', 'mode', 'it', 'is', 'more', 'than', '90', 'days', 'and', 'it', 'does', 'not', 'show', 'the', 'picture', 'no', 'matter', 'what', 'i', 'do', 'wo', 'nt', 'play', 'a', 'lot', 'of', 'discs', 'some', 'movies', 'it', 'played', 'yesterday', 'it', 'wo', 'nt', 'play', 'today', 'it', 'wo', 'nt', 'play', '80', 'of', 'my', 'movies', 'which', 'are', 'all', 'store', 'boughten', 'i', 'bought', '2', 'of', 'this', 'model', 'for', 'christmas', 'presents', 'and', 'neither', 'one', 'of', 'them', 'work', 'one', 'stopped', 'working', 'in', 'february', 'and', 'the', 'other', 'in', 'march', 'this', 'has', 'happened', 'with', 'several', 'different', 'dvd', 's', 'and', 'occasionally', 'if', 'we', 'keep', 'trying', 'something', 'it', 'will', 'work', 'when', 'it', 'did', 'not', 'work', 'one', 'time', 'before', 'nothing', 'has', 'broken', 'on', 'it', 'and', 'it', 'plays', 'all', 'the', 'dvds', 'i', 'have', 'unfortunately', 'it', 'can', 't', 'play', 'all', 'of', 'the', 'dvd', 'we', 'tried', 'it', 'out', 'christmas', 'night', 'and', 'it', 'worked', 'great', 'on', 'here', 'of', 'course', 'also', 'a', 'couple', 'dvd', 's', 'would', 'nt', 'play', 'and', 'they', 'were', 'new', 'ones', 'unit', 'took', 'forever', 'since', 'the', 'begiining', 'to', 'recognize', 'and', 'play', 'discs', '3', 'months', 'of', 'use', 'and', 'it', 'no', 'longer', 'recognizes', 'anything', 'only', 'used', 'for', '3', 'month', 'before', 'it', 's', 'down', 'the', 'entire', 'unit', 'was', 'poorly', 'crafted', 'after', 'hooking', 'the', 'thing', 'up', 'i', 'found', 'that', 'it', 'would', 'only', 'played', 'less', 'than', '50', 'of', 'the', 'dvds', 'i', 'put', 'in', 'it', 'the', 'dvd', 'player', 'just', 'wouldt', 'recognize', 'them', 'this', 'dvd', 'player', 'plays', 'raw', 'mpeg2', 'and', 'mpeg1', 'videos', 'jpeg', 'wma', 'cdr', 'cdrw', 'dvdr', 'dvdrw', 'and', 'of', 'course', 'plays', 'dvd', 'movies', 'from', 'uk', 'i', 'love', 'the', 'aiff', 'progressive', 'scan', 'feature', 'the', 'cool', 'thing', 'about', 'the', 'ad2600', 'it', 'plays', 'alot', 'of', 'different', 'file', 'like', 'mp3', 'wma', 'cds', 'jpeg', 'and', 'kodak', 'picture', 'cds', 'dvd', 's', 'dvd', 'r', 's', 'i', 've', 'tried', 'playing', 'all', 'of', 'these', 'discs', 'and', 'they', 'all', 'play', 'great', 'i', 'was', 'surprised', 'to', 'find', 'that', 'not', 'only', 'could', 'this', 'dvd', 'player', 'play', 'mpeg2', 'format', 'which', 'allowed', 'me', 'to', 'stack', '2', 'movies', 'on', 'a', 'dvd', 'but', 'it', 'also', 'was', 'able', 'to', 'play', 'vob', 'files', 'which', 'i', 'created', 'with', 'smart', 'ripper', 'i', 'was', 'surprised', 'to', 'find', 'that', 'not', 'only', 'could', 'this', 'dvd', 'player', 'play', 'mpeg2', 'format', 'which', 'allowed', 'me', 'to', 'stack', '2', 'movies', 'on', 'a', 'dvd', 'but', 'it', 'also', 'was', 'able', 'to', 'play', 'vob', 'files', 'which', 'i', 'created', 'with', 'smart', 'ripper', 'it', 'plays', 'all', 'my', 'backups', 'or', 'and', 'everything', 'else', 'i', 'have', 'put', 'in', 'it', 'without', 'a', 'hick', 'up', 'well', 'worth', 'the', 'money', 'i', 'am', 'very', 'pleased', 'with', 'the', 'apex', 'ad2600it', 'plays', 'just', 'about', 'anything', 'you', 'put', 'in', 'the', 'drawer', 'i', 'can', 't', 'speak', 'to', 'its', 'longterm', 'reliability', 'as', 'i', 've', 'only', 'had', 'the', 'apex', 'ad2600', 'for', 'a', 'little', 'over', 'a', 'week', 'at', 'this', 'point', 'but', 'it', 'seems', 'to', 'work', 'so', 'well', 'now', 'that', 'i', 'do', 'nt', 'anticipate', 'any', 'problems', 'with', 'it', 'simple', 'to', 'use', 'and', 'hook', 'up', 'one', 'big', 'difference', 'between', 'the', '1201', 'and', 'the', '2600', 'models', 'is', 'that', 'the', '2600', 'model', 'is', 'virtually', 'silent', 'it', 'wo', 'nt', 'play', 'all', 'of', 'my', 'movies', 'keeps', 'coming', 'up', 'with', 'no', 'disk', 'errors', 'each', 'of', 'the', '4', 'lasted', 'less', 'than', 'six', 'months', 'this', 'player', 'has', 'worked', 'flawlessly', 'for', 'me', 'and', 'at', 'this', 'price', 'you', 'can', 't', 'go', 'wrong', 'i', 'have', 'sent', 'my', 'ad2600', 'back', 'to', 'apex', 'because', 'it', 'wo', 'nt', 'play', 'certain', 'disney', 'and', 'other', 'dvd', 'movies', 'no', 'disc', 'message', 'it', 'plays', 'basically', 'every', 'media', 'i', 've', 'tested', 'so', 'far', 'even', 'an', 'old', 'vcd', 'that', 'i', 'ripped', 'years', 'ago', 'and', 'the', 'rental', 'dvd', 'that', 'could', 'nt', 'be', 'played', 'on', 'my', 'old', '200', 'sharp', 'player', 'hope', 'the', 'unit', 'lasts', 'as', 'i', 've', 'only', 'had', 'it', 'for', '3', 'days', 'and', 'the', 'slim', 'formfactor', 'together', 'with', 'the', 'mirrorlike', 'front', 'panel', 'sure', 'makes', 'the', 'player', 'look', 'cool', 'and', 'pricey', 'and', 'the', 'slim', 'formfactor', 'together', 'with', 'the', 'mirrorlike', 'front', 'panel', 'sure', 'makes', 'the', 'player', 'look', 'cool', 'and', 'pricey', 'one', 'bad', 'thing', 'though', 'i', 'find', 'the', 'remotecontrol', 'a', 'bit', 'flimsy', 'and', 'i', 'predict', 'it', 'will', 'most', 'probably', 'die', 'before', 'the', 'player', 'does', 'the', 'first', 'one', 'would', 'nt', 'work', 'from', 'the', 'start', 'but', 'about', '25', 'of', 'dvd', 's', 'i', 've', 'played', 'on', 'ithave', 'a', 'problem', 'when', 'watching', 'a', 'movie', 'the', 'picture', 'will', 'freeze', 'but', 'the', 'dvd', 'still', 'plays', 'and', 'eventualy', 'the', 'picture', 'kicks', 'back', 'in', 'after', 'skipping', 'a', 'few', 'moments', 'we', 'have', 'had', 'this', 'product', 'for', 'over', 'a', 'month', 'and', 'yesterday', 'it', 'stopped', 'working', 'i', 'would', 'have', 'rated', 'it', 'five', 'stars', 'but', 'for', 'the', 'poor', 'manual', 'it', 'worked', 'from', '1226', 'to', '19', 'at', 'which', 'time', 'the', 'picture', 'failed', 'completely', 'see', 'other', 'negative', 'reviewsmy', 'unit', 'was', 'nt', 'the', 'only', 'one', 'this', 'happened', 'to', 'it', 'only', 'read', 'the', 'dvds', '10', 'of', 'the', 'time', 'otherwise', 'i', 'would', 'get', 'a', 'no', 'disc', 'screen', 'seems', 'to', 'read', 'most', 'dvds', 'fine', 'and', 'reads', 'quietly', 'i', 'had', 'a', 'pioneer', 'player', 'that', 'had', 'fairly', 'loud', 'disc', 'spin', 'noise', 'seems', 'to', 'read', 'most', 'dvds', 'fine', 'and', 'reads', 'quietly', 'i', 'had', 'a', 'pioneer', 'player', 'that', 'had', 'fairly', 'loud', 'disc', 'spin', 'noise', 'also', 'i', 'have', 'not', 'had', 'trouble', 'reading', 'svcds', 'that', 'i', 'created', 'and', 'vbr', 'mp3', 'cds', 'my', 'old', 'apex', 'ad1200', 'had', 'trouble', 'with', 'these', 'i', 've', 'had', 'this', 'player', 'for', 'several', 'months', 'and', 'it', 'reads', 'most', 'discs', 'but', 'it', 'would', 'not', 'recognize', 'several', 'discs', 'that', 'were', 'clean', 'and', 'read', 'on', 'other', 'players', 'from', 'friends', 'season', '2', 'i', 've', 'had', 'this', 'player', 'for', 'several', 'months', 'and', 'it', 'reads', 'most', 'discs', 'but', 'it', 'would', 'not', 'recognize', 'several', 'discs', 'that', 'were', 'clean', 'and', 'read', 'on', 'other', 'players', 'from', 'friends', 'season', '2', 'my', 'other', 'gripe', 'is', 'the', 'incredibly', 'crappy', 'remote', 'which', 'is', 'worse', 'than', 'other', 'cheaper', 'apex', 'units', 'i', 'checked', 'out', 'the', 'amazon', 'reviews', 'and', 'i', 'm', 'pleased', 'to', 'say', 'mine', 'worked', 'works', 'fine', 'right', 'out', 'of', 'the', 'box', 'looks', 'ok', 'very', 'shiny', 'chrome', 'and', 'mirrors', 'and', 'the', 'remote', 'is', 'cheap', 'and', 'cheasy', 'not', 'sure', 'how', 'long', 'it', 'll', 'last', 'but', 'for', '50', 'bucks', 'what', 'the', 'heck', 'and', 'the', 'remote', 'is', 'cheap', 'and', 'cheasy', 'not', 'sure', 'how', 'long', 'it', 'll', 'last', 'but', 'for', '50', 'bucks', 'what', 'the', 'heck', 'this', 'thing', 'plays', 'everything', 'i', 'feed', 'it', 'when', 'i', '1st', 'tried', 'it', 'i', 'found', 'that', 'it', 'had', 'no', 'problem', 'playing', 'the', 'more', 'expensive', 'dvd', 'r', 'media', 'disc', 's', 'that', 'other', 'players', 'would', 'play', 'but', 'to', 'my', 'surprise', 'was', 'able', 'to', 'play', 'cheep', 'media', 'that', 'i', 'had', 'burned', 'that', 'i', 'could', 'nt', 'get', 'to', 'work', 'before', 'in', 'anything', 'but', 'the', 'dvd', 'burner', 'itself', 'that', 'i', 'had', 'made', 'the', 'disc', 'with', 'easy', 'to', 'use', 'small', 'form', 'factor', 'and', 'looks', 'good', 'to', 'boot', 'easy', 'to', 'use', 'small', 'form', 'factor', 'and', 'looks', 'good', 'to', 'boot', 'after', 'about', 'an', 'hour', 'it', 'starts', 'skipping', 'like', 'the', 'dvd', 's', 'are', 'dirty', 'it', 'has', 'never', 'worked', 'i', 've', 'attempted', 'to', 'connect', 'this', 'unit', 'to', 'several', 'different', 'tvs', 'using', 'a', 'multitude', 'of', 'connection', 'methods', 'and', 'i', 'still', 'can', 't', 'get', 'a', 'video', 'signal', 'from', 'the', 'machine', 'the', 'most', 'recent', 'is', 'that', 'it', 'will', 'stop', 'responding', 'to', 'the', 'onoff', 'button', '34', 'way', 'through', 'the', 'first', 'disk', 'we', 'played', 'on', 'it', 'naturally', 'on', '31', 'days', 'after', 'purchase', 'the', 'dvd', 'player', 'froze', 'now', 'it', 'will', 'not', 'load', 'any', 'disk', 'or', 'just', 'says', 'that', 'there', 'is', 'no', 'disk', 'after', 'using', 'it', 'for', 'just', 'a', 'month', 'i', 'could', 'not', 'play', 'any', 'dvd', 'one', 'of', 'the', 'dvd', 's', 'i', 'received', 'as', 'a', 'christmas', 'present', 'kept', 'freezing', 'some', 'dvd', 's', 'i', 'rented', 'would', 'not', 'play', 'the', 'prior', 'one', 'looked', 'and', 'felt', 'lightweight', 'cheesy', 'and', 'assembled', 'by', 'the', 'oppressed', 'the', 'prior', 'one', 'looked', 'and', 'felt', 'lightweight', 'cheesy', 'and', 'assembled', 'by', 'the', 'oppressed', 'without', 'a', 'doubt', 'the', 'finest', 'looking', 'apex', 'dvd', 'player', 'that', 'i', 've', 'seen', 'as', 'a', 'whole', 'the', 'dvd', 'player', 'has', 'a', 'sleek', 'design', 'and', 'works', 'fine', 'what', 'disappointed', 'me', 'is', 'the', 'fact', 'that', 'it', 'does', 'not', 'seem', 'to', 'read', 'certain', 'dvds', 'for', 'example', 'i', 'tried', 'playing', 'my', 'new', 'pirates', 'of', 'the', 'carribean', 'extra', 'features', 'dvd', 'but', 'this', 'dvd', 'player', 'can', 'not', 'read', 'it', 'this', 'player', 'seems', 'to', 'work', 'fine', 'with', 'everything', 'else', 'so', 'i', 'do', 'nt', 'understand', 'why', 'it', 'would', 'not', 'work', 'with', 'dvds', 'that', 'seem', 'to', 'have', 'more', 'features', 'in', 'them', 'this', 'has', 'so', 'many', 'capabilities', 'that', 'you', 'll', 'always', 'have', 'room', 'for', 'new', 'technologies', 'as', 'they', 'evolve', 'so', 'much', 'packed', 'in', 'a', 'small', 'case', 'and', 'very', 'affordable', 'so', 'much', 'packed', 'in', 'a', 'small', 'case', 'and', 'very', 'affordable', 'unit', 'worked', 'great', 'for', '3', 'weeks', 'then', 'video', 'output', 'failed', 'it', 's', 'a', 'compact', 'attractive', 'machine', 'and', 'was', 'easy', 'to', 'set', 'up', 'it', 's', 'a', 'compact', 'attractive', 'machine', 'and', 'was', 'easy', 'to', 'set', 'up', 'it', 's', 'a', 'compact', 'attractive', 'machine', 'and', 'was', 'easy', 'to', 'set', 'up', 'the', 'catch', 'is', 'that', 'while', 'it', 'plays', 'movies', 'just', 'fine', 'it', 'has', 'refused', 'to', 'read', 'second', 'discs', 'with', 'the', 'movie', 'extras', 'on', 'them', 'on', 'the', 'two', 'occaisions', 'when', 'i', 'tried', 'to', 'do', 'that', 'it', 'works', 'well', 'enough', 'so', 'far', 'for', 'me', 'to', 'be', 'satisfied', 'with', 'it', 'and', 'it', 's', 'possible', 'that', 'i', 'm', 'missing', 'something', 'so', 'far', 'the', 'dvd', 'works', 'so', 'i', 'hope', 'it', 'does', 'nt', 'break', 'down', 'like', 'the', 'reviews', 'i', 've', 'read', 'it', 'works', 'great', 'the', 'unit', 'seems', 'to', 'play', 'all', 'formats', 'that', 'i', 'have', 'put', 'in', 'it', 'jpeg', 'kodak', 'pic', 's', 'and', 'dvdr', 'i', 'have', 'read', 'other', 'reviews', 'and', 'some', 'good', 'and', 'soom', 'not', 'so', 'good', 'but', 'my', 'feeling', 'at', 'this', 'time', 'is', 'two', 'thumbs', 'up', 'i', 'bought', 'this', 'thing', 'because', 'it', 'plays', 'everything', 'forget', 'about', 'the', 'sleek', 'looks', 'if', 'it', 'can', 't', 'play', 'some', 'of', 'your', 'real', 'dvds', 'i', 'bought', 'the', '2600', 'because', 'it', 'plays', 'everything', 'so', 'now', 'it', 'still', 'plays', 'everything', 'you', 'just', 'can', 't', 'see', 'it', 'the', 'first', 'one', 'we', 'installed', 'did', 'nt', 'work', 'and', 'our', 'kids', 'were', 'devastated', 'to', 'say', 'the', 'least', 'it', 'seems', 'to', 'be', 'working', 'fine', 'but', 'we', 've', 'not', 'used', 'it', 'all', 'that', 'much', 'the', 'player', 'looked', 'good', 'right', 'out', 'of', 'the', 'box', 'offering', 'lots', 'of', 'features', 'and', 'good', 'styling', 'when', 'i', 'tried', 'to', 'install', 'the', 'second', 'dvd', 'player', 'in', 'my', 'brothers', 'house', 'that', 'one', 'didn', 't', 'work', 'either', 'what', 'can', 'i', 'say', 'i', 'bought', 'the', 'ad600', '2', 'years', 'ago', 'and', 'it', 'was', 'probly', 'the', 'best', 'dvd', 'player', 'ever', 'quality', 'design', 'stable', 'plus', 'it', 'uses', 'a', 'standard', 'ide', 'interface', 'so', 'you', 'can', 'use', 'an', 'old', 'dvd', 'drive', 'from', 'your', 'computer', 'if', 'the', 'player', 'dies', 'the', 'ad1600', 'did', 'nt', 'work', 'corectly', 'from', 'the', 'start', 'and', 'the', 'ad1220', 'lasted', 'about', 'a', 'week', 'and', 'a', 'half', 'before', 'it', 'started', 'to', 'act', 'up', 'it', 'does', 'play', 'a', 'wide', 'range', 'of', 'formats', 'as', 'advertised', 'which', 'is', 'very', 'nice', 'the', 'machine', 'is', 'very', 'light', 'and', 'slim', 'and', 'fits', 'nicely', 'into', 'my', 'tv', 'stand', 'the', 'machine', 'is', 'very', 'light', 'and', 'slim', 'and', 'fits', 'nicely', 'into', 'my', 'tv', 'stand', 'the', 'machine', 'is', 'very', 'light', 'and', 'slim', 'and', 'fits', 'nicely', 'into', 'my', 'tv', 'stand', 'even', 'if', 'i', 'had', 'paid', 'full', 'price', 'i', 'would', 'have', 'considered', 'this', 'a', 'good', 'deal', 'we', 'tried', 'the', 'finding', 'nemo', 'dvd', 'and', 'when', 'we', 'got', 'to', 'chapter', '28', 'the', 'frames', 'started', 'to', 'freeze', 'for', 'no', 'reason', 'i', 'can', 't', 'rate', 'it', 'one', 'star', 'only', 'because', 'when', 'it', 'does', 'work', 'it', 's', 'pretty', 'good', 'the', 'player', 'kept', 'displaying', 'no', 'disc', 'so', 'i', 'tried', 'the', 'disc', 'in', 'another', 'machine', 'and', 'sure', 'as', 'it', 'worked', 'it', 'plays', 'everything', 'even', 'vcd', 's', 'if', 'only', 'it', 'played', 'stand', 'alone', 'avi', 'files', '1', 'frame', 'freezes', 'and', 'the', 'family', 'yells', 'dad', 'somethings', 'wrong', 'with', 'the', 'dvd', 'player', 'come', 'quick', '4', 'it', 'did', 'play', 'my', 'jpeg', 'photos', 'but', 'wow', 'trying', 'to', 'figure', 'it', 'out', 'was', 'really', 'something', 'one', 'still', 'works', 'fine', 'the', 'other', 'quit', 'after', 'one', 'day', 'one', 'still', 'works', 'fine', 'the', 'other', 'quit', 'after', 'one', 'day', 'it', 'seems', 'to', 'be', 'a', 'little', 'slow', 'when', 'identifying', 'a', 'new', 'disc', 'that', 's', 'inserted', 'maybe', '10', 'seconds', 'of', 'wait', 'seemed', 'like', 'a', 'good', 'deal', 'but', 'this', 'pos', 'frequently', 'cannot', 'recognize', 'dvds', 'and', 'music', 'cds', 'takes', 'a', 'long', 'time', 'loading', 'and', 'then', 'concludes', 'no', 'disc', 'seemed', 'like', 'a', 'good', 'deal', 'but', 'this', 'pos', 'frequently', 'cannot', 'recognize', 'dvds', 'and', 'music', 'cds', 'takes', 'a', 'long', 'time', 'loading', 'and', 'then', 'concludes', 'no', 'disc', 'first', 'the', 'player', 'did', 'not', 'allow', 'me', 'to', 'access', 'the', 'menus', 'of', 'dvds', 'the', 'remote', 'is', 'flimsyfeeling', 'and', 'awkward', 'to', 'use', 'the', 'player', 'does', 'seem', 'to', 'play', 'dvds', 'adequately', 'enough', 'it', 'played', 'only', 'one', 'out', 'of', 'three', 'dvd', 's', 'without', 'problems', 'the', 'other', 'two', 'being', 'afflicted', 'by', 'a', 'number', 'of', 'glitches', 'one', 'also', 'exhibited', 'extremely', 'slow', 'speed', 'when', 'going', 'to', 'the', 'menu', 'i', 'was', 'impressed', 'by', 'this', 'very', 'inexpensive', 'playerfor', 'the', 'first', 'three', 'hours', 'and', 'then', 'it', 'died', 'i', 'looked', 'into', 'buying', 'an', 'inexpensive', 'dvd', 'player', 'that', 'had', 'more', 'than', 'the', 'standard', 'set', 'of', 'features', 'and', 'this', 'item', 'seemed', 'to', 'be', 'the', 'best', 'in', 'that', 'category', 'still', 'i', 'was', 'willing', 'to', 'overlook', 'those', 'things', 'as', 'this', 'unit', 'looks', 'sleek', 'and', 'has', 'a', 'myriad', 'of', 'features', 'i', 'try', 'navigating', 'to', 'a', 'chapter', 'past', '34', 'via', 'the', 'menu', 'and', 'it', 'would', 'nt', 'do', 'it', 'i', 'try', 'navigating', 'using', 'the', 'player', 's', 'built', 'in', 'menu', 'and', 'it', 'still', 'would', 'nt', 'work', 'unfortunately', 'the', 'player', 'would', 'not', 'read', 'any', 'of', 'my', 'region', 'one', 'dvds', 'even', 'though', 'they', 'were', 'not', 'damaged', 'in', 'any', 'way', 'ability', 'to', 'play', 'most', 'discs', 'i', 'tried', 'dvd', 'vcd', 'dvdr', 'audio', 'cd', 'and', 'it', 'played', 'all', 'good', 'looks', 'also', 'very', 'light', 'and', 'portable', 'also', 'very', 'light', 'and', 'portable', 'it', 'will', 'read', 'and', 'play', 'all', 'cd', 'audio', 'disc', 'it', 'will', 'read', 'and', 'play', 'all', 'cd', 'audio', 'disc', 'i', 'bought', 'the', 'apex', 'ad2600', 'because', 'of', 'the', 'ability', 'to', 'play', 'jpegs', 'and', 'it', 'seemed', 'like', 'it', 'was', 'the', 'most', 'bang', 'for', 'the', 'buck', 'it', 'does', 'not', 'only', 'have', 'difficulty', 'playing', 'jpegs', 'it', 'even', 'has', 'trouble', 'properly', 'playing', 'dvd', 'movies', 'it', 'plays', 'original', 'dvds', 'and', 'cds', 'and', 'plays', 'mp3s', 'and', 'jpegs', 'however', 'it', 'does', 'not', 'play', 'windows', 'media', 'and', 'i', 'can', 'not', 'get', 'it', 'to', 'play', 'any', 'of', 'my', 'divx', 'rips', 'i', 'guess', 'that', 'i', 'can', 'not', 'complain', 'since', 'it', 'does', 'not', 'actually', 'claim', 'to', 'play', 'vcd', 'svcd', 'formats', 'but', 'others', 'say', 'they', 'can', 'bought', 'this', 'player', 'after', 'reading', 'the', 'reviews', 'here', 'which', 'identify', 'it', 'as', 'reading', 'most', 'formats', 'including', 'dvd', 'rw', 's', 'and', 'vcd', 's', 'it', 'did', 'play', 'a', 'dvdr', 'which', 'was', 'unplayable', 'in', 'my', 'older', 'philips', 'machine', 'it', 'looks', 'really', 'sleek', 'and', 'stylish', 'and', 'does', 'everything', 'it', 'claims', 'i', 'tried', 'as', 'bunch', 'of', 'different', 'formats', 'to', 'see', 'if', 'it', 'would', 'play', 'and', 'it', 'did', 'noiseless', 'lightweight', 'and', 'oh', 'yeah', 'noiseless', 'lightweight', 'and', 'oh', 'yeah', 'works', 'great', 'it', 'plays', 'just', 'about', 'any', 'format', 'check', 'before', 'you', 'buy', 'if', 'it', 'plays', 'yours', 'if', 'it', 'can', 'fit', 'in', 'the', 'drive', 'bay', 'this', 'dvd', 'player', 'will', 'play', 'it', 'for', 'instance', 'i', 'made', 'several', 'backups', 'of', 'my', 'dvd', 'movies', 'using', 'dvdr', 'w', 'and', 'r', 'w', 'and', 'it', 'plays', 'the', 'dvds']\n"
     ]
    }
   ],
   "source": [
    "# Create an empty list to store all the words of the corpus from the sentences(review) column\n",
    "corpus_words = []\n",
    "\n",
    "# loop over each sentence in the list\n",
    "for sentence in clean_sentences:\n",
    "    # split the sentence into words\n",
    "    sentence_words = sentence.split()\n",
    "    # loop over each word in the sentence\n",
    "    for word in sentence_words:\n",
    "        # append the word to the list\n",
    "        corpus_words.append(word.lower())    #appending the lower case of the word\n",
    "\n",
    "# print the list of words\n",
    "print(corpus_words)"
   ]
  },
  {
   "cell_type": "code",
   "execution_count": 16,
   "id": "d203d034",
   "metadata": {},
   "outputs": [
    {
     "data": {
      "text/plain": [
       "2696"
      ]
     },
     "execution_count": 16,
     "metadata": {},
     "output_type": "execute_result"
    }
   ],
   "source": [
    "len(corpus_words)"
   ]
  },
  {
   "cell_type": "code",
   "execution_count": 17,
   "id": "32fa7396",
   "metadata": {},
   "outputs": [],
   "source": [
    "#Now we will remove all the stop words and apply lemmatization on corpus_words\n",
    "# Loading the NLTK stopwords and lemmatizer\n",
    "\n",
    "stop_words = set(stopwords.words('english'))  #set() function is then used to convert the list of stop words into a set\n",
    "\n",
    "lemmatizer = WordNetLemmatizer()              #creating lemmatizer object   "
   ]
  },
  {
   "cell_type": "code",
   "execution_count": 18,
   "id": "e09e350a",
   "metadata": {},
   "outputs": [],
   "source": [
    "#Removing stopwords and non-alphabetic characters from corpus_words\n",
    "words = [word for word in corpus_words if word.isalpha() and word not in stop_words]\n",
    "\n",
    "# Lemmatize the words\n",
    "new_corpus_words = [lemmatizer.lemmatize(word) for word in words]    #converting all the tokenized words into their root form\n",
    "    "
   ]
  },
  {
   "cell_type": "code",
   "execution_count": 19,
   "id": "b2465dd5",
   "metadata": {},
   "outputs": [
    {
     "name": "stdout",
     "output_type": "stream",
     "text": [
      "['practically', 'play', 'almost', 'everything', 'give', 'player', 'year', 'still', 'performs', 'nicely', 'exception', 'occasional', 'wwhhhrrr', 'sound', 'motor', 'sleek', 'looking', 'good', 'front', 'panel', 'button', 'layout', 'great', 'feature', 'set', 'dvd', 'burner', 'computer', 'zillion', 'lot', 'nicer', 'access', 'gb', 'time', 'dvdr', 'gb', 'time', 'cdr', 'doublespeed', 'forward', 'speed', 'still', 'play', 'sound', 'pitchcorrected', 'smooth', 'twice', 'fast', 'funny', 'little', 'ridge', 'dvd', 'look', 'like', 'slice', 'tree', 'trunk', 'used', 'frequently', 'problem', 'play', 'everything', 'died', 'shortly', 'getting', 'item', 'broke', 'two', 'week', 'gave', 'kid', 'christmas', 'look', 'great', 'loaded', 'feature', 'unfortunately', 'turn', 'disposable', 'type', 'thing', 'experience', 'problem', 'player', 'freezing', 'playing', 'able', 'clear', 'opening', 'blowing', 'canned', 'air', 'two', 'main', 'reason', 'getting', 'model', 'range', 'disk', 'type', 'played', 'recommendation', 'friend', 'fact', 'model', 'would', 'play', 'jpeg', 'slideshows', 'big', 'plus', 'visual', 'artist', 'discovered', 'accident', 'mentioned', 'anywhere', 'literature', 'play', 'file', 'regular', 'cdr', 'data', 'disk', 'without', 'vcd', 'formatting', 'also', 'nt', 'like', 'way', 'displayed', 'information', 'way', 'screen', 'zoom', 'mode', 'day', 'show', 'picture', 'matter', 'wo', 'nt', 'play', 'lot', 'disc', 'movie', 'played', 'yesterday', 'wo', 'nt', 'play', 'today', 'wo', 'nt', 'play', 'movie', 'store', 'boughten', 'bought', 'model', 'christmas', 'present', 'neither', 'one', 'work', 'one', 'stopped', 'working', 'february', 'march', 'happened', 'several', 'different', 'dvd', 'occasionally', 'keep', 'trying', 'something', 'work', 'work', 'one', 'time', 'nothing', 'broken', 'play', 'dvd', 'unfortunately', 'play', 'dvd', 'tried', 'christmas', 'night', 'worked', 'great', 'course', 'also', 'couple', 'dvd', 'would', 'nt', 'play', 'new', 'one', 'unit', 'took', 'forever', 'since', 'begiining', 'recognize', 'play', 'disc', 'month', 'use', 'longer', 'recognizes', 'anything', 'used', 'month', 'entire', 'unit', 'poorly', 'crafted', 'hooking', 'thing', 'found', 'would', 'played', 'le', 'dvd', 'put', 'dvd', 'player', 'wouldt', 'recognize', 'dvd', 'player', 'play', 'raw', 'video', 'jpeg', 'wma', 'cdr', 'cdrw', 'dvdr', 'dvdrw', 'course', 'play', 'dvd', 'movie', 'uk', 'love', 'aiff', 'progressive', 'scan', 'feature', 'cool', 'thing', 'play', 'alot', 'different', 'file', 'like', 'wma', 'cd', 'jpeg', 'kodak', 'picture', 'cd', 'dvd', 'dvd', 'r', 'tried', 'playing', 'disc', 'play', 'great', 'surprised', 'find', 'could', 'dvd', 'player', 'play', 'format', 'allowed', 'stack', 'movie', 'dvd', 'also', 'able', 'play', 'vob', 'file', 'created', 'smart', 'ripper', 'surprised', 'find', 'could', 'dvd', 'player', 'play', 'format', 'allowed', 'stack', 'movie', 'dvd', 'also', 'able', 'play', 'vob', 'file', 'created', 'smart', 'ripper', 'play', 'backup', 'everything', 'else', 'put', 'without', 'hick', 'well', 'worth', 'money', 'pleased', 'apex', 'play', 'anything', 'put', 'drawer', 'speak', 'longterm', 'reliability', 'apex', 'little', 'week', 'point', 'seems', 'work', 'well', 'nt', 'anticipate', 'problem', 'simple', 'use', 'hook', 'one', 'big', 'difference', 'model', 'model', 'virtually', 'silent', 'wo', 'nt', 'play', 'movie', 'keep', 'coming', 'disk', 'error', 'lasted', 'le', 'six', 'month', 'player', 'worked', 'flawlessly', 'price', 'go', 'wrong', 'sent', 'back', 'apex', 'wo', 'nt', 'play', 'certain', 'disney', 'dvd', 'movie', 'disc', 'message', 'play', 'basically', 'every', 'medium', 'tested', 'far', 'even', 'old', 'vcd', 'ripped', 'year', 'ago', 'rental', 'dvd', 'could', 'nt', 'played', 'old', 'sharp', 'player', 'hope', 'unit', 'last', 'day', 'slim', 'formfactor', 'together', 'mirrorlike', 'front', 'panel', 'sure', 'make', 'player', 'look', 'cool', 'pricey', 'slim', 'formfactor', 'together', 'mirrorlike', 'front', 'panel', 'sure', 'make', 'player', 'look', 'cool', 'pricey', 'one', 'bad', 'thing', 'though', 'find', 'remotecontrol', 'bit', 'flimsy', 'predict', 'probably', 'die', 'player', 'first', 'one', 'would', 'nt', 'work', 'start', 'dvd', 'played', 'ithave', 'problem', 'watching', 'movie', 'picture', 'freeze', 'dvd', 'still', 'play', 'eventualy', 'picture', 'kick', 'back', 'skipping', 'moment', 'product', 'month', 'yesterday', 'stopped', 'working', 'would', 'rated', 'five', 'star', 'poor', 'manual', 'worked', 'time', 'picture', 'failed', 'completely', 'see', 'negative', 'reviewsmy', 'unit', 'nt', 'one', 'happened', 'read', 'dvd', 'time', 'otherwise', 'would', 'get', 'disc', 'screen', 'seems', 'read', 'dvd', 'fine', 'read', 'quietly', 'pioneer', 'player', 'fairly', 'loud', 'disc', 'spin', 'noise', 'seems', 'read', 'dvd', 'fine', 'read', 'quietly', 'pioneer', 'player', 'fairly', 'loud', 'disc', 'spin', 'noise', 'also', 'trouble', 'reading', 'svcds', 'created', 'vbr', 'cd', 'old', 'apex', 'trouble', 'player', 'several', 'month', 'read', 'disc', 'would', 'recognize', 'several', 'disc', 'clean', 'read', 'player', 'friend', 'season', 'player', 'several', 'month', 'read', 'disc', 'would', 'recognize', 'several', 'disc', 'clean', 'read', 'player', 'friend', 'season', 'gripe', 'incredibly', 'crappy', 'remote', 'worse', 'cheaper', 'apex', 'unit', 'checked', 'amazon', 'review', 'pleased', 'say', 'mine', 'worked', 'work', 'fine', 'right', 'box', 'look', 'ok', 'shiny', 'chrome', 'mirror', 'remote', 'cheap', 'cheasy', 'sure', 'long', 'last', 'buck', 'heck', 'remote', 'cheap', 'cheasy', 'sure', 'long', 'last', 'buck', 'heck', 'thing', 'play', 'everything', 'feed', 'tried', 'found', 'problem', 'playing', 'expensive', 'dvd', 'r', 'medium', 'disc', 'player', 'would', 'play', 'surprise', 'able', 'play', 'cheep', 'medium', 'burned', 'could', 'nt', 'get', 'work', 'anything', 'dvd', 'burner', 'made', 'disc', 'easy', 'use', 'small', 'form', 'factor', 'look', 'good', 'boot', 'easy', 'use', 'small', 'form', 'factor', 'look', 'good', 'boot', 'hour', 'start', 'skipping', 'like', 'dvd', 'dirty', 'never', 'worked', 'attempted', 'connect', 'unit', 'several', 'different', 'tv', 'using', 'multitude', 'connection', 'method', 'still', 'get', 'video', 'signal', 'machine', 'recent', 'stop', 'responding', 'onoff', 'button', 'way', 'first', 'disk', 'played', 'naturally', 'day', 'purchase', 'dvd', 'player', 'froze', 'load', 'disk', 'say', 'disk', 'using', 'month', 'could', 'play', 'dvd', 'one', 'dvd', 'received', 'christmas', 'present', 'kept', 'freezing', 'dvd', 'rented', 'would', 'play', 'prior', 'one', 'looked', 'felt', 'lightweight', 'cheesy', 'assembled', 'oppressed', 'prior', 'one', 'looked', 'felt', 'lightweight', 'cheesy', 'assembled', 'oppressed', 'without', 'doubt', 'finest', 'looking', 'apex', 'dvd', 'player', 'seen', 'whole', 'dvd', 'player', 'sleek', 'design', 'work', 'fine', 'disappointed', 'fact', 'seem', 'read', 'certain', 'dvd', 'example', 'tried', 'playing', 'new', 'pirate', 'carribean', 'extra', 'feature', 'dvd', 'dvd', 'player', 'read', 'player', 'seems', 'work', 'fine', 'everything', 'else', 'nt', 'understand', 'would', 'work', 'dvd', 'seem', 'feature', 'many', 'capability', 'always', 'room', 'new', 'technology', 'evolve', 'much', 'packed', 'small', 'case', 'affordable', 'much', 'packed', 'small', 'case', 'affordable', 'unit', 'worked', 'great', 'week', 'video', 'output', 'failed', 'compact', 'attractive', 'machine', 'easy', 'set', 'compact', 'attractive', 'machine', 'easy', 'set', 'compact', 'attractive', 'machine', 'easy', 'set', 'catch', 'play', 'movie', 'fine', 'refused', 'read', 'second', 'disc', 'movie', 'extra', 'two', 'occaisions', 'tried', 'work', 'well', 'enough', 'far', 'satisfied', 'possible', 'missing', 'something', 'far', 'dvd', 'work', 'hope', 'nt', 'break', 'like', 'review', 'read', 'work', 'great', 'unit', 'seems', 'play', 'format', 'put', 'jpeg', 'kodak', 'pic', 'dvdr', 'read', 'review', 'good', 'soom', 'good', 'feeling', 'time', 'two', 'thumb', 'bought', 'thing', 'play', 'everything', 'forget', 'sleek', 'look', 'play', 'real', 'dvd', 'bought', 'play', 'everything', 'still', 'play', 'everything', 'see', 'first', 'one', 'installed', 'nt', 'work', 'kid', 'devastated', 'say', 'least', 'seems', 'working', 'fine', 'used', 'much', 'player', 'looked', 'good', 'right', 'box', 'offering', 'lot', 'feature', 'good', 'styling', 'tried', 'install', 'second', 'dvd', 'player', 'brother', 'house', 'one', 'work', 'either', 'say', 'bought', 'year', 'ago', 'probly', 'best', 'dvd', 'player', 'ever', 'quality', 'design', 'stable', 'plus', 'us', 'standard', 'ide', 'interface', 'use', 'old', 'dvd', 'drive', 'computer', 'player', 'dy', 'nt', 'work', 'corectly', 'start', 'lasted', 'week', 'half', 'started', 'act', 'play', 'wide', 'range', 'format', 'advertised', 'nice', 'machine', 'light', 'slim', 'fit', 'nicely', 'tv', 'stand', 'machine', 'light', 'slim', 'fit', 'nicely', 'tv', 'stand', 'machine', 'light', 'slim', 'fit', 'nicely', 'tv', 'stand', 'even', 'paid', 'full', 'price', 'would', 'considered', 'good', 'deal', 'tried', 'finding', 'nemo', 'dvd', 'got', 'chapter', 'frame', 'started', 'freeze', 'reason', 'rate', 'one', 'star', 'work', 'pretty', 'good', 'player', 'kept', 'displaying', 'disc', 'tried', 'disc', 'another', 'machine', 'sure', 'worked', 'play', 'everything', 'even', 'vcd', 'played', 'stand', 'alone', 'avi', 'file', 'frame', 'freeze', 'family', 'yell', 'dad', 'somethings', 'wrong', 'dvd', 'player', 'come', 'quick', 'play', 'jpeg', 'photo', 'wow', 'trying', 'figure', 'really', 'something', 'one', 'still', 'work', 'fine', 'quit', 'one', 'day', 'one', 'still', 'work', 'fine', 'quit', 'one', 'day', 'seems', 'little', 'slow', 'identifying', 'new', 'disc', 'inserted', 'maybe', 'second', 'wait', 'seemed', 'like', 'good', 'deal', 'po', 'frequently', 'cannot', 'recognize', 'dvd', 'music', 'cd', 'take', 'long', 'time', 'loading', 'concludes', 'disc', 'seemed', 'like', 'good', 'deal', 'po', 'frequently', 'cannot', 'recognize', 'dvd', 'music', 'cd', 'take', 'long', 'time', 'loading', 'concludes', 'disc', 'first', 'player', 'allow', 'access', 'menu', 'dvd', 'remote', 'flimsyfeeling', 'awkward', 'use', 'player', 'seem', 'play', 'dvd', 'adequately', 'enough', 'played', 'one', 'three', 'dvd', 'without', 'problem', 'two', 'afflicted', 'number', 'glitch', 'one', 'also', 'exhibited', 'extremely', 'slow', 'speed', 'going', 'menu', 'impressed', 'inexpensive', 'playerfor', 'first', 'three', 'hour', 'died', 'looked', 'buying', 'inexpensive', 'dvd', 'player', 'standard', 'set', 'feature', 'item', 'seemed', 'best', 'category', 'still', 'willing', 'overlook', 'thing', 'unit', 'look', 'sleek', 'myriad', 'feature', 'try', 'navigating', 'chapter', 'past', 'via', 'menu', 'would', 'nt', 'try', 'navigating', 'using', 'player', 'built', 'menu', 'still', 'would', 'nt', 'work', 'unfortunately', 'player', 'would', 'read', 'region', 'one', 'dvd', 'even', 'though', 'damaged', 'way', 'ability', 'play', 'disc', 'tried', 'dvd', 'vcd', 'dvdr', 'audio', 'cd', 'played', 'good', 'look', 'also', 'light', 'portable', 'also', 'light', 'portable', 'read', 'play', 'cd', 'audio', 'disc', 'read', 'play', 'cd', 'audio', 'disc', 'bought', 'apex', 'ability', 'play', 'jpegs', 'seemed', 'like', 'bang', 'buck', 'difficulty', 'playing', 'jpegs', 'even', 'trouble', 'properly', 'playing', 'dvd', 'movie', 'play', 'original', 'dvd', 'cd', 'play', 'jpegs', 'however', 'play', 'window', 'medium', 'get', 'play', 'divx', 'rip', 'guess', 'complain', 'since', 'actually', 'claim', 'play', 'vcd', 'svcd', 'format', 'others', 'say', 'bought', 'player', 'reading', 'review', 'identify', 'reading', 'format', 'including', 'dvd', 'rw', 'vcd', 'play', 'dvdr', 'unplayable', 'older', 'philip', 'machine', 'look', 'really', 'sleek', 'stylish', 'everything', 'claim', 'tried', 'bunch', 'different', 'format', 'see', 'would', 'play', 'noiseless', 'lightweight', 'oh', 'yeah', 'noiseless', 'lightweight', 'oh', 'yeah', 'work', 'great', 'play', 'format', 'check', 'buy', 'play', 'fit', 'drive', 'bay', 'dvd', 'player', 'play', 'instance', 'made', 'several', 'backup', 'dvd', 'movie', 'using', 'dvdr', 'w', 'r', 'w', 'play', 'dvd']\n"
     ]
    }
   ],
   "source": [
    "print(new_corpus_words)"
   ]
  },
  {
   "cell_type": "code",
   "execution_count": 20,
   "id": "5e5a7b95",
   "metadata": {},
   "outputs": [],
   "source": [
    "#Now our new_corpus_words contains words which are not stop words and in lemmatized form"
   ]
  },
  {
   "cell_type": "code",
   "execution_count": 21,
   "id": "bf41c2fb",
   "metadata": {},
   "outputs": [],
   "source": [
    "#Extracting all the adjectives from the corpus_words\n",
    "    \n",
    "# Tag the words with their part of speech\n",
    "tagged_words = nltk.pos_tag(new_corpus_words)\n",
    "\n",
    "# Extract the adjectives from the tagged words\n",
    "corpus_adjectives = [word for word, pos in tagged_words if pos.startswith('JJ')]"
   ]
  },
  {
   "cell_type": "code",
   "execution_count": 22,
   "id": "6a05fa82",
   "metadata": {},
   "outputs": [
    {
     "name": "stdout",
     "output_type": "stream",
     "text": [
      "['nicely', 'occasional', 'sleek', 'good', 'great', 'nicer', 'gb', 'pitchcorrected', 'smooth', 'funny', 'little', 'dvd', 'christmas', 'great', 'loaded', 'disposable', 'type', 'able', 'clear', 'main', 'big', 'visual', 'literature', 'regular', 'disc', 'present', 'february', 'several', 'different', 'broken', 'tried', 'great', 'couple', 'new', 'disc', 'used', 'entire', 'raw', 'dvd', 'uk', 'progressive', 'scan', 'cool', 'different', 'wma', 'kodak', 'disc', 'great', 'surprised', 'stack', 'able', 'smart', 'stack', 'able', 'smart', 'worth', 'drawer', 'speak', 'longterm', 'little', 'big', 'silent', 'disk', 'le', 'wrong', 'apex', 'certain', 'old', 'rental', 'old', 'sharp', 'last', 'mirrorlike', 'front', 'sure', 'cool', 'mirrorlike', 'front', 'sure', 'cool', 'bad', 'find', 'remotecontrol', 'flimsy', 'eventualy', 'poor', 'manual', 'negative', 'dvd', 'disc', 'read', 'fine', 'loud', 'read', 'fine', 'loud', 'vbr', 'old', 'several', 'several', 'disc', 'several', 'several', 'disc', 'crappy', 'remote', 'worse', 'cheaper', 'amazon', 'fine', 'right', 'ok', 'shiny', 'cheap', 'cheasy', 'long', 'last', 'remote', 'cheap', 'last', 'expensive', 'able', 'cheep', 'dvd', 'easy', 'small', 'good', 'easy', 'small', 'good', 'attempted', 'connect', 'several', 'different', 'multitude', 'video', 'recent', 'first', 'froze', 'christmas', 'present', 'lightweight', 'oppressed', 'lightweight', 'finest', 'whole', 'sleek', 'certain', 'dvd', 'new', 'pirate', 'extra', 'fine', 'nt', 'many', 'new', 'much', 'small', 'affordable', 'much', 'small', 'affordable', 'great', 'compact', 'attractive', 'easy', 'compact', 'attractive', 'easy', 'compact', 'attractive', 'easy', 'read', 'second', 'disc', 'extra', 'satisfied', 'possible', 'dvd', 'great', 'good', 'good', 'sleek', 'real', 'installed', 'least', 'much', 'good', 'good', 'install', 'second', 'best', 'quality', 'stable', 'standard', 'old', 'nt', 'act', 'wide', 'nice', 'light', 'slim', 'tv', 'light', 'slim', 'tv', 'light', 'slim', 'full', 'good', 'nemo', 'freeze', 'good', 'disc', 'played', 'file', 'wrong', 'dvd', 'quick', 'fine', 'fine', 'little', 'slow', 'new', 'second', 'good', 'dvd', 'long', 'good', 'dvd', 'long', 'allow', 'slow', 'inexpensive', 'looked', 'inexpensive', 'feature', 'willing', 'overlook', 'sleek', 'audio', 'good', 'portable', 'light', 'portable', 'read', 'audio', 'play', 'apex', 'bang', 'original', 'divx', 'claim', 'format', 'unplayable', 'older', 'sleek', 'bunch', 'different', 'lightweight', 'noiseless', 'lightweight', 'great', 'fit', 'several', 'backup', 'dvdr']\n"
     ]
    }
   ],
   "source": [
    "print(corpus_adjectives)"
   ]
  },
  {
   "cell_type": "code",
   "execution_count": 23,
   "id": "fb9468bd",
   "metadata": {},
   "outputs": [
    {
     "name": "stdout",
     "output_type": "stream",
     "text": [
      "267\n"
     ]
    }
   ],
   "source": [
    "print(len(corpus_adjectives))"
   ]
  },
  {
   "cell_type": "code",
   "execution_count": 24,
   "id": "fa630628",
   "metadata": {},
   "outputs": [],
   "source": [
    "#Now selecting only unique adjectives from the list of corpus_adjectives\n",
    "corpus_adjectives_unique=list(set(corpus_adjectives))"
   ]
  },
  {
   "cell_type": "code",
   "execution_count": 25,
   "id": "7c62126d",
   "metadata": {},
   "outputs": [
    {
     "name": "stdout",
     "output_type": "stream",
     "text": [
      "['act', 'cheasy', 'small', 'raw', 'compact', 'quality', 'multitude', 'visual', 'loud', 'real', 'tried', 'old', 'sharp', 'christmas', 'older', 'noiseless', 'quick', 'flimsy', 'negative', 'installed', 'present', 'regular', 'silent', 'video', 'remote', 'certain', 'great', 'worse', 'file', 'front', 'progressive', 'attractive', 'disposable', 'claim', 'oppressed', 'couple', 'uk', 'longterm', 'bang', 'wma', 'smooth', 'many', 'dvd', 'crappy', 'inexpensive', 'allow', 'poor', 'tv', 'several', 'audio', 'backup', 'attempted', 'froze', 'cheep', 'wide', 'affordable', 'broken', 'whole', 'kodak', 'main', 'disk', 'rental', 'fit', 'portable', 'slim', 'best', 'light', 'smart', 'scan', 'occasional', 'surprised', 'mirrorlike', 'expensive', 'drawer', 'looked', 'pirate', 'disc', 'played', 'cool', 'play', 'stable', 'least', 'first', 'nicely', 'good', 'find', 'recent', 'ok', 'install', 'nt', 'sleek', 'stack', 'nemo', 'february', 'original', 'big', 'entire', 'le', 'literature', 'little', 'bunch', 'clear', 'pitchcorrected', 'full', 'overlook', 'type', 'used', 'willing', 'funny', 'remotecontrol', 'cheap', 'manual', 'long', 'freeze', 'unplayable', 'cheaper', 'different', 'satisfied', 'nicer', 'read', 'standard', 'last', 'eventualy', 'sure', 'wrong', 'feature', 'new', 'fine', 'possible', 'worth', 'bad', 'loaded', 'second', 'extra', 'connect', 'apex', 'vbr', 'right', 'dvdr', 'nice', 'much', 'able', 'lightweight', 'shiny', 'divx', 'slow', 'gb', 'easy', 'amazon', 'speak', 'finest', 'format']\n"
     ]
    }
   ],
   "source": [
    "print(corpus_adjectives_unique)"
   ]
  },
  {
   "cell_type": "code",
   "execution_count": 26,
   "id": "b3c8a411",
   "metadata": {},
   "outputs": [
    {
     "data": {
      "text/plain": [
       "152"
      ]
     },
     "execution_count": 26,
     "metadata": {},
     "output_type": "execute_result"
    }
   ],
   "source": [
    "len(corpus_adjectives_unique)"
   ]
  },
  {
   "cell_type": "code",
   "execution_count": 27,
   "id": "868d280b",
   "metadata": {},
   "outputs": [],
   "source": [
    "#Step 2: Generating a Word2Vec frequency vector for each adjective that we have extracted"
   ]
  },
  {
   "cell_type": "code",
   "execution_count": 28,
   "id": "778aacc3",
   "metadata": {},
   "outputs": [
    {
     "name": "stdout",
     "output_type": "stream",
     "text": [
      "['fasttext-wiki-news-subwords-300', 'conceptnet-numberbatch-17-06-300', 'word2vec-ruscorpora-300', 'word2vec-google-news-300', 'glove-wiki-gigaword-50', 'glove-wiki-gigaword-100', 'glove-wiki-gigaword-200', 'glove-wiki-gigaword-300', 'glove-twitter-25', 'glove-twitter-50', 'glove-twitter-100', 'glove-twitter-200', '__testing_word2vec-matrix-synopsis']\n"
     ]
    }
   ],
   "source": [
    "#downloading the pre-trained models and corpora from the Gensim data repository. \n",
    "\n",
    "import gensim.downloader\n",
    "\n",
    "# Show all available models in gensim-data\n",
    "print(list(gensim.downloader.info()['models'].keys()))"
   ]
  },
  {
   "cell_type": "code",
   "execution_count": 30,
   "id": "69b06501",
   "metadata": {},
   "outputs": [],
   "source": [
    "# Download the \"glove-twitter-25\" embeddings\n",
    "glove_vectors = gensim.downloader.load('glove-twitter-25')"
   ]
  },
  {
   "cell_type": "code",
   "execution_count": 31,
   "id": "4c4d690a",
   "metadata": {},
   "outputs": [
    {
     "data": {
      "text/plain": [
       "1193514"
      ]
     },
     "execution_count": 31,
     "metadata": {},
     "output_type": "execute_result"
    }
   ],
   "source": [
    "len(glove_vectors)"
   ]
  },
  {
   "cell_type": "code",
   "execution_count": 32,
   "id": "dc32df43",
   "metadata": {},
   "outputs": [
    {
     "data": {
      "text/plain": [
       "[('plays', 0.9272218942642212),\n",
       " ('lost', 0.9054622650146484),\n",
       " ('playing', 0.8980489373207092),\n",
       " ('won', 0.8965869545936584),\n",
       " ('pitch', 0.8960465788841248),\n",
       " ('since', 0.8898351192474365),\n",
       " ('beat', 0.8880069851875305),\n",
       " ('watched', 0.8869189620018005),\n",
       " ('had', 0.8818455338478088),\n",
       " ('seen', 0.8733781576156616)]"
      ]
     },
     "execution_count": 32,
     "metadata": {},
     "output_type": "execute_result"
    }
   ],
   "source": [
    "#Use the downloaded vectors as usual:\n",
    "glove_vectors.most_similar('played')"
   ]
  },
  {
   "cell_type": "code",
   "execution_count": 34,
   "id": "cdb2fcd2",
   "metadata": {},
   "outputs": [],
   "source": [
    "adj_similar_words_dict={}  #creating a dictonary to store adjectives and its related words taken from Word2Vec\n",
    "\n",
    "for adj in corpus_adjectives_unique:\n",
    "    if adj in glove_vectors:\n",
    "        adj_similar_words=glove_vectors.most_similar(adj)\n",
    "        #selecting only words from the tuple of words and similarity scores\n",
    "        adj_words_only = [word for word, score in adj_similar_words]\n",
    "        #print(adj_words_only)\n",
    "        adj_similar_words_dict.update({adj:adj_words_only})"
   ]
  },
  {
   "cell_type": "code",
   "execution_count": 35,
   "id": "58a61959",
   "metadata": {},
   "outputs": [
    {
     "name": "stdout",
     "output_type": "stream",
     "text": [
      "{'act': ['talk', 'not', 'understand', 'lie', 'people', 'stand', 'honest', 'person', 'ppl', 'speak'], 'small': ['side', 'your', 'own', 'more', 'their', 'clean', 'looking', 'find', 'bigger', 'or'], 'raw': ['classic', 'magic', 'epic', 'wild', 'wing', 'bowl', 'horse', 'spanish', 'ultimate', 'dutch'], 'compact': ['pvc', 'analog', 'magenta', 'laser', 'infrared', 'inch', 'aluminum', 'lens', 'tripod', 'optical'], 'quality': ['product', 'brand', 'selection', 'professional', 'limited', 'value', 'includes', 'standard', 'skills', 'creative'], 'multitude': ['likeness', 'disciplines', 'earthly', 'figment', 'untold', 'multitudes', 'motives', 'transgression', 'shyness', 'limitation'], 'visual': ['vocal', 'digital', 'marketing', 'creative', 'branding', 'storytelling', 'photoshop', 'master', 'html', 'audio'], 'loud': ['scared', 'crazy', 'scary', 'lonely', 'sound', 'drunk', 'turn', 'blowing', 'noise', 'mess'], 'real': ['play', 'big', 'young', 'one', 'stand', 'bad', 'crazy', 'better', 'than', 'beat'], 'tried': ['trying', 'probably', 'decided', 'just', 'took', 'supposed', 'called', 'told', 'did', 'asked'], 'old': ['kid', 'whole', 'guy', 'seen', 'like', 'the', 'my', 'with', 'missing', 'wonder'], 'sharp': ['gauge', 'clear', 'tone', 'angle', 'wide', 'edge', 'inch', 'drives', 'lighter', 'screws'], 'christmas': ['xmas', 'valentines', 'easter', 'day', 'summer', 'lovely', 'amazing', 'night', 'holiday', 'evening'], 'older': ['younger', 'being', 'hated', 'grown', 'ones', 'siblings', 'treated', 'especially', 'friends', 'many'], 'noiseless': ['extream', 'musicnya', 'inshore', 'energic', 'grappling', 'shapers', 'nstreet', 'epee', 'hoodoo', 'sandbag'], 'quick': ['easy', 'work', 'step', 'get', 'drop', 'take', 'working', 'need', 'clean', 'gotta'], 'flimsy': ['rubbery', 'convoluted', 'miniscule', 'odious', 'unsightly', 'leathery', 'stringy', 'irksome', 'clunky', 'sanctimonious'], 'negative': ['lack', 'positive', 'actions', 'situations', 'difficult', 'emotions', 'mistakes', 'opinions', 'mistake', 'significant'], 'installed': ['sync', 'tabs', 'mailbox', 'devices', 'upgraded', 'unlocked', 'charging', 'computers', 'plugged', 'installs'], 'present': ['wonderful', 'our', 'special', 'great', 'celebrate', 'appreciate', 'enjoy', 'future', 'experience', 'yours'], 'regular': ['extra', 'spot', 'full', 'actual', 'gym', 'any', 'decent', 'shitty', 'short', 'spots'], 'silent': ['trouble', 'panic', 'nightmare', 'mind', 'fear', 'behind', 'enemy', 'noise', 'deep', 'hearing'], 'video': ['youtube', 'radio', 'playlist', 'official', 'version', 'album', 'post', 'cover', 'tv', 'cd'], 'remote': ['keyboard', 'monitor', 'plug', 'engine', 'switch', 'device', 'charger', 'counter', 'automatic', 'sync'], 'certain': ['difference', 'different', 'change', 'important', 'compare', 'attention', 'things', 'sense', 'any', 'other'], 'great': ['amazing', 'today', 'good', 'fantastic', 'special', 'more', 'our', 'day', 'this', 'awesome'], 'worse': ['worst', 'crap', 'nothing', 'either', 'awful', 'fault', 'reason', 'disappointed', 'happens', 'losing'], 'file': ['browser', 'format', 'files', 'upgrade', 'mobile', 'server', 'device', 'folder', 'computer', 'document'], 'front': ['car', 'into', 'wall', 'seat', 'around', 'corner', 'behind', 'side', 'across', 'down'], 'progressive': ['revolutionary', 'cult', 'powerhouse', 'culture', 'diversity', 'entrepreneurial', 'agile', 'corporate', 'collective', 'innovation'], 'attractive': ['attracted', 'sexier', 'unattractive', 'personality', 'weird', 'skinny', 'extremely', 'ugly', 'pretty', 'such'], 'disposable': ['diapers', 'reusable', 'synthetic', 'pampers', 'preservatives', 'assorted', 'claritin', 'recyclable', 'concealer', 'e-liquid'], 'claim': ['allow', 'demand', 'pay', 'allowed', 'judge', 'deal', 'expect', 'claiming', 'cheat', 'refer'], 'oppressed': ['persecuted', 'obedient', 'abiding', 'impoverished', 'troubled', 'servants', 'pious', 'enlightened', 'virtuous', 'benevolent'], 'couple': ['famous', 'surprise', 'parents', 'date', 'cool', 'boys', 'random', 'girls', 'point', 'pose'], 'uk': ['canada', 'news', 'europe', 'union', 'america', 'international', 'africa', 'london', 'national', 'worldwide'], 'longterm': ['contending', 'midtable', 'equitable', 'low-carbon', 'commanding', 'low-maintenance', 'frontcourt', 'short-term', 'world-class', 'toughness'], 'bang': ['yah', '-_-', 'mba', '<lolface>', 'kak', 'kaka', 'haha', 'nya', 'woo', 'hahaa'], 'wma': ['outlander', 'motorsport', 'dwt', 'djmag', 'lpga', 'nextgen', 'motorsports', 'mtvu', 'rdr', 'dci'], 'smooth': ['soft', 'body', 'fresh', 'deep', 'blunt', 'tone', 'rough', 'clean', 'shape', 'funky'], 'many': ['those', 'other', 'two', 'lot', 'both', 'any', 'different', 'few', 'ones', 'these'], 'dvd': ['cd', 'hd', 'blu-ray', 'ep', 'edition', 'playlist', 'playstation', 'album', 'poster', 'theme'], 'crappy': ['shitty', 'odd', 'rubbish', 'decent', 'crap', 'goddamn', 'proper', 'compared', 'depressing', 'awful'], 'inexpensive': ['profitable', 'reliable', 'suitable', 'affordable', 'cost-effective', 'reputable', 'customizable', 'eco-friendly', 'high-quality', 'examples'], 'allow': ['whether', 'recognize', 'expect', 'willing', 'manage', 'n’t', 'nor', 'unless', 'demand', 'learn'], 'poor': ['how', 'such', 'much', 'blame', 'shame', 'neither', 'what', 'difference', 'well', 'brother'], 'tv': ['video', 'radio', 'youtube', 'channel', 'top', 'show', 'studio', 'post', 'ep', 'online'], 'several': ['multiple', 'numerous', 'including', 'hundreds', 'three', 'five', 'four', 'two', 'entire', 'six'], 'audio': ['nintendo', 'mp', 'digital', 'xbox', 'flash', 'hd', 'wii', 'radio', 'video', 'channel'], 'backup': ['remote', 'speaker', 'keyboard', 'broadband', 'graphics', 'upgrade', 'switch', 'specs', 'verizon', 'desktop'], 'attempted': ['forced', 'warrant', 'investigated', 'charged', 'custody', 'convicted', 'murder', 'accused', 'sentenced', 'arrested'], 'froze': ['slipped', 'exploded', 'tripped', 'flipped', 'cracked', 'peed', 'scratched', 'disappeared', 'freezes', 'puked'], 'cheep': ['spicey', 'scatty', 'appetising', 'scrubby', 'cheapy', 'suppositories', 'sheisty', 'skimp', 'sciencey', 'baaare'], 'wide': ['bottom', 'edge', 'wall', 'side', 'moves', 'round', 'high', 'running', 'eye', 'clear'], 'affordable': ['retail', 'products', 'offers', 'property', 'product', 'services', 'bargain', 'solutions', 'deals', 'providing'], 'broken': ['eye', 'eyes', 'inside', 'hands', 'heart', 'behind', 'tears', 'falling', 'turns', 'away'], 'whole': ['every', 'my', 'there', 'its', 'old', 'entire', 'this', 'out', 'all', 'since'], 'kodak': ['zune', 'gamepad', 'optimus', 'fujifilm', 'ultrabook', 'tomtom', 'pureview', 'ibook', 'logitech', 'typewriter'], 'main': ['kl', 'maen', 'balik', 'lah', 'tuh', 'ky', 'ye', 'tp', 'gi', 'ke'], 'disk': ['hdtv', 'disc', 'photobook', 'widescreen', 'dual', 'lcd', 'projector', 'panel', 'mhz', 'ghz'], 'rental': ['depot', 'supermarket', 'delivery', 'reservation', 'airline', 'warehouse', 'property', 'retail', 'travel', 'discount'], 'fit': ['flat', 'low', 'clean', 'stick', 'make', 'smart', 'put', 'solid', 'or', 'body'], 'portable': ['copier', 'cache', 'usb', 'adapter', 'console', 'batterie', 'ddr', 'micro', 'telephone', 'tablette'], 'slim': ['bold', 'boot', 'rod', 'ace', 'black', 'gucci', 'klein', 'mens', 'diesel', 'flex'], 'best': ['awesome', 'amazing', 'special', 'perfect', 'good', 'great', 'lucky', 'fun', 'favorite', 'one'], 'light': ['dark', 'deep', 'cross', 'sun', 'heavy', 'clear', 'shadow', 'edge', 'inside', 'side'], 'smart': ['bold', 'type', 'small', 'fit', 'or', 'quality', 'basic', 'easy', 'high', 'active'], 'scan': ['hands-on', 'polaroid', 'booklet', 'speaker', 'feature', 'scans', 'display', 'review', 'photobook', 'kakaotalk'], 'occasional': ['subtle', 'lingering', 'unfinished', 'downside', 'clearing', 'emphasis', 'balancing', 'substantial', 'calculating', 'relieving'], 'surprised': ['probably', 'thought', 'disappointed', 'upset', 'knew', 'possibly', 'convinced', 'obviously', 'totally', 'clearly'], 'expensive': ['cheap', 'cheaper', 'small', 'clothes', 'plain', 'smaller', 'mixed', 'basic', 'different', 'overpriced'], 'drawer': ['shelf', 'compartment', 'curtain', 'rack', 'comforter', 'drawers', 'nightstand', 'storage', 'bookcase', 'stool'], 'looked': ['looks', 'turned', 'almost', 'freaking', 'felt', 'probably', 'seen', 'realized', 'gets', 'went'], 'pirate': ['surfer', 'swedish', 'french', 'dutch', 'russian', 'dolphin', 'horse', 'circus', 'rogue', 'farmer'], 'disc': ['bundle', 'vinyl', 'platinum', 'playstation', 'premium', 'disk', 'custom', 'limited', 'edition', 'gb'], 'played': ['plays', 'lost', 'playing', 'won', 'pitch', 'since', 'beat', 'watched', 'had', 'seen'], 'cool': ['nice', 'look', 'pretty', 'bad', 'best', 'hot', 'fun', 'long', 'crazy', 'type'], 'play': ['beat', 'rush', 'game', 'watch', 'run', 'playing', 'hit', 'ball', 'up', 'out'], 'stable': ['neutral', 'condition', 'approach', 'reputation', 'driven', 'intellectual', 'relative', 'efficient', 'complex', 'maintaining'], 'least': ['both', 'there', 'have', 'yet', 'lost', 'sure', 'than', 'probably', 'think', 'but'], 'first': ['second', 'next', 'last', 'another', 'the', 'year', 'this', 'after', 'have', 'every'], 'nicely': ['perfectly', 'properly', 'hers', 'badly', 'poorly', 'nicer', 'yours', 'worn', 'worked', 'impressed'], 'good': ['too', 'day', 'well', 'nice', 'better', 'fun', 'much', 'this', 'hope', 'great'], 'find': ['how', 'way', 'need', 'not', 'anyone', 'have', 'anything', 'or', 'something', 'can'], 'recent': ['previous', 'updates', 'regarding', 'coverage', 'issue', 'audience', 'report', 'latest', 'according', 'stats'], 'ok': ['oh', 'o.o', '?', ':o', 'okay', 'ah', 'hahahah', 'xd', 'sorry', 'aw'], 'install': ['upgrade', 'browser', 'sync', 'server', 'uninstall', 'remote', 'login', 'jailbreak', 'headset', 'download'], 'nt': ['bt', 'knw', 'wen', 'jst', 'dnt', 'cnt', 'wht', 'buh', 'kno', 'wt'], 'sleek': ['maybelline', 'stylish', 'versatile', 'elegant', 'acrylic', 'textured', 'geometric', 'sturdy', 'edgy', 'metallic'], 'stack': ['stacks', 'bottles', 'fold', 'scrap', 'racks', 'liquor', 'loaded', 'whip', 'cash', 'grab'], 'nemo': ['gump', 'dory', 'narnia', 'pitbull', 'skrillex', 'scooby', 'wall-e', 'shrek', 'katniss', 'barney'], 'february': ['january', 'march', 'october', 'december', 'june', 'july', 'november', 'august', 'september', 'dec'], 'original': ['version', 'style', 'pokemon', 'art', 'grey', 'cover', 'monster', 'master', 'red', 'black'], 'big': ['some', 'this', 'out', 'up', 'look', 'like', 'with', 'another', 'the', 'my'], 'entire': ['whole', 'two', 'every', 'through', 'three', 'our', 'into', 'five', 'third', 'four'], 'le': ['va', 'les', 'un', 'la', 'par', 'vas', 'parce', 'lui', 'mes', 'dire'], 'literature': ['philosophy', 'educational', 'studies', 'theology', 'experiment', 'science', 'literary', 'economics', 'journalism', 'psychology'], 'little': ['look', 'girl', 'like', 'pretty', 'kid', 'big', 'old', 'my', 'lady', 'one'], 'bunch': ['these', 'those', 'other', 'many', 'shitty', 'ones', 'olds', 'kinds', 'stuff', 'different'], 'clear': ['edge', 'light', 'above', 'low', 'pressure', 'power', 'step', 'key', 'eye', 'clean'], 'full': ['spot', 'set', 'single', 'high', 'big', 'best', 'top', 'extra', 'first', 'running'], 'overlook': ['perceive', 'nurture', 'arise', 'discourage', 'outsmart', 'dictate', 'rely', 'reflect', 'downplay', 'withhold'], 'type': ['figure', 'handle', 'sound', 'smart', 'same', 'cool', 'thing', 'bad', 'change', 'or'], 'used': ['they', 'find', 'could', 'does', 'that', 'found', 'should', 'called', 'only', 'just'], 'willing': ['able', 'expect', 'allow', 'helped', 'choose', '’ll', 'consider', 'rely', 'convince', 'manage'], 'funny': ['weird', 'hilarious', 'thats', 'crazy', 'stupid', 'kinda', 'silly', 'confused', 'dude', 'dumb'], 'cheap': ['expensive', 'buy', 'cheaper', 'small', 'bags', 'buying', 'sell', 'products', 'cheapest', 'ebay'], 'manual': ['software', 'gps', 'monitor', 'hardware', 'server', 'smartphone', 'antivirus', 'tablet', 'web', 'mobile'], 'long': ['way', 'but', 'it', 'up', 'its', 'good', 'nice', 'this', 'there', 'bad'], 'freeze': ['burn', 'spill', 'tap', 'wash', 'fork', 'scratch', 'sink', 'crawl', 'float', 'drain'], 'unplayable': ['woeful', 'abysmal', 'unwatchable', 'unrecognisable', 'shambolic', 'underwhelming', 'resurfaced', 'underperformed', 'goalless', 'spectacularly'], 'cheaper': ['expensive', 'cheapest', 'cheap', 'priced', 'prices', 'cost', 'customers', 'options', 'buying', 'purchase'], 'different': ['other', 'many', 'ones', 'things', 'lot', 'those', 'these', 'most', 'any', 'odd'], 'satisfied': ['determined', 'happier', 'prepared', 'motivated', 'treated', 'unhappy', 'stressed', 'accomplished', 'easier', 'physically'], 'nicer': ['comfortable', 'prettier', 'happier', 'cuter', 'skinnier', 'nicely', 'sexier', 'ridiculously', 'uncomfortable', 'tanned'], 'read': ['write', 'answer', 'about', 'what', 'how', 'fact', 'something', 'explain', 'it', 'reading'], 'standard': ['range', 'gap', 'system', 'quality', 'board', 'hardware', 'grid', 'display', 'market', 'level'], 'last': ['next', 'first', 'year', 'yesterday', 'since', 'second', 'week', 'coming', 'this', 'today'], 'eventualy': ['gurantee', 'eill', 'probbly', 'coudnt', 'eanna', 'overcharge', 'evrn', 'manged', 'didnot', 'yet.i'], 'sure': ['well', 'maybe', 'but', 'guess', 'know', 'think', 'it', 'see', 'there', 'then'], 'wrong': ['reason', 'exactly', 'why', 'saying', 'same', 'either', 'what', 'think', 'how', 'that'], 'feature': ['features', 'latest', 'graphic', 'reviews', 'exclusive', 'featured', 'artwork', 'updates', 'book', 'reference'], 'new': ['with', 'check', 'the', 'from', 'special', 'free', 'our', 'for', 'first', 'this'], 'fine': ['i', 'she', 'mine', 'sure', 'be', 'lol', 'long', \"'m\", 'so', 'just'], 'possible': ['point', 'situation', 'impossible', 'important', 'sort', 'change', 'place', 'option', 'end', 'changes'], 'worth': ['yours', 'longer', 'without', 'giving', 'spend', 'count', 'lot', 'everything', 'given', 'means'], 'bad': ['shit', 'crazy', 'but', 'hell', 'right', 'like', 'same', 'damn', 'thing', 'way'], 'loaded': ['rolled', 'garbage', 'stacked', 'whip', 'bars', 'wheels', 'bottles', 'smoked', 'liquor', 'stack'], 'second': ['first', 'another', 'third', 'last', 'after', 'every', 'the', 'return', 'lost', 'end'], 'extra': ['tip', 'regular', 'full', 'fresh', 'money', 'some', 'short', 'pack', 'fit', 'clean'], 'connect': ['search', 'access', 'network', 'convert', 'create', 'upgrade', 'manage', 'apply', 'mobile', 'include'], 'apex': ['mpc', 'xm', 'sniping', 'gamebattles', 'karuta', 'optic', 'gdc', 'traxx', 'synergy', 'funimation'], 'vbr': ['jdp', 'qcr', 'dfp', 'nex-f', 'mpl', 'dfx', 'tcn', 'mycareer', 'ffbb', 'mrl'], 'right': ['though', 'now', 'this', 'it', 'again', 'there', 'but', 'way', 'here', 'its'], 'dvdr': ['hqn', 'marimekko', '総選挙公式ガイドブック', 'アカデミック版', '大阪府より', 'ntsc', '神奈川県より', 'ch_blog', 'ラウンドファスナー', 'スターターキット'], 'nice': ['good', 'lucky', 'too', 'pretty', 'long', 'cool', 'lovely', 'well', 'sweet', 'fun'], 'much': ['everything', 'you', 'too', 'anything', 'lot', 'it', 'mean', 'nothing', 'well', \"'re\"], 'able': ['might', 'expect', 'rather', 'trying', '’ll', 'willing', 'find', 'unless', 'choose', 'could'], 'lightweight': ['rugged', 'sleek', 'fitted', 'hight', 'wavy', 'curling', 'sleeve', 'silky', 'ionic', 'heated'], 'shiny': ['glittery', 'silky', 'layered', 'glasses', 'fuzzy', 'nails', 'sharpie', 'nail', 'sleeve', 'dyed'], 'divx': ['nodus', 'titantron', 'n-gage', 'ulead', 'funtage', 'irig', 'bukkit', 'redstone', 'winterboard', 'zune'], 'slow': ['serious', 'stuck', 'mess', 'turn', 'straight', 'thinking', 'handle', 'sit', 'bad', 'step'], 'gb': ['nexus', 'sony', 'tablet', 'galaxy', 'xl', 'dual', 'samsung', 'xperia', 'premium', 'playstation'], 'easy': ['enough', 'work', 'find', 'more', 'need', 'learn', 'anything', 'better', 'something', 'rather'], 'amazon': ['kindle', 'nexus', 'reviews', 'itunes', 'ios', 'exclusive', 'deals', 'gallery', 'edition', 'available'], 'speak': ['understand', 'teach', 'judge', 'explain', 'learn', 'talk', 'act', 'recognize', 'about', 'nor'], 'finest': ['mixed', 'lifestyle', 'tradition', 'heritage', 'worlds', 'roots', 'patriotic', 'african', 'royalty', 'powerhouse'], 'format': ['file', 'folder', 'copy', 'browser', 'website', 'bonus', 'rank', 'upgrade', 'display', 'pages']}\n"
     ]
    }
   ],
   "source": [
    "print(adj_similar_words_dict)"
   ]
  },
  {
   "cell_type": "code",
   "execution_count": 36,
   "id": "53f850bf",
   "metadata": {},
   "outputs": [],
   "source": [
    "# Define a function to generate the Word2Vec similar words frequency vector for an adjective\n",
    "Vri=[]   #Vri is going to store the frequencies of all words related to each adjective in a sublist\n",
    "all_wordnets=[]    #creating a list of all wordnets from which we will select the list of unique wordnets which we will require in step 5\n",
    "adj_wordnets_dict={} #creating dictionary to store all unique adjectives along with their related wordnets\n",
    "def generate_frequency_vector(adj):\n",
    "    freq_synsets=[]\n",
    "    adj_wordnets=[]  #required for step 5\n",
    "    if adj in glove_vectors:\n",
    "        synsets = glove_vectors.most_similar(adj) # Get all synsets for an adjective and store it in synsets list\n",
    "        synsets = [word for word, score in synsets]\n",
    "        print(synsets)\n",
    "        #lemmatizing the synsets\n",
    "        synsets = [lemmatizer.lemmatize(word) for word in synsets]\n",
    "        for synset in synsets:\n",
    "        #synset_word=synset[0]  #extracting only the word from the tuple containing word and some number\n",
    "            if synset!=adj:\n",
    "                all_wordnets.append(synset)\n",
    "                adj_wordnets.append(synset)  #required for step 5\n",
    "                freq_word=new_corpus_words.count(synset)         #couting the frequency of synset word in all words that are in corpus\n",
    "                freq_synsets.append(freq_word)\n",
    "    \n",
    "    Vri.append(freq_synsets)\n",
    "    \n",
    "    #selecting only unique wordnets from the list of adj_wordnets for an adjective (required for step 5)\n",
    "    adj_wordnets_unique=list(set(adj_wordnets))\n",
    "    \n",
    "            \n",
    "    #appending the dictionary adj_wordnets_dict with adj and its corresponding wordnet values (required for step 5)\n",
    "    adj_wordnets_dict.update({adj:adj_wordnets_unique})\n",
    "    \n",
    "    return freq_synsets"
   ]
  },
  {
   "cell_type": "code",
   "execution_count": 37,
   "id": "210d44f4",
   "metadata": {},
   "outputs": [
    {
     "name": "stdout",
     "output_type": "stream",
     "text": [
      "['talk', 'not', 'understand', 'lie', 'people', 'stand', 'honest', 'person', 'ppl', 'speak']\n",
      "act [0, 0, 1, 0, 0, 4, 0, 0, 0, 1]\n",
      "cheasy []\n",
      "['side', 'your', 'own', 'more', 'their', 'clean', 'looking', 'find', 'bigger', 'or']\n",
      "small [0, 0, 0, 0, 0, 2, 2, 3, 0, 0]\n",
      "['classic', 'magic', 'epic', 'wild', 'wing', 'bowl', 'horse', 'spanish', 'ultimate', 'dutch']\n",
      "raw [0, 0, 0, 0, 0, 0, 0, 0, 0, 0]\n",
      "['pvc', 'analog', 'magenta', 'laser', 'infrared', 'inch', 'aluminum', 'lens', 'tripod', 'optical']\n",
      "compact [0, 0, 0, 0, 0, 0, 0, 0, 0, 0]\n",
      "['product', 'brand', 'selection', 'professional', 'limited', 'value', 'includes', 'standard', 'skills', 'creative']\n",
      "quality [1, 0, 0, 0, 0, 0, 0, 2, 0, 0]\n",
      "['likeness', 'disciplines', 'earthly', 'figment', 'untold', 'multitudes', 'motives', 'transgression', 'shyness', 'limitation']\n",
      "multitude [0, 0, 0, 0, 0, 0, 0, 0, 0]\n",
      "['vocal', 'digital', 'marketing', 'creative', 'branding', 'storytelling', 'photoshop', 'master', 'html', 'audio']\n",
      "visual [0, 0, 0, 0, 0, 0, 0, 0, 0, 3]\n",
      "['scared', 'crazy', 'scary', 'lonely', 'sound', 'drunk', 'turn', 'blowing', 'noise', 'mess']\n",
      "loud [0, 0, 0, 0, 2, 0, 1, 1, 2, 0]\n",
      "['play', 'big', 'young', 'one', 'stand', 'bad', 'crazy', 'better', 'than', 'beat']\n",
      "real [56, 2, 0, 21, 4, 1, 0, 0, 0, 0]\n",
      "['trying', 'probably', 'decided', 'just', 'took', 'supposed', 'called', 'told', 'did', 'asked']\n",
      "tried [2, 1, 0, 0, 1, 0, 0, 0, 0, 0]\n",
      "['kid', 'whole', 'guy', 'seen', 'like', 'the', 'my', 'with', 'missing', 'wonder']\n",
      "old [2, 1, 0, 1, 8, 0, 0, 0, 1, 0]\n",
      "['gauge', 'clear', 'tone', 'angle', 'wide', 'edge', 'inch', 'drives', 'lighter', 'screws']\n",
      "sharp [0, 1, 0, 0, 1, 0, 0, 2, 0, 0]\n",
      "['xmas', 'valentines', 'easter', 'day', 'summer', 'lovely', 'amazing', 'night', 'holiday', 'evening']\n",
      "christmas [0, 0, 0, 5, 0, 0, 0, 1, 0, 0]\n",
      "['younger', 'being', 'hated', 'grown', 'ones', 'siblings', 'treated', 'especially', 'friends', 'many']\n",
      "older [0, 0, 0, 0, 21, 0, 0, 0, 3, 1]\n",
      "['extream', 'musicnya', 'inshore', 'energic', 'grappling', 'shapers', 'nstreet', 'epee', 'hoodoo', 'sandbag']\n",
      "noiseless [0, 0, 0, 0, 0, 0, 0, 0, 0, 0]\n",
      "['easy', 'work', 'step', 'get', 'drop', 'take', 'working', 'need', 'clean', 'gotta']\n",
      "quick [5, 21, 0, 4, 0, 2, 3, 0, 2, 0]\n",
      "['rubbery', 'convoluted', 'miniscule', 'odious', 'unsightly', 'leathery', 'stringy', 'irksome', 'clunky', 'sanctimonious']\n",
      "flimsy [0, 0, 0, 0, 0, 0, 0, 0, 0, 0]\n",
      "['lack', 'positive', 'actions', 'situations', 'difficult', 'emotions', 'mistakes', 'opinions', 'mistake', 'significant']\n",
      "negative [0, 0, 0, 0, 0, 0, 0, 0, 0, 0]\n",
      "['sync', 'tabs', 'mailbox', 'devices', 'upgraded', 'unlocked', 'charging', 'computers', 'plugged', 'installs']\n",
      "installed [0, 0, 0, 0, 0, 0, 0, 2, 0, 0]\n",
      "['wonderful', 'our', 'special', 'great', 'celebrate', 'appreciate', 'enjoy', 'future', 'experience', 'yours']\n",
      "present [0, 0, 0, 7, 0, 0, 0, 0, 1, 0]\n",
      "['extra', 'spot', 'full', 'actual', 'gym', 'any', 'decent', 'shitty', 'short', 'spots']\n",
      "regular [2, 0, 1, 0, 0, 0, 0, 0, 0, 0]\n",
      "['trouble', 'panic', 'nightmare', 'mind', 'fear', 'behind', 'enemy', 'noise', 'deep', 'hearing']\n",
      "silent [3, 0, 0, 0, 0, 0, 0, 2, 0, 0]\n",
      "['youtube', 'radio', 'playlist', 'official', 'version', 'album', 'post', 'cover', 'tv', 'cd']\n",
      "video [0, 0, 0, 0, 0, 0, 0, 0, 4, 9]\n",
      "['keyboard', 'monitor', 'plug', 'engine', 'switch', 'device', 'charger', 'counter', 'automatic', 'sync']\n",
      "remote [0, 0, 0, 0, 0, 0, 0, 0, 0, 0]\n",
      "['difference', 'different', 'change', 'important', 'compare', 'attention', 'things', 'sense', 'any', 'other']\n",
      "certain [1, 4, 0, 0, 0, 0, 7, 0, 0, 0]\n",
      "['amazing', 'today', 'good', 'fantastic', 'special', 'more', 'our', 'day', 'this', 'awesome']\n",
      "great [0, 1, 12, 0, 0, 0, 0, 5, 0, 0]\n",
      "['worst', 'crap', 'nothing', 'either', 'awful', 'fault', 'reason', 'disappointed', 'happens', 'losing']\n",
      "worse [0, 0, 1, 1, 0, 0, 2, 1, 0, 0]\n",
      "['browser', 'format', 'files', 'upgrade', 'mobile', 'server', 'device', 'folder', 'computer', 'document']\n",
      "file [0, 8, 0, 0, 0, 0, 0, 2, 0]\n",
      "['car', 'into', 'wall', 'seat', 'around', 'corner', 'behind', 'side', 'across', 'down']\n",
      "front [0, 0, 0, 0, 0, 0, 0, 0, 0, 0]\n",
      "['revolutionary', 'cult', 'powerhouse', 'culture', 'diversity', 'entrepreneurial', 'agile', 'corporate', 'collective', 'innovation']\n",
      "progressive [0, 0, 0, 0, 0, 0, 0, 0, 0, 0]\n",
      "['attracted', 'sexier', 'unattractive', 'personality', 'weird', 'skinny', 'extremely', 'ugly', 'pretty', 'such']\n",
      "attractive [0, 0, 0, 0, 0, 0, 1, 0, 1, 0]\n",
      "['diapers', 'reusable', 'synthetic', 'pampers', 'preservatives', 'assorted', 'claritin', 'recyclable', 'concealer', 'e-liquid']\n",
      "disposable [0, 0, 0, 0, 0, 0, 0, 0, 0, 0]\n",
      "['allow', 'demand', 'pay', 'allowed', 'judge', 'deal', 'expect', 'claiming', 'cheat', 'refer']\n",
      "claim [1, 0, 0, 2, 0, 3, 0, 0, 0, 0]\n",
      "['persecuted', 'obedient', 'abiding', 'impoverished', 'troubled', 'servants', 'pious', 'enlightened', 'virtuous', 'benevolent']\n",
      "oppressed [0, 0, 0, 0, 0, 0, 0, 0, 0, 0]\n",
      "['famous', 'surprise', 'parents', 'date', 'cool', 'boys', 'random', 'girls', 'point', 'pose']\n",
      "couple [0, 1, 0, 0, 3, 0, 0, 0, 1, 0]\n",
      "['canada', 'news', 'europe', 'union', 'america', 'international', 'africa', 'london', 'national', 'worldwide']\n",
      "uk [0, 0, 0, 0, 0, 0, 0, 0, 0, 0]\n",
      "['contending', 'midtable', 'equitable', 'low-carbon', 'commanding', 'low-maintenance', 'frontcourt', 'short-term', 'world-class', 'toughness']\n",
      "longterm [0, 0, 0, 0, 0, 0, 0, 0, 0, 0]\n",
      "['yah', '-_-', 'mba', '<lolface>', 'kak', 'kaka', 'haha', 'nya', 'woo', 'hahaa']\n",
      "bang [0, 0, 0, 0, 0, 0, 0, 0, 0, 0]\n",
      "['outlander', 'motorsport', 'dwt', 'djmag', 'lpga', 'nextgen', 'motorsports', 'mtvu', 'rdr', 'dci']\n",
      "wma [0, 0, 0, 0, 0, 0, 0, 0, 0, 0]\n",
      "['soft', 'body', 'fresh', 'deep', 'blunt', 'tone', 'rough', 'clean', 'shape', 'funky']\n",
      "smooth [0, 0, 0, 0, 0, 0, 0, 2, 0, 0]\n",
      "['those', 'other', 'two', 'lot', 'both', 'any', 'different', 'few', 'ones', 'these']\n",
      "many [0, 0, 5, 3, 0, 0, 4, 0, 21, 0]\n",
      "['cd', 'hd', 'blu-ray', 'ep', 'edition', 'playlist', 'playstation', 'album', 'poster', 'theme']\n",
      "dvd [9, 0, 0, 0, 0, 0, 0, 0, 0, 0]\n",
      "['shitty', 'odd', 'rubbish', 'decent', 'crap', 'goddamn', 'proper', 'compared', 'depressing', 'awful']\n",
      "crappy [0, 0, 0, 0, 0, 0, 0, 0, 0, 0]\n",
      "['profitable', 'reliable', 'suitable', 'affordable', 'cost-effective', 'reputable', 'customizable', 'eco-friendly', 'high-quality', 'examples']\n",
      "inexpensive [0, 0, 0, 2, 0, 0, 0, 0, 0, 1]\n",
      "['whether', 'recognize', 'expect', 'willing', 'manage', 'n’t', 'nor', 'unless', 'demand', 'learn']\n",
      "allow [0, 6, 0, 1, 0, 0, 0, 0, 0, 0]\n",
      "['how', 'such', 'much', 'blame', 'shame', 'neither', 'what', 'difference', 'well', 'brother']\n",
      "poor [0, 0, 3, 0, 0, 1, 0, 1, 3, 1]\n",
      "['video', 'radio', 'youtube', 'channel', 'top', 'show', 'studio', 'post', 'ep', 'online']\n",
      "tv [3, 0, 0, 0, 0, 1, 0, 0, 0, 0]\n",
      "['multiple', 'numerous', 'including', 'hundreds', 'three', 'five', 'four', 'two', 'entire', 'six']\n",
      "several [0, 0, 1, 0, 2, 1, 0, 5, 1, 1]\n",
      "['nintendo', 'mp', 'digital', 'xbox', 'flash', 'hd', 'wii', 'radio', 'video', 'channel']\n",
      "audio [0, 0, 0, 0, 0, 0, 0, 0, 3, 0]\n",
      "['remote', 'speaker', 'keyboard', 'broadband', 'graphics', 'upgrade', 'switch', 'specs', 'verizon', 'desktop']\n",
      "backup [4, 0, 0, 0, 0, 0, 0, 0, 0, 0]\n",
      "['forced', 'warrant', 'investigated', 'charged', 'custody', 'convicted', 'murder', 'accused', 'sentenced', 'arrested']\n",
      "attempted [0, 0, 0, 0, 0, 0, 0, 0, 0, 0]\n",
      "['slipped', 'exploded', 'tripped', 'flipped', 'cracked', 'peed', 'scratched', 'disappeared', 'freezes', 'puked']\n",
      "froze [0, 0, 0, 0, 0, 0, 0, 0, 3, 0]\n",
      "['spicey', 'scatty', 'appetising', 'scrubby', 'cheapy', 'suppositories', 'sheisty', 'skimp', 'sciencey', 'baaare']\n",
      "cheep [0, 0, 0, 0, 0, 0, 0, 0, 0, 0]\n",
      "['bottom', 'edge', 'wall', 'side', 'moves', 'round', 'high', 'running', 'eye', 'clear']\n",
      "wide [0, 0, 0, 0, 0, 0, 0, 0, 0, 1]\n",
      "['retail', 'products', 'offers', 'property', 'product', 'services', 'bargain', 'solutions', 'deals', 'providing']\n",
      "affordable [0, 1, 0, 0, 1, 0, 0, 0, 3, 0]\n",
      "['eye', 'eyes', 'inside', 'hands', 'heart', 'behind', 'tears', 'falling', 'turns', 'away']\n",
      "broken [0, 0, 0, 0, 0, 0, 0, 0, 1, 0]\n",
      "['every', 'my', 'there', 'its', 'old', 'entire', 'this', 'out', 'all', 'since']\n",
      "whole [1, 0, 0, 0, 4, 1, 0, 0, 0, 2]\n",
      "['zune', 'gamepad', 'optimus', 'fujifilm', 'ultrabook', 'tomtom', 'pureview', 'ibook', 'logitech', 'typewriter']\n",
      "kodak [0, 0, 0, 0, 0, 0, 0, 0, 0, 0]\n",
      "['kl', 'maen', 'balik', 'lah', 'tuh', 'ky', 'ye', 'tp', 'gi', 'ke']\n",
      "main [0, 0, 0, 0, 0, 0, 0, 0, 0, 0]\n",
      "['hdtv', 'disc', 'photobook', 'widescreen', 'dual', 'lcd', 'projector', 'panel', 'mhz', 'ghz']\n",
      "disk [0, 22, 0, 0, 0, 0, 0, 3, 0, 0]\n",
      "['depot', 'supermarket', 'delivery', 'reservation', 'airline', 'warehouse', 'property', 'retail', 'travel', 'discount']\n",
      "rental [0, 0, 0, 0, 0, 0, 0, 0, 0, 0]\n",
      "['flat', 'low', 'clean', 'stick', 'make', 'smart', 'put', 'solid', 'or', 'body']\n",
      "fit [0, 0, 2, 0, 2, 2, 4, 0, 0, 0]\n",
      "['copier', 'cache', 'usb', 'adapter', 'console', 'batterie', 'ddr', 'micro', 'telephone', 'tablette']\n",
      "portable [0, 0, 0, 0, 0, 0, 0, 0, 0, 0]\n",
      "['bold', 'boot', 'rod', 'ace', 'black', 'gucci', 'klein', 'mens', 'diesel', 'flex']\n",
      "slim [0, 2, 0, 0, 0, 0, 0, 0, 0, 0]\n",
      "['awesome', 'amazing', 'special', 'perfect', 'good', 'great', 'lucky', 'fun', 'favorite', 'one']\n",
      "best [0, 0, 0, 0, 12, 7, 0, 0, 0, 21]\n",
      "['dark', 'deep', 'cross', 'sun', 'heavy', 'clear', 'shadow', 'edge', 'inside', 'side']\n",
      "light [0, 0, 0, 0, 0, 1, 0, 0, 0, 0]\n",
      "['bold', 'type', 'small', 'fit', 'or', 'quality', 'basic', 'easy', 'high', 'active']\n",
      "smart [0, 2, 4, 4, 0, 1, 0, 5, 0, 0]\n",
      "['hands-on', 'polaroid', 'booklet', 'speaker', 'feature', 'scans', 'display', 'review', 'photobook', 'kakaotalk']\n",
      "scan [0, 0, 0, 0, 8, 0, 4, 0, 0]\n",
      "['subtle', 'lingering', 'unfinished', 'downside', 'clearing', 'emphasis', 'balancing', 'substantial', 'calculating', 'relieving']\n",
      "occasional [0, 0, 0, 0, 0, 0, 0, 0, 0, 0]\n",
      "['probably', 'thought', 'disappointed', 'upset', 'knew', 'possibly', 'convinced', 'obviously', 'totally', 'clearly']\n",
      "surprised [1, 0, 1, 0, 0, 0, 0, 0, 0, 0]\n",
      "mirrorlike []\n",
      "['cheap', 'cheaper', 'small', 'clothes', 'plain', 'smaller', 'mixed', 'basic', 'different', 'overpriced']\n",
      "expensive [2, 1, 4, 0, 0, 0, 0, 0, 4, 0]\n",
      "['shelf', 'compartment', 'curtain', 'rack', 'comforter', 'drawers', 'nightstand', 'storage', 'bookcase', 'stool']\n",
      "drawer [0, 0, 0, 0, 0, 0, 0, 0, 0]\n",
      "['looks', 'turned', 'almost', 'freaking', 'felt', 'probably', 'seen', 'realized', 'gets', 'went']\n",
      "looked [11, 0, 1, 0, 2, 1, 1, 0, 4, 0]\n",
      "['surfer', 'swedish', 'french', 'dutch', 'russian', 'dolphin', 'horse', 'circus', 'rogue', 'farmer']\n",
      "pirate [0, 0, 0, 0, 0, 0, 0, 0, 0, 0]\n",
      "['bundle', 'vinyl', 'platinum', 'playstation', 'premium', 'disk', 'custom', 'limited', 'edition', 'gb']\n",
      "disc [0, 0, 0, 0, 0, 6, 0, 0, 0, 2]\n",
      "['plays', 'lost', 'playing', 'won', 'pitch', 'since', 'beat', 'watched', 'had', 'seen']\n",
      "played [56, 0, 6, 0, 0, 2, 0, 0, 0, 1]\n",
      "['nice', 'look', 'pretty', 'bad', 'best', 'hot', 'fun', 'long', 'crazy', 'type']\n",
      "cool [1, 11, 1, 1, 2, 0, 0, 4, 0, 2]\n",
      "['beat', 'rush', 'game', 'watch', 'run', 'playing', 'hit', 'ball', 'up', 'out']\n",
      "play [0, 0, 0, 0, 0, 6, 0, 0, 0, 0]\n",
      "['neutral', 'condition', 'approach', 'reputation', 'driven', 'intellectual', 'relative', 'efficient', 'complex', 'maintaining']\n",
      "stable [0, 0, 0, 0, 0, 0, 0, 0, 0, 0]\n",
      "['both', 'there', 'have', 'yet', 'lost', 'sure', 'than', 'probably', 'think', 'but']\n",
      "least [0, 0, 0, 0, 0, 5, 0, 1, 0, 0]\n",
      "['second', 'next', 'last', 'another', 'the', 'year', 'this', 'after', 'have', 'every']\n",
      "first [3, 0, 3, 1, 0, 3, 0, 0, 0, 1]\n",
      "['perfectly', 'properly', 'hers', 'badly', 'poorly', 'nicer', 'yours', 'worn', 'worked', 'impressed']\n",
      "nicely [0, 1, 0, 0, 1, 1, 0, 0, 7, 1]\n",
      "['too', 'day', 'well', 'nice', 'better', 'fun', 'much', 'this', 'hope', 'great']\n",
      "good [0, 5, 3, 1, 0, 0, 3, 0, 2, 7]\n",
      "['how', 'way', 'need', 'not', 'anyone', 'have', 'anything', 'or', 'something', 'can']\n",
      "find [0, 4, 0, 0, 0, 0, 3, 0, 3, 0]\n",
      "['previous', 'updates', 'regarding', 'coverage', 'issue', 'audience', 'report', 'latest', 'according', 'stats']\n",
      "recent [0, 0, 0, 0, 0, 0, 0, 0, 0, 0]\n",
      "['oh', 'o.o', '?', ':o', 'okay', 'ah', 'hahahah', 'xd', 'sorry', 'aw']\n",
      "ok [2, 0, 0, 0, 0, 0, 0, 0, 0, 0]\n",
      "['upgrade', 'browser', 'sync', 'server', 'uninstall', 'remote', 'login', 'jailbreak', 'headset', 'download']\n",
      "install [0, 0, 0, 0, 0, 4, 0, 0, 0, 0]\n",
      "['bt', 'knw', 'wen', 'jst', 'dnt', 'cnt', 'wht', 'buh', 'kno', 'wt']\n",
      "nt [0, 0, 0, 0, 0, 0, 0, 0, 0, 0]\n",
      "['maybelline', 'stylish', 'versatile', 'elegant', 'acrylic', 'textured', 'geometric', 'sturdy', 'edgy', 'metallic']\n",
      "sleek [0, 1, 0, 0, 0, 0, 0, 0, 0, 0]\n",
      "['stacks', 'bottles', 'fold', 'scrap', 'racks', 'liquor', 'loaded', 'whip', 'cash', 'grab']\n",
      "stack [0, 0, 0, 0, 0, 1, 0, 0, 0]\n",
      "['gump', 'dory', 'narnia', 'pitbull', 'skrillex', 'scooby', 'wall-e', 'shrek', 'katniss', 'barney']\n",
      "nemo [0, 0, 0, 0, 0, 0, 0, 0, 0, 0]\n",
      "['january', 'march', 'october', 'december', 'june', 'july', 'november', 'august', 'september', 'dec']\n",
      "february [0, 1, 0, 0, 0, 0, 0, 0, 0, 0]\n",
      "['version', 'style', 'pokemon', 'art', 'grey', 'cover', 'monster', 'master', 'red', 'black']\n",
      "original [0, 0, 0, 0, 0, 0, 0, 0, 0, 0]\n",
      "['some', 'this', 'out', 'up', 'look', 'like', 'with', 'another', 'the', 'my']\n",
      "big [0, 0, 0, 0, 11, 8, 0, 1, 0, 0]\n",
      "['whole', 'two', 'every', 'through', 'three', 'our', 'into', 'five', 'third', 'four']\n",
      "entire [1, 5, 1, 0, 2, 0, 0, 1, 0, 0]\n",
      "['va', 'les', 'un', 'la', 'par', 'vas', 'parce', 'lui', 'mes', 'dire']\n",
      "le [0, 0, 0, 0, 0, 0, 0, 0, 0]\n",
      "['philosophy', 'educational', 'studies', 'theology', 'experiment', 'science', 'literary', 'economics', 'journalism', 'psychology']\n",
      "literature [0, 0, 0, 0, 0, 0, 0, 0, 0, 0]\n",
      "['look', 'girl', 'like', 'pretty', 'kid', 'big', 'old', 'my', 'lady', 'one']\n",
      "little [11, 0, 8, 1, 2, 2, 4, 0, 0, 21]\n",
      "['these', 'those', 'other', 'many', 'shitty', 'ones', 'olds', 'kinds', 'stuff', 'different']\n",
      "bunch [0, 0, 0, 1, 0, 21, 4, 0, 0, 4]\n",
      "['edge', 'light', 'above', 'low', 'pressure', 'power', 'step', 'key', 'eye', 'clean']\n",
      "clear [0, 5, 0, 0, 0, 0, 0, 0, 0, 2]\n",
      "pitchcorrected []\n",
      "['spot', 'set', 'single', 'high', 'big', 'best', 'top', 'extra', 'first', 'running']\n",
      "full [0, 5, 0, 0, 2, 2, 0, 2, 5, 0]\n",
      "['perceive', 'nurture', 'arise', 'discourage', 'outsmart', 'dictate', 'rely', 'reflect', 'downplay', 'withhold']\n",
      "overlook [0, 0, 0, 0, 0, 0, 0, 0, 0, 0]\n",
      "['figure', 'handle', 'sound', 'smart', 'same', 'cool', 'thing', 'bad', 'change', 'or']\n",
      "type [1, 0, 2, 2, 0, 3, 7, 1, 0, 0]\n",
      "['they', 'find', 'could', 'does', 'that', 'found', 'should', 'called', 'only', 'just']\n",
      "used [0, 3, 5, 0, 0, 2, 0, 0, 0, 0]\n",
      "['able', 'expect', 'allow', 'helped', 'choose', '’ll', 'consider', 'rely', 'convince', 'manage']\n",
      "willing [4, 0, 1, 0, 0, 0, 0, 0, 0, 0]\n",
      "['weird', 'hilarious', 'thats', 'crazy', 'stupid', 'kinda', 'silly', 'confused', 'dude', 'dumb']\n",
      "funny [0, 0, 0, 0, 0, 0, 0, 0, 0, 0]\n",
      "remotecontrol []\n",
      "['expensive', 'buy', 'cheaper', 'small', 'bags', 'buying', 'sell', 'products', 'cheapest', 'ebay']\n",
      "cheap [1, 1, 1, 4, 0, 1, 0, 1, 0, 0]\n",
      "['software', 'gps', 'monitor', 'hardware', 'server', 'smartphone', 'antivirus', 'tablet', 'web', 'mobile']\n",
      "manual [0, 0, 0, 0, 0, 0, 0, 0, 0, 0]\n",
      "['way', 'but', 'it', 'up', 'its', 'good', 'nice', 'this', 'there', 'bad']\n",
      "long [4, 0, 0, 0, 0, 12, 1, 0, 0, 1]\n",
      "['burn', 'spill', 'tap', 'wash', 'fork', 'scratch', 'sink', 'crawl', 'float', 'drain']\n",
      "freeze [0, 0, 0, 0, 0, 0, 0, 0, 0, 0]\n",
      "['woeful', 'abysmal', 'unwatchable', 'unrecognisable', 'shambolic', 'underwhelming', 'resurfaced', 'underperformed', 'goalless', 'spectacularly']\n",
      "unplayable [0, 0, 0, 0, 0, 0, 0, 0, 0, 0]\n",
      "['expensive', 'cheapest', 'cheap', 'priced', 'prices', 'cost', 'customers', 'options', 'buying', 'purchase']\n",
      "cheaper [1, 0, 2, 0, 2, 0, 0, 0, 1, 1]\n",
      "['other', 'many', 'ones', 'things', 'lot', 'those', 'these', 'most', 'any', 'odd']\n",
      "different [0, 1, 21, 7, 3, 0, 0, 0, 0, 0]\n",
      "['determined', 'happier', 'prepared', 'motivated', 'treated', 'unhappy', 'stressed', 'accomplished', 'easier', 'physically']\n",
      "satisfied [0, 0, 0, 0, 0, 0, 0, 0, 0, 0]\n",
      "['comfortable', 'prettier', 'happier', 'cuter', 'skinnier', 'nicely', 'sexier', 'ridiculously', 'uncomfortable', 'tanned']\n",
      "nicer [0, 0, 0, 0, 0, 4, 0, 0, 0, 0]\n",
      "['write', 'answer', 'about', 'what', 'how', 'fact', 'something', 'explain', 'it', 'reading']\n",
      "read [0, 0, 0, 0, 0, 2, 3, 0, 0, 3]\n",
      "['range', 'gap', 'system', 'quality', 'board', 'hardware', 'grid', 'display', 'market', 'level']\n",
      "standard [2, 0, 0, 1, 0, 0, 0, 0, 0, 0]\n",
      "['next', 'first', 'year', 'yesterday', 'since', 'second', 'week', 'coming', 'this', 'today']\n",
      "last [0, 5, 3, 2, 2, 3, 4, 1, 0, 1]\n",
      "['gurantee', 'eill', 'probbly', 'coudnt', 'eanna', 'overcharge', 'evrn', 'manged', 'didnot', 'yet.i']\n",
      "eventualy [0, 0, 0, 0, 0, 0, 0, 0, 0, 0]\n",
      "['well', 'maybe', 'but', 'guess', 'know', 'think', 'it', 'see', 'there', 'then']\n",
      "sure [3, 1, 0, 1, 0, 0, 0, 3, 0, 0]\n",
      "['reason', 'exactly', 'why', 'saying', 'same', 'either', 'what', 'think', 'how', 'that']\n",
      "wrong [2, 0, 0, 0, 0, 1, 0, 0, 0, 0]\n",
      "['features', 'latest', 'graphic', 'reviews', 'exclusive', 'featured', 'artwork', 'updates', 'book', 'reference']\n",
      "feature [0, 0, 4, 0, 0, 0, 0, 0, 0]\n",
      "['with', 'check', 'the', 'from', 'special', 'free', 'our', 'for', 'first', 'this']\n",
      "new [0, 1, 0, 0, 0, 0, 0, 0, 5, 0]\n",
      "['i', 'she', 'mine', 'sure', 'be', 'lol', 'long', \"'m\", 'so', 'just']\n",
      "fine [0, 0, 1, 5, 0, 0, 4, 0, 0, 0]\n",
      "['point', 'situation', 'impossible', 'important', 'sort', 'change', 'place', 'option', 'end', 'changes']\n",
      "possible [1, 0, 0, 0, 0, 0, 0, 0, 0, 0]\n",
      "['yours', 'longer', 'without', 'giving', 'spend', 'count', 'lot', 'everything', 'given', 'means']\n",
      "worth [0, 1, 4, 0, 0, 0, 3, 10, 0, 0]\n",
      "['shit', 'crazy', 'but', 'hell', 'right', 'like', 'same', 'damn', 'thing', 'way']\n",
      "bad [0, 0, 0, 0, 2, 8, 0, 0, 7, 4]\n",
      "['rolled', 'garbage', 'stacked', 'whip', 'bars', 'wheels', 'bottles', 'smoked', 'liquor', 'stack']\n",
      "loaded [0, 0, 0, 0, 0, 0, 0, 0, 0, 2]\n",
      "['first', 'another', 'third', 'last', 'after', 'every', 'the', 'return', 'lost', 'end']\n",
      "second [5, 1, 0, 3, 0, 1, 0, 0, 0, 0]\n",
      "['tip', 'regular', 'full', 'fresh', 'money', 'some', 'short', 'pack', 'fit', 'clean']\n",
      "extra [0, 1, 1, 0, 1, 0, 0, 0, 4, 2]\n",
      "['search', 'access', 'network', 'convert', 'create', 'upgrade', 'manage', 'apply', 'mobile', 'include']\n",
      "connect [0, 2, 0, 0, 0, 0, 0, 0, 0, 0]\n",
      "['mpc', 'xm', 'sniping', 'gamebattles', 'karuta', 'optic', 'gdc', 'traxx', 'synergy', 'funimation']\n",
      "apex [0, 0, 0, 0, 0, 0, 0, 0, 0, 0]\n",
      "['jdp', 'qcr', 'dfp', 'nex-f', 'mpl', 'dfx', 'tcn', 'mycareer', 'ffbb', 'mrl']\n",
      "vbr [0, 0, 0, 0, 0, 0, 0, 0, 0, 0]\n",
      "['though', 'now', 'this', 'it', 'again', 'there', 'but', 'way', 'here', 'its']\n",
      "right [2, 0, 0, 0, 0, 0, 0, 4, 0, 0]\n",
      "['hqn', 'marimekko', '総選挙公式ガイドブック', 'アカデミック版', '大阪府より', 'ntsc', '神奈川県より', 'ch_blog', 'ラウンドファスナー', 'スターターキット']\n",
      "dvdr [0, 0, 0, 0, 0, 0, 0, 0, 0, 0]\n",
      "['good', 'lucky', 'too', 'pretty', 'long', 'cool', 'lovely', 'well', 'sweet', 'fun']\n",
      "nice [12, 0, 0, 1, 4, 3, 0, 3, 0, 0]\n",
      "['everything', 'you', 'too', 'anything', 'lot', 'it', 'mean', 'nothing', 'well', \"'re\"]\n",
      "much [10, 0, 0, 3, 3, 0, 0, 1, 3, 0]\n",
      "['might', 'expect', 'rather', 'trying', '’ll', 'willing', 'find', 'unless', 'choose', 'could']\n",
      "able [0, 0, 0, 2, 0, 1, 3, 0, 0, 5]\n",
      "['rugged', 'sleek', 'fitted', 'hight', 'wavy', 'curling', 'sleeve', 'silky', 'ionic', 'heated']\n",
      "lightweight [0, 5, 0, 0, 0, 0, 0, 0, 0, 0]\n",
      "['glittery', 'silky', 'layered', 'glasses', 'fuzzy', 'nails', 'sharpie', 'nail', 'sleeve', 'dyed']\n",
      "shiny [0, 0, 0, 0, 0, 0, 0, 0, 0, 0]\n",
      "['nodus', 'titantron', 'n-gage', 'ulead', 'funtage', 'irig', 'bukkit', 'redstone', 'winterboard', 'zune']\n",
      "divx [0, 0, 0, 0, 0, 0, 0, 0, 0, 0]\n",
      "['serious', 'stuck', 'mess', 'turn', 'straight', 'thinking', 'handle', 'sit', 'bad', 'step']\n",
      "slow [0, 0, 0, 1, 0, 0, 0, 0, 1, 0]\n",
      "['nexus', 'sony', 'tablet', 'galaxy', 'xl', 'dual', 'samsung', 'xperia', 'premium', 'playstation']\n",
      "gb [0, 0, 0, 0, 0, 0, 0, 0, 0, 0]\n",
      "['enough', 'work', 'find', 'more', 'need', 'learn', 'anything', 'better', 'something', 'rather']\n",
      "easy [2, 21, 3, 0, 0, 0, 3, 0, 3, 0]\n",
      "['kindle', 'nexus', 'reviews', 'itunes', 'ios', 'exclusive', 'deals', 'gallery', 'edition', 'available']\n",
      "amazon [0, 0, 4, 0, 0, 0, 3, 0, 0, 0]\n",
      "['understand', 'teach', 'judge', 'explain', 'learn', 'talk', 'act', 'recognize', 'about', 'nor']\n",
      "speak [1, 0, 0, 0, 0, 0, 1, 6, 0, 0]\n",
      "['mixed', 'lifestyle', 'tradition', 'heritage', 'worlds', 'roots', 'patriotic', 'african', 'royalty', 'powerhouse']\n",
      "finest [0, 0, 0, 0, 0, 0, 0, 0, 0, 0]\n",
      "['file', 'folder', 'copy', 'browser', 'website', 'bonus', 'rank', 'upgrade', 'display', 'pages']\n",
      "format [5, 0, 0, 0, 0, 0, 0, 0, 0, 0]\n"
     ]
    }
   ],
   "source": [
    "# Generate Word2Vec related words frequency vectors for each adjective and store it a dictionary\n",
    "adj_wordnet_freq_dict={}\n",
    "for adj in corpus_adjectives_unique:\n",
    "    freq_vector = generate_frequency_vector(adj)\n",
    "    adj_wordnet_freq_dict.update({adj:freq_vector})\n",
    "    print(adj, freq_vector)"
   ]
  },
  {
   "cell_type": "code",
   "execution_count": 38,
   "id": "981ebdce",
   "metadata": {},
   "outputs": [
    {
     "name": "stdout",
     "output_type": "stream",
     "text": [
      "{'act': [0, 0, 1, 0, 0, 4, 0, 0, 0, 1], 'cheasy': [], 'small': [0, 0, 0, 0, 0, 2, 2, 3, 0, 0], 'raw': [0, 0, 0, 0, 0, 0, 0, 0, 0, 0], 'compact': [0, 0, 0, 0, 0, 0, 0, 0, 0, 0], 'quality': [1, 0, 0, 0, 0, 0, 0, 2, 0, 0], 'multitude': [0, 0, 0, 0, 0, 0, 0, 0, 0], 'visual': [0, 0, 0, 0, 0, 0, 0, 0, 0, 3], 'loud': [0, 0, 0, 0, 2, 0, 1, 1, 2, 0], 'real': [56, 2, 0, 21, 4, 1, 0, 0, 0, 0], 'tried': [2, 1, 0, 0, 1, 0, 0, 0, 0, 0], 'old': [2, 1, 0, 1, 8, 0, 0, 0, 1, 0], 'sharp': [0, 1, 0, 0, 1, 0, 0, 2, 0, 0], 'christmas': [0, 0, 0, 5, 0, 0, 0, 1, 0, 0], 'older': [0, 0, 0, 0, 21, 0, 0, 0, 3, 1], 'noiseless': [0, 0, 0, 0, 0, 0, 0, 0, 0, 0], 'quick': [5, 21, 0, 4, 0, 2, 3, 0, 2, 0], 'flimsy': [0, 0, 0, 0, 0, 0, 0, 0, 0, 0], 'negative': [0, 0, 0, 0, 0, 0, 0, 0, 0, 0], 'installed': [0, 0, 0, 0, 0, 0, 0, 2, 0, 0], 'present': [0, 0, 0, 7, 0, 0, 0, 0, 1, 0], 'regular': [2, 0, 1, 0, 0, 0, 0, 0, 0, 0], 'silent': [3, 0, 0, 0, 0, 0, 0, 2, 0, 0], 'video': [0, 0, 0, 0, 0, 0, 0, 0, 4, 9], 'remote': [0, 0, 0, 0, 0, 0, 0, 0, 0, 0], 'certain': [1, 4, 0, 0, 0, 0, 7, 0, 0, 0], 'great': [0, 1, 12, 0, 0, 0, 0, 5, 0, 0], 'worse': [0, 0, 1, 1, 0, 0, 2, 1, 0, 0], 'file': [0, 8, 0, 0, 0, 0, 0, 2, 0], 'front': [0, 0, 0, 0, 0, 0, 0, 0, 0, 0], 'progressive': [0, 0, 0, 0, 0, 0, 0, 0, 0, 0], 'attractive': [0, 0, 0, 0, 0, 0, 1, 0, 1, 0], 'disposable': [0, 0, 0, 0, 0, 0, 0, 0, 0, 0], 'claim': [1, 0, 0, 2, 0, 3, 0, 0, 0, 0], 'oppressed': [0, 0, 0, 0, 0, 0, 0, 0, 0, 0], 'couple': [0, 1, 0, 0, 3, 0, 0, 0, 1, 0], 'uk': [0, 0, 0, 0, 0, 0, 0, 0, 0, 0], 'longterm': [0, 0, 0, 0, 0, 0, 0, 0, 0, 0], 'bang': [0, 0, 0, 0, 0, 0, 0, 0, 0, 0], 'wma': [0, 0, 0, 0, 0, 0, 0, 0, 0, 0], 'smooth': [0, 0, 0, 0, 0, 0, 0, 2, 0, 0], 'many': [0, 0, 5, 3, 0, 0, 4, 0, 21, 0], 'dvd': [9, 0, 0, 0, 0, 0, 0, 0, 0, 0], 'crappy': [0, 0, 0, 0, 0, 0, 0, 0, 0, 0], 'inexpensive': [0, 0, 0, 2, 0, 0, 0, 0, 0, 1], 'allow': [0, 6, 0, 1, 0, 0, 0, 0, 0, 0], 'poor': [0, 0, 3, 0, 0, 1, 0, 1, 3, 1], 'tv': [3, 0, 0, 0, 0, 1, 0, 0, 0, 0], 'several': [0, 0, 1, 0, 2, 1, 0, 5, 1, 1], 'audio': [0, 0, 0, 0, 0, 0, 0, 0, 3, 0], 'backup': [4, 0, 0, 0, 0, 0, 0, 0, 0, 0], 'attempted': [0, 0, 0, 0, 0, 0, 0, 0, 0, 0], 'froze': [0, 0, 0, 0, 0, 0, 0, 0, 3, 0], 'cheep': [0, 0, 0, 0, 0, 0, 0, 0, 0, 0], 'wide': [0, 0, 0, 0, 0, 0, 0, 0, 0, 1], 'affordable': [0, 1, 0, 0, 1, 0, 0, 0, 3, 0], 'broken': [0, 0, 0, 0, 0, 0, 0, 0, 1, 0], 'whole': [1, 0, 0, 0, 4, 1, 0, 0, 0, 2], 'kodak': [0, 0, 0, 0, 0, 0, 0, 0, 0, 0], 'main': [0, 0, 0, 0, 0, 0, 0, 0, 0, 0], 'disk': [0, 22, 0, 0, 0, 0, 0, 3, 0, 0], 'rental': [0, 0, 0, 0, 0, 0, 0, 0, 0, 0], 'fit': [0, 0, 2, 0, 2, 2, 4, 0, 0, 0], 'portable': [0, 0, 0, 0, 0, 0, 0, 0, 0, 0], 'slim': [0, 2, 0, 0, 0, 0, 0, 0, 0, 0], 'best': [0, 0, 0, 0, 12, 7, 0, 0, 0, 21], 'light': [0, 0, 0, 0, 0, 1, 0, 0, 0, 0], 'smart': [0, 2, 4, 4, 0, 1, 0, 5, 0, 0], 'scan': [0, 0, 0, 0, 8, 0, 4, 0, 0], 'occasional': [0, 0, 0, 0, 0, 0, 0, 0, 0, 0], 'surprised': [1, 0, 1, 0, 0, 0, 0, 0, 0, 0], 'mirrorlike': [], 'expensive': [2, 1, 4, 0, 0, 0, 0, 0, 4, 0], 'drawer': [0, 0, 0, 0, 0, 0, 0, 0, 0], 'looked': [11, 0, 1, 0, 2, 1, 1, 0, 4, 0], 'pirate': [0, 0, 0, 0, 0, 0, 0, 0, 0, 0], 'disc': [0, 0, 0, 0, 0, 6, 0, 0, 0, 2], 'played': [56, 0, 6, 0, 0, 2, 0, 0, 0, 1], 'cool': [1, 11, 1, 1, 2, 0, 0, 4, 0, 2], 'play': [0, 0, 0, 0, 0, 6, 0, 0, 0, 0], 'stable': [0, 0, 0, 0, 0, 0, 0, 0, 0, 0], 'least': [0, 0, 0, 0, 0, 5, 0, 1, 0, 0], 'first': [3, 0, 3, 1, 0, 3, 0, 0, 0, 1], 'nicely': [0, 1, 0, 0, 1, 1, 0, 0, 7, 1], 'good': [0, 5, 3, 1, 0, 0, 3, 0, 2, 7], 'find': [0, 4, 0, 0, 0, 0, 3, 0, 3, 0], 'recent': [0, 0, 0, 0, 0, 0, 0, 0, 0, 0], 'ok': [2, 0, 0, 0, 0, 0, 0, 0, 0, 0], 'install': [0, 0, 0, 0, 0, 4, 0, 0, 0, 0], 'nt': [0, 0, 0, 0, 0, 0, 0, 0, 0, 0], 'sleek': [0, 1, 0, 0, 0, 0, 0, 0, 0, 0], 'stack': [0, 0, 0, 0, 0, 1, 0, 0, 0], 'nemo': [0, 0, 0, 0, 0, 0, 0, 0, 0, 0], 'february': [0, 1, 0, 0, 0, 0, 0, 0, 0, 0], 'original': [0, 0, 0, 0, 0, 0, 0, 0, 0, 0], 'big': [0, 0, 0, 0, 11, 8, 0, 1, 0, 0], 'entire': [1, 5, 1, 0, 2, 0, 0, 1, 0, 0], 'le': [0, 0, 0, 0, 0, 0, 0, 0, 0], 'literature': [0, 0, 0, 0, 0, 0, 0, 0, 0, 0], 'little': [11, 0, 8, 1, 2, 2, 4, 0, 0, 21], 'bunch': [0, 0, 0, 1, 0, 21, 4, 0, 0, 4], 'clear': [0, 5, 0, 0, 0, 0, 0, 0, 0, 2], 'pitchcorrected': [], 'full': [0, 5, 0, 0, 2, 2, 0, 2, 5, 0], 'overlook': [0, 0, 0, 0, 0, 0, 0, 0, 0, 0], 'type': [1, 0, 2, 2, 0, 3, 7, 1, 0, 0], 'used': [0, 3, 5, 0, 0, 2, 0, 0, 0, 0], 'willing': [4, 0, 1, 0, 0, 0, 0, 0, 0, 0], 'funny': [0, 0, 0, 0, 0, 0, 0, 0, 0, 0], 'remotecontrol': [], 'cheap': [1, 1, 1, 4, 0, 1, 0, 1, 0, 0], 'manual': [0, 0, 0, 0, 0, 0, 0, 0, 0, 0], 'long': [4, 0, 0, 0, 0, 12, 1, 0, 0, 1], 'freeze': [0, 0, 0, 0, 0, 0, 0, 0, 0, 0], 'unplayable': [0, 0, 0, 0, 0, 0, 0, 0, 0, 0], 'cheaper': [1, 0, 2, 0, 2, 0, 0, 0, 1, 1], 'different': [0, 1, 21, 7, 3, 0, 0, 0, 0, 0], 'satisfied': [0, 0, 0, 0, 0, 0, 0, 0, 0, 0], 'nicer': [0, 0, 0, 0, 0, 4, 0, 0, 0, 0], 'read': [0, 0, 0, 0, 0, 2, 3, 0, 0, 3], 'standard': [2, 0, 0, 1, 0, 0, 0, 0, 0, 0], 'last': [0, 5, 3, 2, 2, 3, 4, 1, 0, 1], 'eventualy': [0, 0, 0, 0, 0, 0, 0, 0, 0, 0], 'sure': [3, 1, 0, 1, 0, 0, 0, 3, 0, 0], 'wrong': [2, 0, 0, 0, 0, 1, 0, 0, 0, 0], 'feature': [0, 0, 4, 0, 0, 0, 0, 0, 0], 'new': [0, 1, 0, 0, 0, 0, 0, 0, 5, 0], 'fine': [0, 0, 1, 5, 0, 0, 4, 0, 0, 0], 'possible': [1, 0, 0, 0, 0, 0, 0, 0, 0, 0], 'worth': [0, 1, 4, 0, 0, 0, 3, 10, 0, 0], 'bad': [0, 0, 0, 0, 2, 8, 0, 0, 7, 4], 'loaded': [0, 0, 0, 0, 0, 0, 0, 0, 0, 2], 'second': [5, 1, 0, 3, 0, 1, 0, 0, 0, 0], 'extra': [0, 1, 1, 0, 1, 0, 0, 0, 4, 2], 'connect': [0, 2, 0, 0, 0, 0, 0, 0, 0, 0], 'apex': [0, 0, 0, 0, 0, 0, 0, 0, 0, 0], 'vbr': [0, 0, 0, 0, 0, 0, 0, 0, 0, 0], 'right': [2, 0, 0, 0, 0, 0, 0, 4, 0, 0], 'dvdr': [0, 0, 0, 0, 0, 0, 0, 0, 0, 0], 'nice': [12, 0, 0, 1, 4, 3, 0, 3, 0, 0], 'much': [10, 0, 0, 3, 3, 0, 0, 1, 3, 0], 'able': [0, 0, 0, 2, 0, 1, 3, 0, 0, 5], 'lightweight': [0, 5, 0, 0, 0, 0, 0, 0, 0, 0], 'shiny': [0, 0, 0, 0, 0, 0, 0, 0, 0, 0], 'divx': [0, 0, 0, 0, 0, 0, 0, 0, 0, 0], 'slow': [0, 0, 0, 1, 0, 0, 0, 0, 1, 0], 'gb': [0, 0, 0, 0, 0, 0, 0, 0, 0, 0], 'easy': [2, 21, 3, 0, 0, 0, 3, 0, 3, 0], 'amazon': [0, 0, 4, 0, 0, 0, 3, 0, 0, 0], 'speak': [1, 0, 0, 0, 0, 0, 1, 6, 0, 0], 'finest': [0, 0, 0, 0, 0, 0, 0, 0, 0, 0], 'format': [5, 0, 0, 0, 0, 0, 0, 0, 0, 0]}\n"
     ]
    }
   ],
   "source": [
    "print(adj_wordnet_freq_dict)"
   ]
  },
  {
   "cell_type": "code",
   "execution_count": 39,
   "id": "b6736461",
   "metadata": {},
   "outputs": [
    {
     "data": {
      "text/plain": [
       "152"
      ]
     },
     "execution_count": 39,
     "metadata": {},
     "output_type": "execute_result"
    }
   ],
   "source": [
    "len(adj_wordnet_freq_dict)"
   ]
  },
  {
   "cell_type": "code",
   "execution_count": 40,
   "id": "a1fa2dd6",
   "metadata": {},
   "outputs": [
    {
     "name": "stdout",
     "output_type": "stream",
     "text": [
      "[[0, 0, 1, 0, 0, 4, 0, 0, 0, 1], [], [0, 0, 0, 0, 0, 2, 2, 3, 0, 0], [0, 0, 0, 0, 0, 0, 0, 0, 0, 0], [0, 0, 0, 0, 0, 0, 0, 0, 0, 0], [1, 0, 0, 0, 0, 0, 0, 2, 0, 0], [0, 0, 0, 0, 0, 0, 0, 0, 0], [0, 0, 0, 0, 0, 0, 0, 0, 0, 3], [0, 0, 0, 0, 2, 0, 1, 1, 2, 0], [56, 2, 0, 21, 4, 1, 0, 0, 0, 0], [2, 1, 0, 0, 1, 0, 0, 0, 0, 0], [2, 1, 0, 1, 8, 0, 0, 0, 1, 0], [0, 1, 0, 0, 1, 0, 0, 2, 0, 0], [0, 0, 0, 5, 0, 0, 0, 1, 0, 0], [0, 0, 0, 0, 21, 0, 0, 0, 3, 1], [0, 0, 0, 0, 0, 0, 0, 0, 0, 0], [5, 21, 0, 4, 0, 2, 3, 0, 2, 0], [0, 0, 0, 0, 0, 0, 0, 0, 0, 0], [0, 0, 0, 0, 0, 0, 0, 0, 0, 0], [0, 0, 0, 0, 0, 0, 0, 2, 0, 0], [0, 0, 0, 7, 0, 0, 0, 0, 1, 0], [2, 0, 1, 0, 0, 0, 0, 0, 0, 0], [3, 0, 0, 0, 0, 0, 0, 2, 0, 0], [0, 0, 0, 0, 0, 0, 0, 0, 4, 9], [0, 0, 0, 0, 0, 0, 0, 0, 0, 0], [1, 4, 0, 0, 0, 0, 7, 0, 0, 0], [0, 1, 12, 0, 0, 0, 0, 5, 0, 0], [0, 0, 1, 1, 0, 0, 2, 1, 0, 0], [0, 8, 0, 0, 0, 0, 0, 2, 0], [0, 0, 0, 0, 0, 0, 0, 0, 0, 0], [0, 0, 0, 0, 0, 0, 0, 0, 0, 0], [0, 0, 0, 0, 0, 0, 1, 0, 1, 0], [0, 0, 0, 0, 0, 0, 0, 0, 0, 0], [1, 0, 0, 2, 0, 3, 0, 0, 0, 0], [0, 0, 0, 0, 0, 0, 0, 0, 0, 0], [0, 1, 0, 0, 3, 0, 0, 0, 1, 0], [0, 0, 0, 0, 0, 0, 0, 0, 0, 0], [0, 0, 0, 0, 0, 0, 0, 0, 0, 0], [0, 0, 0, 0, 0, 0, 0, 0, 0, 0], [0, 0, 0, 0, 0, 0, 0, 0, 0, 0], [0, 0, 0, 0, 0, 0, 0, 2, 0, 0], [0, 0, 5, 3, 0, 0, 4, 0, 21, 0], [9, 0, 0, 0, 0, 0, 0, 0, 0, 0], [0, 0, 0, 0, 0, 0, 0, 0, 0, 0], [0, 0, 0, 2, 0, 0, 0, 0, 0, 1], [0, 6, 0, 1, 0, 0, 0, 0, 0, 0], [0, 0, 3, 0, 0, 1, 0, 1, 3, 1], [3, 0, 0, 0, 0, 1, 0, 0, 0, 0], [0, 0, 1, 0, 2, 1, 0, 5, 1, 1], [0, 0, 0, 0, 0, 0, 0, 0, 3, 0], [4, 0, 0, 0, 0, 0, 0, 0, 0, 0], [0, 0, 0, 0, 0, 0, 0, 0, 0, 0], [0, 0, 0, 0, 0, 0, 0, 0, 3, 0], [0, 0, 0, 0, 0, 0, 0, 0, 0, 0], [0, 0, 0, 0, 0, 0, 0, 0, 0, 1], [0, 1, 0, 0, 1, 0, 0, 0, 3, 0], [0, 0, 0, 0, 0, 0, 0, 0, 1, 0], [1, 0, 0, 0, 4, 1, 0, 0, 0, 2], [0, 0, 0, 0, 0, 0, 0, 0, 0, 0], [0, 0, 0, 0, 0, 0, 0, 0, 0, 0], [0, 22, 0, 0, 0, 0, 0, 3, 0, 0], [0, 0, 0, 0, 0, 0, 0, 0, 0, 0], [0, 0, 2, 0, 2, 2, 4, 0, 0, 0], [0, 0, 0, 0, 0, 0, 0, 0, 0, 0], [0, 2, 0, 0, 0, 0, 0, 0, 0, 0], [0, 0, 0, 0, 12, 7, 0, 0, 0, 21], [0, 0, 0, 0, 0, 1, 0, 0, 0, 0], [0, 2, 4, 4, 0, 1, 0, 5, 0, 0], [0, 0, 0, 0, 8, 0, 4, 0, 0], [0, 0, 0, 0, 0, 0, 0, 0, 0, 0], [1, 0, 1, 0, 0, 0, 0, 0, 0, 0], [], [2, 1, 4, 0, 0, 0, 0, 0, 4, 0], [0, 0, 0, 0, 0, 0, 0, 0, 0], [11, 0, 1, 0, 2, 1, 1, 0, 4, 0], [0, 0, 0, 0, 0, 0, 0, 0, 0, 0], [0, 0, 0, 0, 0, 6, 0, 0, 0, 2], [56, 0, 6, 0, 0, 2, 0, 0, 0, 1], [1, 11, 1, 1, 2, 0, 0, 4, 0, 2], [0, 0, 0, 0, 0, 6, 0, 0, 0, 0], [0, 0, 0, 0, 0, 0, 0, 0, 0, 0], [0, 0, 0, 0, 0, 5, 0, 1, 0, 0], [3, 0, 3, 1, 0, 3, 0, 0, 0, 1], [0, 1, 0, 0, 1, 1, 0, 0, 7, 1], [0, 5, 3, 1, 0, 0, 3, 0, 2, 7], [0, 4, 0, 0, 0, 0, 3, 0, 3, 0], [0, 0, 0, 0, 0, 0, 0, 0, 0, 0], [2, 0, 0, 0, 0, 0, 0, 0, 0, 0], [0, 0, 0, 0, 0, 4, 0, 0, 0, 0], [0, 0, 0, 0, 0, 0, 0, 0, 0, 0], [0, 1, 0, 0, 0, 0, 0, 0, 0, 0], [0, 0, 0, 0, 0, 1, 0, 0, 0], [0, 0, 0, 0, 0, 0, 0, 0, 0, 0], [0, 1, 0, 0, 0, 0, 0, 0, 0, 0], [0, 0, 0, 0, 0, 0, 0, 0, 0, 0], [0, 0, 0, 0, 11, 8, 0, 1, 0, 0], [1, 5, 1, 0, 2, 0, 0, 1, 0, 0], [0, 0, 0, 0, 0, 0, 0, 0, 0], [0, 0, 0, 0, 0, 0, 0, 0, 0, 0], [11, 0, 8, 1, 2, 2, 4, 0, 0, 21], [0, 0, 0, 1, 0, 21, 4, 0, 0, 4], [0, 5, 0, 0, 0, 0, 0, 0, 0, 2], [], [0, 5, 0, 0, 2, 2, 0, 2, 5, 0], [0, 0, 0, 0, 0, 0, 0, 0, 0, 0], [1, 0, 2, 2, 0, 3, 7, 1, 0, 0], [0, 3, 5, 0, 0, 2, 0, 0, 0, 0], [4, 0, 1, 0, 0, 0, 0, 0, 0, 0], [0, 0, 0, 0, 0, 0, 0, 0, 0, 0], [], [1, 1, 1, 4, 0, 1, 0, 1, 0, 0], [0, 0, 0, 0, 0, 0, 0, 0, 0, 0], [4, 0, 0, 0, 0, 12, 1, 0, 0, 1], [0, 0, 0, 0, 0, 0, 0, 0, 0, 0], [0, 0, 0, 0, 0, 0, 0, 0, 0, 0], [1, 0, 2, 0, 2, 0, 0, 0, 1, 1], [0, 1, 21, 7, 3, 0, 0, 0, 0, 0], [0, 0, 0, 0, 0, 0, 0, 0, 0, 0], [0, 0, 0, 0, 0, 4, 0, 0, 0, 0], [0, 0, 0, 0, 0, 2, 3, 0, 0, 3], [2, 0, 0, 1, 0, 0, 0, 0, 0, 0], [0, 5, 3, 2, 2, 3, 4, 1, 0, 1], [0, 0, 0, 0, 0, 0, 0, 0, 0, 0], [3, 1, 0, 1, 0, 0, 0, 3, 0, 0], [2, 0, 0, 0, 0, 1, 0, 0, 0, 0], [0, 0, 4, 0, 0, 0, 0, 0, 0], [0, 1, 0, 0, 0, 0, 0, 0, 5, 0], [0, 0, 1, 5, 0, 0, 4, 0, 0, 0], [1, 0, 0, 0, 0, 0, 0, 0, 0, 0], [0, 1, 4, 0, 0, 0, 3, 10, 0, 0], [0, 0, 0, 0, 2, 8, 0, 0, 7, 4], [0, 0, 0, 0, 0, 0, 0, 0, 0, 2], [5, 1, 0, 3, 0, 1, 0, 0, 0, 0], [0, 1, 1, 0, 1, 0, 0, 0, 4, 2], [0, 2, 0, 0, 0, 0, 0, 0, 0, 0], [0, 0, 0, 0, 0, 0, 0, 0, 0, 0], [0, 0, 0, 0, 0, 0, 0, 0, 0, 0], [2, 0, 0, 0, 0, 0, 0, 4, 0, 0], [0, 0, 0, 0, 0, 0, 0, 0, 0, 0], [12, 0, 0, 1, 4, 3, 0, 3, 0, 0], [10, 0, 0, 3, 3, 0, 0, 1, 3, 0], [0, 0, 0, 2, 0, 1, 3, 0, 0, 5], [0, 5, 0, 0, 0, 0, 0, 0, 0, 0], [0, 0, 0, 0, 0, 0, 0, 0, 0, 0], [0, 0, 0, 0, 0, 0, 0, 0, 0, 0], [0, 0, 0, 1, 0, 0, 0, 0, 1, 0], [0, 0, 0, 0, 0, 0, 0, 0, 0, 0], [2, 21, 3, 0, 0, 0, 3, 0, 3, 0], [0, 0, 4, 0, 0, 0, 3, 0, 0, 0], [1, 0, 0, 0, 0, 0, 1, 6, 0, 0], [0, 0, 0, 0, 0, 0, 0, 0, 0, 0], [5, 0, 0, 0, 0, 0, 0, 0, 0, 0]]\n"
     ]
    }
   ],
   "source": [
    "print(Vri)"
   ]
  },
  {
   "cell_type": "code",
   "execution_count": 41,
   "id": "ebd8a0cc",
   "metadata": {},
   "outputs": [
    {
     "data": {
      "text/plain": [
       "152"
      ]
     },
     "execution_count": 41,
     "metadata": {},
     "output_type": "execute_result"
    }
   ],
   "source": [
    "len(Vri)"
   ]
  },
  {
   "cell_type": "code",
   "execution_count": 43,
   "id": "632e9cda",
   "metadata": {},
   "outputs": [],
   "source": [
    "#Step 3: Computing for each implicit aspect in y , the vector containing frequency of all adjectives of that aspect  "
   ]
  },
  {
   "cell_type": "code",
   "execution_count": 42,
   "id": "7eeb999b",
   "metadata": {},
   "outputs": [],
   "source": [
    "#retreiving only unique aspects from y"
   ]
  },
  {
   "cell_type": "code",
   "execution_count": 44,
   "id": "9207e092",
   "metadata": {},
   "outputs": [],
   "source": [
    "y_unique=list(set(y))"
   ]
  },
  {
   "cell_type": "code",
   "execution_count": 45,
   "id": "dc7d219b",
   "metadata": {},
   "outputs": [
    {
     "name": "stdout",
     "output_type": "stream",
     "text": [
      "['size', 'functionality', 'behavior', 'appearance', 'quality', 'price', 'weight', 'performance']\n"
     ]
    }
   ],
   "source": [
    "print(y_unique)"
   ]
  },
  {
   "cell_type": "code",
   "execution_count": 46,
   "id": "9c792b51",
   "metadata": {},
   "outputs": [
    {
     "data": {
      "text/plain": [
       "8"
      ]
     },
     "execution_count": 46,
     "metadata": {},
     "output_type": "execute_result"
    }
   ],
   "source": [
    "len(y_unique)"
   ]
  },
  {
   "cell_type": "code",
   "execution_count": 47,
   "id": "5714b899",
   "metadata": {},
   "outputs": [
    {
     "name": "stdout",
     "output_type": "stream",
     "text": [
      "163 163\n"
     ]
    }
   ],
   "source": [
    "print(len(X_list), len(y_list))"
   ]
  },
  {
   "cell_type": "code",
   "execution_count": 48,
   "id": "d6ee3668",
   "metadata": {},
   "outputs": [],
   "source": [
    "#Extracting and counting the frequency of all adjectives related to each aspect in y_unique and storing it in a vector\n",
    "all_aspects_adjectives=[]    #Creating an empty list to store all the adjectives related to all aspects with duplicates\n",
    "aspect_adjectives_dict={}    #Creating a dictionary to store all aspects and their corresponding unique adjectives in a key value pair form\n",
    "Vaj=[]                       #Creating a Vaj list to store frequencies of all the unique adjective for each aspect in a sublist\n",
    "aspect_adj_freq_dict={}      #Creating a dictionary to store the aspect and its related adjectives frequency vector\n",
    "\n",
    "#we are trying to extract aspect based adjectives\n",
    "for aspect1 in y_unique:\n",
    "    aspect_adjectives=[]\n",
    "    for i in range(len(X_list)):\n",
    "        if aspect1==dataset.loc[i,'Implicit Aspect']:\n",
    "            tokenized_sentence=nltk.word_tokenize(X_list[i])\n",
    "            #Removing stopwords and non-alphabetic characters from tokenized_sentence\n",
    "            words = [word for word in tokenized_sentence if word.isalpha() and word not in stop_words]   #words is a list that contains all the tokenized words excluding non-alphabetic and stopwords of a sentence\n",
    "            # Lemmatize the words\n",
    "            words = [lemmatizer.lemmatize(word) for word in words]    #converting all the tokenized words into their root form\n",
    "            for word, pos in nltk.pos_tag(words):  #nltk.pos_tag(sentence) is used to tag the parts of speech of words in a sentence and returns a list of tuples, where each tuple contains the word and its corresponding part of speech tag.\n",
    "                #The for loop is used to iterate through each tuple in the list returned by pos_tag().The loop assigns the first element of each tuple (the word) to the variable word, and the second element (the part of speech tag) to the variable pos.\n",
    "                if pos.startswith('JJ'):\n",
    "                    aspect_adjectives.append(word.lower())  #storing all the adjectives including duplicates for an aspect in the list aspect_adjectives\n",
    "                    all_aspects_adjectives.append(word)  #storing all the extracted adjectives including duplicates for each aspects in a single list \n",
    "    \n",
    "    #Selecting only the unique adjectives from the list containing duplicate adjectives for the above aspect\n",
    "    aspect_adjectives_unique=list(set(aspect_adjectives))\n",
    "    \n",
    "    #Appending the dictionary with aspect term and its related adjectives in a key value form\n",
    "    aspect_adjectives_dict.update({aspect1:aspect_adjectives_unique}) \n",
    "    \n",
    "    # Compute frequency vector for each aspect adjectives\n",
    "    fti = [new_corpus_words.count(adjective) for adjective in aspect_adjectives_unique]   #creates a list called fti using a list comprehension.\n",
    "    \n",
    "    #Appending Vaj vector with frequencies of all adjectives related to each aspect stored in a sublist\n",
    "    Vaj.append(fti)\n",
    "    \n",
    "    #Similarly appending a dictionary aspect_adj_freq_dict to store all the aspects and their corresponding list of frequencies of all adjectives in a key-value pair form\n",
    "    aspect_adj_freq_dict.update({aspect1:fti})"
   ]
  },
  {
   "cell_type": "code",
   "execution_count": 49,
   "id": "923ff572",
   "metadata": {},
   "outputs": [
    {
     "name": "stdout",
     "output_type": "stream",
     "text": [
      "[[2, 2, 12, 4, 4, 2, 3, 2, 5, 3, 3, 5, 5, 3, 3, 5], [1, 7, 1, 3, 1, 2, 4, 1, 1, 3, 1, 2, 3, 2, 4, 22, 2, 1, 5, 4, 1], [1, 2, 2, 4, 1, 4, 17, 9, 2, 2, 1], [12, 4, 1, 3, 5, 5, 1, 3, 1, 1, 5, 7, 1, 3, 1, 3, 2, 1, 57, 5, 3, 1], [12, 3, 2, 7, 1, 18, 3, 5, 1, 1, 2, 10, 1, 2, 9, 1, 1, 3, 1, 1, 1, 1, 7, 2, 6, 3, 4, 7, 1, 1, 2, 2, 1, 4, 4, 3, 1, 57, 1, 1, 1, 1], [8, 1, 12, 4, 1, 2, 4, 1, 1, 2, 1, 2, 3], [5, 2, 4, 5], [5, 6, 4, 12, 7, 1, 17, 3, 2, 1, 2, 1, 1, 1, 2, 2, 10, 1, 4, 2, 4, 1, 9, 1, 1, 1, 4, 1, 3, 1, 1, 2, 2, 1, 3, 1, 2, 4, 2, 7, 1, 6, 1, 1, 2, 1, 2, 1, 1, 2, 1, 1, 4, 1, 1, 1, 4, 2, 2, 1, 2, 22, 9, 57, 3, 1, 4, 1, 8]]\n"
     ]
    }
   ],
   "source": [
    "print(Vaj)"
   ]
  },
  {
   "cell_type": "code",
   "execution_count": 50,
   "id": "e05bb939",
   "metadata": {},
   "outputs": [
    {
     "data": {
      "text/plain": [
       "8"
      ]
     },
     "execution_count": 50,
     "metadata": {},
     "output_type": "execute_result"
    }
   ],
   "source": [
    "len(Vaj)"
   ]
  },
  {
   "cell_type": "code",
   "execution_count": 51,
   "id": "24c7a1c1",
   "metadata": {},
   "outputs": [
    {
     "name": "stdout",
     "output_type": "stream",
     "text": [
      "{'size': [2, 2, 12, 4, 4, 2, 3, 2, 5, 3, 3, 5, 5, 3, 3, 5], 'functionality': [1, 7, 1, 3, 1, 2, 4, 1, 1, 3, 1, 2, 3, 2, 4, 22, 2, 1, 5, 4, 1], 'behavior': [1, 2, 2, 4, 1, 4, 17, 9, 2, 2, 1], 'appearance': [12, 4, 1, 3, 5, 5, 1, 3, 1, 1, 5, 7, 1, 3, 1, 3, 2, 1, 57, 5, 3, 1], 'quality': [12, 3, 2, 7, 1, 18, 3, 5, 1, 1, 2, 10, 1, 2, 9, 1, 1, 3, 1, 1, 1, 1, 7, 2, 6, 3, 4, 7, 1, 1, 2, 2, 1, 4, 4, 3, 1, 57, 1, 1, 1, 1], 'price': [8, 1, 12, 4, 1, 2, 4, 1, 1, 2, 1, 2, 3], 'weight': [5, 2, 4, 5], 'performance': [5, 6, 4, 12, 7, 1, 17, 3, 2, 1, 2, 1, 1, 1, 2, 2, 10, 1, 4, 2, 4, 1, 9, 1, 1, 1, 4, 1, 3, 1, 1, 2, 2, 1, 3, 1, 2, 4, 2, 7, 1, 6, 1, 1, 2, 1, 2, 1, 1, 2, 1, 1, 4, 1, 1, 1, 4, 2, 2, 1, 2, 22, 9, 57, 3, 1, 4, 1, 8]}\n"
     ]
    }
   ],
   "source": [
    "print(aspect_adj_freq_dict)"
   ]
  },
  {
   "cell_type": "code",
   "execution_count": 52,
   "id": "1036018a",
   "metadata": {},
   "outputs": [
    {
     "data": {
      "text/plain": [
       "8"
      ]
     },
     "execution_count": 52,
     "metadata": {},
     "output_type": "execute_result"
    }
   ],
   "source": [
    "len(aspect_adj_freq_dict)"
   ]
  },
  {
   "cell_type": "code",
   "execution_count": 53,
   "id": "c64d294f",
   "metadata": {},
   "outputs": [
    {
     "name": "stdout",
     "output_type": "stream",
     "text": [
      "{'size': ['mirrorlike', 'oppressed', 'good', 'lightweight', 'small', 'affordable', 'compact', 'portable', 'slim', 'front', 'cool', 'easy', 'light', 'attractive', 'much', 'sure'], 'functionality': ['nicer', 'several', 'recent', 'compact', 'multitude', 'stack', 'new', 'main', 'signal', 'video', 'connect', 'smart', 'attractive', 'surprised', 'able', 'disc', 'gb', 'many', 'easy', 'different', 'allow'], 'behavior': ['silent', 'big', 'loud', 'lightweight', 'quality', 'old', 'read', 'fine', 'standard', 'best', 'stable'], 'appearance': ['good', 'small', 'ok', 'compact', 'sleek', 'sure', 'real', 'little', 'loaded', 'overlook', 'slim', 'great', 'willing', 'front', 'funny', 'attractive', 'mirrorlike', 'shiny', 'dvd', 'easy', 'cool', 'finest'], 'quality': ['good', 'find', 'cheasy', 'several', 'install', 'nt', 'last', 'sleek', 'nemo', 'february', 'wrong', 'tried', 'entire', 'le', 'fine', 'worth', 'bad', 'little', 'flimsy', 'negative', 'whole', 'installed', 'worked', 'present', 'disk', 'second', 'different', 'great', 'remotecontrol', 'disposable', 'cheap', 'oppressed', 'manual', 'long', 'lightweight', 'freeze', 'longterm', 'dvd', 'amazon', 'speak', 'poor', 'least'], 'price': ['feature', 'full', 'good', 'small', 'impressed', 'affordable', 'remote', 'worse', 'crappy', 'inexpensive', 'cheaper', 'best', 'much'], 'weight': ['slim', 'portable', 'lightweight', 'light'], 'performance': ['first', 'bought', 'nicely', 'good', 'several', 'raw', 'read', 'audio', 'backup', 'eventualy', 'stack', 'visual', 'cheep', 'original', 'loud', 'big', 'tried', 'wide', 'new', 'pleased', 'old', 'sharp', 'fine', 'possible', 'literature', 'broken', 'christmas', 'older', 'little', 'clear', 'pitchcorrected', 'kodak', 'present', 'regular', 'second', 'rental', 'extra', 'fit', 'certain', 'great', 'vbr', 'dvdr', 'nice', 'progressive', 'smart', 'disappointed', 'claim', 'scan', 'occasional', 'surprised', 'expensive', 'couple', 'able', 'drawer', 'uk', 'pirate', 'long', 'enough', 'wma', 'smooth', 'slow', 'disc', 'played', 'dvd', 'cool', 'unplayable', 'different', 'satisfied', 'format']}\n"
     ]
    }
   ],
   "source": [
    "print(aspect_adjectives_dict)"
   ]
  },
  {
   "cell_type": "code",
   "execution_count": 54,
   "id": "39cfa9e9",
   "metadata": {},
   "outputs": [
    {
     "name": "stdout",
     "output_type": "stream",
     "text": [
      "163\n",
      "163\n"
     ]
    }
   ],
   "source": [
    "print(len(X))\n",
    "print(len(y)) "
   ]
  },
  {
   "cell_type": "code",
   "execution_count": 55,
   "id": "fdf7bd65",
   "metadata": {},
   "outputs": [],
   "source": [
    "#We need to create a Ma(Na,NA) matrix to store the adjective frequency related to each unique aspect \n",
    "#Na is the total no.of unique adjectives\n",
    "#where NA is total number of aspects (also total no. of reviews)\n",
    "\n",
    "import numpy as np   \n",
    "Na=len(corpus_adjectives_unique)\n",
    "NA=len(y)\n",
    "# create an empty matrix to store the adjective frequency\n",
    "Ma = np.zeros((Na, NA))\n",
    "\n",
    "for i, adj in enumerate(corpus_adjectives_unique):    #selecting an adjective from the list of corpus_adjective_unique\n",
    "    for j, asp in enumerate(y): \n",
    "        asp_value_list=aspect_adjectives_dict[asp]   #will give the list of all adjectives(unique) related to asp\n",
    "        for value_adj in asp_value_list:\n",
    "            if adj==value_adj:\n",
    "                index_adj=asp_value_list.index(adj)\n",
    "                Ma[i,j]=aspect_adj_freq_dict[asp][index_adj]"
   ]
  },
  {
   "cell_type": "code",
   "execution_count": 56,
   "id": "298524ae",
   "metadata": {},
   "outputs": [
    {
     "data": {
      "text/plain": [
       "152"
      ]
     },
     "execution_count": 56,
     "metadata": {},
     "output_type": "execute_result"
    }
   ],
   "source": [
    "len(corpus_adjectives_unique)"
   ]
  },
  {
   "cell_type": "code",
   "execution_count": 57,
   "id": "c1d6e273",
   "metadata": {},
   "outputs": [
    {
     "name": "stdout",
     "output_type": "stream",
     "text": [
      "[[0. 0. 0. ... 0. 0. 0.]\n",
      " [0. 0. 0. ... 0. 0. 0.]\n",
      " [0. 0. 4. ... 0. 0. 0.]\n",
      " ...\n",
      " [0. 0. 0. ... 0. 0. 0.]\n",
      " [0. 0. 1. ... 0. 0. 0.]\n",
      " [8. 8. 0. ... 8. 8. 8.]]\n"
     ]
    }
   ],
   "source": [
    "print(Ma)"
   ]
  },
  {
   "cell_type": "code",
   "execution_count": 58,
   "id": "e1941510",
   "metadata": {},
   "outputs": [
    {
     "name": "stdout",
     "output_type": "stream",
     "text": [
      "(152, 163)\n"
     ]
    }
   ],
   "source": [
    "print(Ma.shape)"
   ]
  },
  {
   "cell_type": "code",
   "execution_count": 59,
   "id": "90471d78",
   "metadata": {},
   "outputs": [],
   "source": [
    "#Step4: Computing the global frequency vector for each adjective a(i) (from the list corpus_adjectives_unique) and all its WN related words as follows:\n",
    "#Vrg(i)=ft(i)*Vri(i)"
   ]
  },
  {
   "cell_type": "code",
   "execution_count": 60,
   "id": "c9658fe1",
   "metadata": {},
   "outputs": [],
   "source": [
    "#Counting for each adjective in corpus_adjectives_unique its frequency in new_corpus_words and storing the pair in a dictionary\n",
    "adj_freq_dict={}\n",
    "for adj in corpus_adjectives_unique:\n",
    "    freq_adj=new_corpus_words.count(adj)\n",
    "    adj_freq_dict.update({adj:freq_adj})"
   ]
  },
  {
   "cell_type": "code",
   "execution_count": 61,
   "id": "f1f03c95",
   "metadata": {},
   "outputs": [
    {
     "name": "stdout",
     "output_type": "stream",
     "text": [
      "{'act': 1, 'cheasy': 2, 'small': 4, 'raw': 1, 'compact': 3, 'quality': 1, 'multitude': 1, 'visual': 1, 'loud': 2, 'real': 1, 'tried': 10, 'old': 4, 'sharp': 1, 'christmas': 4, 'older': 1, 'noiseless': 2, 'quick': 1, 'flimsy': 1, 'negative': 1, 'installed': 1, 'present': 2, 'regular': 1, 'silent': 1, 'video': 3, 'remote': 4, 'certain': 2, 'great': 7, 'worse': 1, 'file': 5, 'front': 3, 'progressive': 1, 'attractive': 3, 'disposable': 1, 'claim': 2, 'oppressed': 2, 'couple': 1, 'uk': 1, 'longterm': 1, 'bang': 1, 'wma': 2, 'smooth': 1, 'many': 1, 'dvd': 57, 'crappy': 1, 'inexpensive': 2, 'allow': 1, 'poor': 1, 'tv': 4, 'several': 7, 'audio': 3, 'backup': 2, 'attempted': 1, 'froze': 1, 'cheep': 1, 'wide': 1, 'affordable': 2, 'broken': 1, 'whole': 1, 'kodak': 2, 'main': 1, 'disk': 6, 'rental': 1, 'fit': 4, 'portable': 2, 'slim': 5, 'best': 2, 'light': 5, 'smart': 2, 'scan': 1, 'occasional': 1, 'surprised': 2, 'mirrorlike': 2, 'expensive': 1, 'drawer': 1, 'looked': 4, 'pirate': 1, 'disc': 22, 'played': 9, 'cool': 3, 'play': 56, 'stable': 1, 'least': 1, 'first': 5, 'nicely': 4, 'good': 12, 'find': 3, 'recent': 1, 'ok': 1, 'install': 1, 'nt': 18, 'sleek': 5, 'stack': 2, 'nemo': 1, 'february': 1, 'original': 1, 'big': 2, 'entire': 1, 'le': 2, 'literature': 1, 'little': 3, 'bunch': 1, 'clear': 1, 'pitchcorrected': 1, 'full': 1, 'overlook': 1, 'type': 2, 'used': 3, 'willing': 1, 'funny': 1, 'remotecontrol': 1, 'cheap': 2, 'manual': 1, 'long': 4, 'freeze': 3, 'unplayable': 1, 'cheaper': 1, 'different': 4, 'satisfied': 1, 'nicer': 1, 'read': 17, 'standard': 2, 'last': 3, 'eventualy': 1, 'sure': 5, 'wrong': 2, 'feature': 8, 'new': 4, 'fine': 9, 'possible': 1, 'worth': 1, 'bad': 1, 'loaded': 1, 'second': 3, 'extra': 2, 'connect': 1, 'apex': 7, 'vbr': 1, 'right': 2, 'dvdr': 6, 'nice': 1, 'much': 3, 'able': 4, 'lightweight': 4, 'shiny': 1, 'divx': 1, 'slow': 2, 'gb': 2, 'easy': 5, 'amazon': 1, 'speak': 1, 'finest': 1, 'format': 8}\n"
     ]
    }
   ],
   "source": [
    "print(adj_freq_dict)"
   ]
  },
  {
   "cell_type": "code",
   "execution_count": 62,
   "id": "d2fc4751",
   "metadata": {},
   "outputs": [
    {
     "data": {
      "text/plain": [
       "152"
      ]
     },
     "execution_count": 62,
     "metadata": {},
     "output_type": "execute_result"
    }
   ],
   "source": [
    "len(adj_freq_dict)"
   ]
  },
  {
   "cell_type": "code",
   "execution_count": 63,
   "id": "6712cca0",
   "metadata": {},
   "outputs": [],
   "source": [
    "#Now since we have to two separate dictionaries one adj_freq_dict storing the frequency of each adjective\n",
    "#and the other one is adj_wordnet_freq_dict storing for each adjective its wordnet related words frequency"
   ]
  },
  {
   "cell_type": "code",
   "execution_count": 64,
   "id": "ca249360",
   "metadata": {},
   "outputs": [
    {
     "name": "stdout",
     "output_type": "stream",
     "text": [
      "{'act': [0, 0, 1, 0, 0, 4, 0, 0, 0, 1], 'cheasy': [], 'small': [0, 0, 0, 0, 0, 2, 2, 3, 0, 0], 'raw': [0, 0, 0, 0, 0, 0, 0, 0, 0, 0], 'compact': [0, 0, 0, 0, 0, 0, 0, 0, 0, 0], 'quality': [1, 0, 0, 0, 0, 0, 0, 2, 0, 0], 'multitude': [0, 0, 0, 0, 0, 0, 0, 0, 0], 'visual': [0, 0, 0, 0, 0, 0, 0, 0, 0, 3], 'loud': [0, 0, 0, 0, 2, 0, 1, 1, 2, 0], 'real': [56, 2, 0, 21, 4, 1, 0, 0, 0, 0], 'tried': [2, 1, 0, 0, 1, 0, 0, 0, 0, 0], 'old': [2, 1, 0, 1, 8, 0, 0, 0, 1, 0], 'sharp': [0, 1, 0, 0, 1, 0, 0, 2, 0, 0], 'christmas': [0, 0, 0, 5, 0, 0, 0, 1, 0, 0], 'older': [0, 0, 0, 0, 21, 0, 0, 0, 3, 1], 'noiseless': [0, 0, 0, 0, 0, 0, 0, 0, 0, 0], 'quick': [5, 21, 0, 4, 0, 2, 3, 0, 2, 0], 'flimsy': [0, 0, 0, 0, 0, 0, 0, 0, 0, 0], 'negative': [0, 0, 0, 0, 0, 0, 0, 0, 0, 0], 'installed': [0, 0, 0, 0, 0, 0, 0, 2, 0, 0], 'present': [0, 0, 0, 7, 0, 0, 0, 0, 1, 0], 'regular': [2, 0, 1, 0, 0, 0, 0, 0, 0, 0], 'silent': [3, 0, 0, 0, 0, 0, 0, 2, 0, 0], 'video': [0, 0, 0, 0, 0, 0, 0, 0, 4, 9], 'remote': [0, 0, 0, 0, 0, 0, 0, 0, 0, 0], 'certain': [1, 4, 0, 0, 0, 0, 7, 0, 0, 0], 'great': [0, 1, 12, 0, 0, 0, 0, 5, 0, 0], 'worse': [0, 0, 1, 1, 0, 0, 2, 1, 0, 0], 'file': [0, 8, 0, 0, 0, 0, 0, 2, 0], 'front': [0, 0, 0, 0, 0, 0, 0, 0, 0, 0], 'progressive': [0, 0, 0, 0, 0, 0, 0, 0, 0, 0], 'attractive': [0, 0, 0, 0, 0, 0, 1, 0, 1, 0], 'disposable': [0, 0, 0, 0, 0, 0, 0, 0, 0, 0], 'claim': [1, 0, 0, 2, 0, 3, 0, 0, 0, 0], 'oppressed': [0, 0, 0, 0, 0, 0, 0, 0, 0, 0], 'couple': [0, 1, 0, 0, 3, 0, 0, 0, 1, 0], 'uk': [0, 0, 0, 0, 0, 0, 0, 0, 0, 0], 'longterm': [0, 0, 0, 0, 0, 0, 0, 0, 0, 0], 'bang': [0, 0, 0, 0, 0, 0, 0, 0, 0, 0], 'wma': [0, 0, 0, 0, 0, 0, 0, 0, 0, 0], 'smooth': [0, 0, 0, 0, 0, 0, 0, 2, 0, 0], 'many': [0, 0, 5, 3, 0, 0, 4, 0, 21, 0], 'dvd': [9, 0, 0, 0, 0, 0, 0, 0, 0, 0], 'crappy': [0, 0, 0, 0, 0, 0, 0, 0, 0, 0], 'inexpensive': [0, 0, 0, 2, 0, 0, 0, 0, 0, 1], 'allow': [0, 6, 0, 1, 0, 0, 0, 0, 0, 0], 'poor': [0, 0, 3, 0, 0, 1, 0, 1, 3, 1], 'tv': [3, 0, 0, 0, 0, 1, 0, 0, 0, 0], 'several': [0, 0, 1, 0, 2, 1, 0, 5, 1, 1], 'audio': [0, 0, 0, 0, 0, 0, 0, 0, 3, 0], 'backup': [4, 0, 0, 0, 0, 0, 0, 0, 0, 0], 'attempted': [0, 0, 0, 0, 0, 0, 0, 0, 0, 0], 'froze': [0, 0, 0, 0, 0, 0, 0, 0, 3, 0], 'cheep': [0, 0, 0, 0, 0, 0, 0, 0, 0, 0], 'wide': [0, 0, 0, 0, 0, 0, 0, 0, 0, 1], 'affordable': [0, 1, 0, 0, 1, 0, 0, 0, 3, 0], 'broken': [0, 0, 0, 0, 0, 0, 0, 0, 1, 0], 'whole': [1, 0, 0, 0, 4, 1, 0, 0, 0, 2], 'kodak': [0, 0, 0, 0, 0, 0, 0, 0, 0, 0], 'main': [0, 0, 0, 0, 0, 0, 0, 0, 0, 0], 'disk': [0, 22, 0, 0, 0, 0, 0, 3, 0, 0], 'rental': [0, 0, 0, 0, 0, 0, 0, 0, 0, 0], 'fit': [0, 0, 2, 0, 2, 2, 4, 0, 0, 0], 'portable': [0, 0, 0, 0, 0, 0, 0, 0, 0, 0], 'slim': [0, 2, 0, 0, 0, 0, 0, 0, 0, 0], 'best': [0, 0, 0, 0, 12, 7, 0, 0, 0, 21], 'light': [0, 0, 0, 0, 0, 1, 0, 0, 0, 0], 'smart': [0, 2, 4, 4, 0, 1, 0, 5, 0, 0], 'scan': [0, 0, 0, 0, 8, 0, 4, 0, 0], 'occasional': [0, 0, 0, 0, 0, 0, 0, 0, 0, 0], 'surprised': [1, 0, 1, 0, 0, 0, 0, 0, 0, 0], 'mirrorlike': [], 'expensive': [2, 1, 4, 0, 0, 0, 0, 0, 4, 0], 'drawer': [0, 0, 0, 0, 0, 0, 0, 0, 0], 'looked': [11, 0, 1, 0, 2, 1, 1, 0, 4, 0], 'pirate': [0, 0, 0, 0, 0, 0, 0, 0, 0, 0], 'disc': [0, 0, 0, 0, 0, 6, 0, 0, 0, 2], 'played': [56, 0, 6, 0, 0, 2, 0, 0, 0, 1], 'cool': [1, 11, 1, 1, 2, 0, 0, 4, 0, 2], 'play': [0, 0, 0, 0, 0, 6, 0, 0, 0, 0], 'stable': [0, 0, 0, 0, 0, 0, 0, 0, 0, 0], 'least': [0, 0, 0, 0, 0, 5, 0, 1, 0, 0], 'first': [3, 0, 3, 1, 0, 3, 0, 0, 0, 1], 'nicely': [0, 1, 0, 0, 1, 1, 0, 0, 7, 1], 'good': [0, 5, 3, 1, 0, 0, 3, 0, 2, 7], 'find': [0, 4, 0, 0, 0, 0, 3, 0, 3, 0], 'recent': [0, 0, 0, 0, 0, 0, 0, 0, 0, 0], 'ok': [2, 0, 0, 0, 0, 0, 0, 0, 0, 0], 'install': [0, 0, 0, 0, 0, 4, 0, 0, 0, 0], 'nt': [0, 0, 0, 0, 0, 0, 0, 0, 0, 0], 'sleek': [0, 1, 0, 0, 0, 0, 0, 0, 0, 0], 'stack': [0, 0, 0, 0, 0, 1, 0, 0, 0], 'nemo': [0, 0, 0, 0, 0, 0, 0, 0, 0, 0], 'february': [0, 1, 0, 0, 0, 0, 0, 0, 0, 0], 'original': [0, 0, 0, 0, 0, 0, 0, 0, 0, 0], 'big': [0, 0, 0, 0, 11, 8, 0, 1, 0, 0], 'entire': [1, 5, 1, 0, 2, 0, 0, 1, 0, 0], 'le': [0, 0, 0, 0, 0, 0, 0, 0, 0], 'literature': [0, 0, 0, 0, 0, 0, 0, 0, 0, 0], 'little': [11, 0, 8, 1, 2, 2, 4, 0, 0, 21], 'bunch': [0, 0, 0, 1, 0, 21, 4, 0, 0, 4], 'clear': [0, 5, 0, 0, 0, 0, 0, 0, 0, 2], 'pitchcorrected': [], 'full': [0, 5, 0, 0, 2, 2, 0, 2, 5, 0], 'overlook': [0, 0, 0, 0, 0, 0, 0, 0, 0, 0], 'type': [1, 0, 2, 2, 0, 3, 7, 1, 0, 0], 'used': [0, 3, 5, 0, 0, 2, 0, 0, 0, 0], 'willing': [4, 0, 1, 0, 0, 0, 0, 0, 0, 0], 'funny': [0, 0, 0, 0, 0, 0, 0, 0, 0, 0], 'remotecontrol': [], 'cheap': [1, 1, 1, 4, 0, 1, 0, 1, 0, 0], 'manual': [0, 0, 0, 0, 0, 0, 0, 0, 0, 0], 'long': [4, 0, 0, 0, 0, 12, 1, 0, 0, 1], 'freeze': [0, 0, 0, 0, 0, 0, 0, 0, 0, 0], 'unplayable': [0, 0, 0, 0, 0, 0, 0, 0, 0, 0], 'cheaper': [1, 0, 2, 0, 2, 0, 0, 0, 1, 1], 'different': [0, 1, 21, 7, 3, 0, 0, 0, 0, 0], 'satisfied': [0, 0, 0, 0, 0, 0, 0, 0, 0, 0], 'nicer': [0, 0, 0, 0, 0, 4, 0, 0, 0, 0], 'read': [0, 0, 0, 0, 0, 2, 3, 0, 0, 3], 'standard': [2, 0, 0, 1, 0, 0, 0, 0, 0, 0], 'last': [0, 5, 3, 2, 2, 3, 4, 1, 0, 1], 'eventualy': [0, 0, 0, 0, 0, 0, 0, 0, 0, 0], 'sure': [3, 1, 0, 1, 0, 0, 0, 3, 0, 0], 'wrong': [2, 0, 0, 0, 0, 1, 0, 0, 0, 0], 'feature': [0, 0, 4, 0, 0, 0, 0, 0, 0], 'new': [0, 1, 0, 0, 0, 0, 0, 0, 5, 0], 'fine': [0, 0, 1, 5, 0, 0, 4, 0, 0, 0], 'possible': [1, 0, 0, 0, 0, 0, 0, 0, 0, 0], 'worth': [0, 1, 4, 0, 0, 0, 3, 10, 0, 0], 'bad': [0, 0, 0, 0, 2, 8, 0, 0, 7, 4], 'loaded': [0, 0, 0, 0, 0, 0, 0, 0, 0, 2], 'second': [5, 1, 0, 3, 0, 1, 0, 0, 0, 0], 'extra': [0, 1, 1, 0, 1, 0, 0, 0, 4, 2], 'connect': [0, 2, 0, 0, 0, 0, 0, 0, 0, 0], 'apex': [0, 0, 0, 0, 0, 0, 0, 0, 0, 0], 'vbr': [0, 0, 0, 0, 0, 0, 0, 0, 0, 0], 'right': [2, 0, 0, 0, 0, 0, 0, 4, 0, 0], 'dvdr': [0, 0, 0, 0, 0, 0, 0, 0, 0, 0], 'nice': [12, 0, 0, 1, 4, 3, 0, 3, 0, 0], 'much': [10, 0, 0, 3, 3, 0, 0, 1, 3, 0], 'able': [0, 0, 0, 2, 0, 1, 3, 0, 0, 5], 'lightweight': [0, 5, 0, 0, 0, 0, 0, 0, 0, 0], 'shiny': [0, 0, 0, 0, 0, 0, 0, 0, 0, 0], 'divx': [0, 0, 0, 0, 0, 0, 0, 0, 0, 0], 'slow': [0, 0, 0, 1, 0, 0, 0, 0, 1, 0], 'gb': [0, 0, 0, 0, 0, 0, 0, 0, 0, 0], 'easy': [2, 21, 3, 0, 0, 0, 3, 0, 3, 0], 'amazon': [0, 0, 4, 0, 0, 0, 3, 0, 0, 0], 'speak': [1, 0, 0, 0, 0, 0, 1, 6, 0, 0], 'finest': [0, 0, 0, 0, 0, 0, 0, 0, 0, 0], 'format': [5, 0, 0, 0, 0, 0, 0, 0, 0, 0]}\n"
     ]
    }
   ],
   "source": [
    "print(adj_wordnet_freq_dict)"
   ]
  },
  {
   "cell_type": "code",
   "execution_count": 65,
   "id": "e8a2bf4c",
   "metadata": {},
   "outputs": [],
   "source": [
    "#Now we have to multiply the frequency of adjectives with each term contained in its Wordnet frequency vector\n",
    "Vrg=[]                   #creating a list to store the global frequency of all adjectives in a sublist\n",
    "global_freq_adj_dict={}  #creating a dictionary to store all the adjectives and their corresponding global frequency vector\n",
    "for adj1 in adj_freq_dict:   \n",
    "    for adj2 in adj_wordnet_freq_dict:\n",
    "        if adj1==adj2:\n",
    "            global_freq_adj=[]        #creating a list to store the global freq vector of an adjective\n",
    "            freq_adj1=adj_freq_dict[adj1]   #retreiving the frequency of adj1 from adj_freq_dict\n",
    "            adj2_wordnet_freq_list=adj_wordnet_freq_dict[adj2]   #retrieving the wordnet freq vector of adj2 where adj1=adj2\n",
    "            for wn_freq in adj2_wordnet_freq_list:\n",
    "                product=freq_adj1*wn_freq\n",
    "                global_freq_adj.append(product)\n",
    "            Vrg.append(global_freq_adj)\n",
    "            global_freq_adj_dict.update({adj1:global_freq_adj})"
   ]
  },
  {
   "cell_type": "code",
   "execution_count": 66,
   "id": "3e20a2fc",
   "metadata": {},
   "outputs": [
    {
     "name": "stdout",
     "output_type": "stream",
     "text": [
      "[[0, 0, 1, 0, 0, 4, 0, 0, 0, 1], [], [0, 0, 0, 0, 0, 8, 8, 12, 0, 0], [0, 0, 0, 0, 0, 0, 0, 0, 0, 0], [0, 0, 0, 0, 0, 0, 0, 0, 0, 0], [1, 0, 0, 0, 0, 0, 0, 2, 0, 0], [0, 0, 0, 0, 0, 0, 0, 0, 0], [0, 0, 0, 0, 0, 0, 0, 0, 0, 3], [0, 0, 0, 0, 4, 0, 2, 2, 4, 0], [56, 2, 0, 21, 4, 1, 0, 0, 0, 0], [20, 10, 0, 0, 10, 0, 0, 0, 0, 0], [8, 4, 0, 4, 32, 0, 0, 0, 4, 0], [0, 1, 0, 0, 1, 0, 0, 2, 0, 0], [0, 0, 0, 20, 0, 0, 0, 4, 0, 0], [0, 0, 0, 0, 21, 0, 0, 0, 3, 1], [0, 0, 0, 0, 0, 0, 0, 0, 0, 0], [5, 21, 0, 4, 0, 2, 3, 0, 2, 0], [0, 0, 0, 0, 0, 0, 0, 0, 0, 0], [0, 0, 0, 0, 0, 0, 0, 0, 0, 0], [0, 0, 0, 0, 0, 0, 0, 2, 0, 0], [0, 0, 0, 14, 0, 0, 0, 0, 2, 0], [2, 0, 1, 0, 0, 0, 0, 0, 0, 0], [3, 0, 0, 0, 0, 0, 0, 2, 0, 0], [0, 0, 0, 0, 0, 0, 0, 0, 12, 27], [0, 0, 0, 0, 0, 0, 0, 0, 0, 0], [2, 8, 0, 0, 0, 0, 14, 0, 0, 0], [0, 7, 84, 0, 0, 0, 0, 35, 0, 0], [0, 0, 1, 1, 0, 0, 2, 1, 0, 0], [0, 40, 0, 0, 0, 0, 0, 10, 0], [0, 0, 0, 0, 0, 0, 0, 0, 0, 0], [0, 0, 0, 0, 0, 0, 0, 0, 0, 0], [0, 0, 0, 0, 0, 0, 3, 0, 3, 0], [0, 0, 0, 0, 0, 0, 0, 0, 0, 0], [2, 0, 0, 4, 0, 6, 0, 0, 0, 0], [0, 0, 0, 0, 0, 0, 0, 0, 0, 0], [0, 1, 0, 0, 3, 0, 0, 0, 1, 0], [0, 0, 0, 0, 0, 0, 0, 0, 0, 0], [0, 0, 0, 0, 0, 0, 0, 0, 0, 0], [0, 0, 0, 0, 0, 0, 0, 0, 0, 0], [0, 0, 0, 0, 0, 0, 0, 0, 0, 0], [0, 0, 0, 0, 0, 0, 0, 2, 0, 0], [0, 0, 5, 3, 0, 0, 4, 0, 21, 0], [513, 0, 0, 0, 0, 0, 0, 0, 0, 0], [0, 0, 0, 0, 0, 0, 0, 0, 0, 0], [0, 0, 0, 4, 0, 0, 0, 0, 0, 2], [0, 6, 0, 1, 0, 0, 0, 0, 0, 0], [0, 0, 3, 0, 0, 1, 0, 1, 3, 1], [12, 0, 0, 0, 0, 4, 0, 0, 0, 0], [0, 0, 7, 0, 14, 7, 0, 35, 7, 7], [0, 0, 0, 0, 0, 0, 0, 0, 9, 0], [8, 0, 0, 0, 0, 0, 0, 0, 0, 0], [0, 0, 0, 0, 0, 0, 0, 0, 0, 0], [0, 0, 0, 0, 0, 0, 0, 0, 3, 0], [0, 0, 0, 0, 0, 0, 0, 0, 0, 0], [0, 0, 0, 0, 0, 0, 0, 0, 0, 1], [0, 2, 0, 0, 2, 0, 0, 0, 6, 0], [0, 0, 0, 0, 0, 0, 0, 0, 1, 0], [1, 0, 0, 0, 4, 1, 0, 0, 0, 2], [0, 0, 0, 0, 0, 0, 0, 0, 0, 0], [0, 0, 0, 0, 0, 0, 0, 0, 0, 0], [0, 132, 0, 0, 0, 0, 0, 18, 0, 0], [0, 0, 0, 0, 0, 0, 0, 0, 0, 0], [0, 0, 8, 0, 8, 8, 16, 0, 0, 0], [0, 0, 0, 0, 0, 0, 0, 0, 0, 0], [0, 10, 0, 0, 0, 0, 0, 0, 0, 0], [0, 0, 0, 0, 24, 14, 0, 0, 0, 42], [0, 0, 0, 0, 0, 5, 0, 0, 0, 0], [0, 4, 8, 8, 0, 2, 0, 10, 0, 0], [0, 0, 0, 0, 8, 0, 4, 0, 0], [0, 0, 0, 0, 0, 0, 0, 0, 0, 0], [2, 0, 2, 0, 0, 0, 0, 0, 0, 0], [], [2, 1, 4, 0, 0, 0, 0, 0, 4, 0], [0, 0, 0, 0, 0, 0, 0, 0, 0], [44, 0, 4, 0, 8, 4, 4, 0, 16, 0], [0, 0, 0, 0, 0, 0, 0, 0, 0, 0], [0, 0, 0, 0, 0, 132, 0, 0, 0, 44], [504, 0, 54, 0, 0, 18, 0, 0, 0, 9], [3, 33, 3, 3, 6, 0, 0, 12, 0, 6], [0, 0, 0, 0, 0, 336, 0, 0, 0, 0], [0, 0, 0, 0, 0, 0, 0, 0, 0, 0], [0, 0, 0, 0, 0, 5, 0, 1, 0, 0], [15, 0, 15, 5, 0, 15, 0, 0, 0, 5], [0, 4, 0, 0, 4, 4, 0, 0, 28, 4], [0, 60, 36, 12, 0, 0, 36, 0, 24, 84], [0, 12, 0, 0, 0, 0, 9, 0, 9, 0], [0, 0, 0, 0, 0, 0, 0, 0, 0, 0], [2, 0, 0, 0, 0, 0, 0, 0, 0, 0], [0, 0, 0, 0, 0, 4, 0, 0, 0, 0], [0, 0, 0, 0, 0, 0, 0, 0, 0, 0], [0, 5, 0, 0, 0, 0, 0, 0, 0, 0], [0, 0, 0, 0, 0, 2, 0, 0, 0], [0, 0, 0, 0, 0, 0, 0, 0, 0, 0], [0, 1, 0, 0, 0, 0, 0, 0, 0, 0], [0, 0, 0, 0, 0, 0, 0, 0, 0, 0], [0, 0, 0, 0, 22, 16, 0, 2, 0, 0], [1, 5, 1, 0, 2, 0, 0, 1, 0, 0], [0, 0, 0, 0, 0, 0, 0, 0, 0], [0, 0, 0, 0, 0, 0, 0, 0, 0, 0], [33, 0, 24, 3, 6, 6, 12, 0, 0, 63], [0, 0, 0, 1, 0, 21, 4, 0, 0, 4], [0, 5, 0, 0, 0, 0, 0, 0, 0, 2], [], [0, 5, 0, 0, 2, 2, 0, 2, 5, 0], [0, 0, 0, 0, 0, 0, 0, 0, 0, 0], [2, 0, 4, 4, 0, 6, 14, 2, 0, 0], [0, 9, 15, 0, 0, 6, 0, 0, 0, 0], [4, 0, 1, 0, 0, 0, 0, 0, 0, 0], [0, 0, 0, 0, 0, 0, 0, 0, 0, 0], [], [2, 2, 2, 8, 0, 2, 0, 2, 0, 0], [0, 0, 0, 0, 0, 0, 0, 0, 0, 0], [16, 0, 0, 0, 0, 48, 4, 0, 0, 4], [0, 0, 0, 0, 0, 0, 0, 0, 0, 0], [0, 0, 0, 0, 0, 0, 0, 0, 0, 0], [1, 0, 2, 0, 2, 0, 0, 0, 1, 1], [0, 4, 84, 28, 12, 0, 0, 0, 0, 0], [0, 0, 0, 0, 0, 0, 0, 0, 0, 0], [0, 0, 0, 0, 0, 4, 0, 0, 0, 0], [0, 0, 0, 0, 0, 34, 51, 0, 0, 51], [4, 0, 0, 2, 0, 0, 0, 0, 0, 0], [0, 15, 9, 6, 6, 9, 12, 3, 0, 3], [0, 0, 0, 0, 0, 0, 0, 0, 0, 0], [15, 5, 0, 5, 0, 0, 0, 15, 0, 0], [4, 0, 0, 0, 0, 2, 0, 0, 0, 0], [0, 0, 32, 0, 0, 0, 0, 0, 0], [0, 4, 0, 0, 0, 0, 0, 0, 20, 0], [0, 0, 9, 45, 0, 0, 36, 0, 0, 0], [1, 0, 0, 0, 0, 0, 0, 0, 0, 0], [0, 1, 4, 0, 0, 0, 3, 10, 0, 0], [0, 0, 0, 0, 2, 8, 0, 0, 7, 4], [0, 0, 0, 0, 0, 0, 0, 0, 0, 2], [15, 3, 0, 9, 0, 3, 0, 0, 0, 0], [0, 2, 2, 0, 2, 0, 0, 0, 8, 4], [0, 2, 0, 0, 0, 0, 0, 0, 0, 0], [0, 0, 0, 0, 0, 0, 0, 0, 0, 0], [0, 0, 0, 0, 0, 0, 0, 0, 0, 0], [4, 0, 0, 0, 0, 0, 0, 8, 0, 0], [0, 0, 0, 0, 0, 0, 0, 0, 0, 0], [12, 0, 0, 1, 4, 3, 0, 3, 0, 0], [30, 0, 0, 9, 9, 0, 0, 3, 9, 0], [0, 0, 0, 8, 0, 4, 12, 0, 0, 20], [0, 20, 0, 0, 0, 0, 0, 0, 0, 0], [0, 0, 0, 0, 0, 0, 0, 0, 0, 0], [0, 0, 0, 0, 0, 0, 0, 0, 0, 0], [0, 0, 0, 2, 0, 0, 0, 0, 2, 0], [0, 0, 0, 0, 0, 0, 0, 0, 0, 0], [10, 105, 15, 0, 0, 0, 15, 0, 15, 0], [0, 0, 4, 0, 0, 0, 3, 0, 0, 0], [1, 0, 0, 0, 0, 0, 1, 6, 0, 0], [0, 0, 0, 0, 0, 0, 0, 0, 0, 0], [40, 0, 0, 0, 0, 0, 0, 0, 0, 0]]\n"
     ]
    }
   ],
   "source": [
    "print(Vrg)"
   ]
  },
  {
   "cell_type": "code",
   "execution_count": 67,
   "id": "db4a521a",
   "metadata": {},
   "outputs": [
    {
     "name": "stdout",
     "output_type": "stream",
     "text": [
      "{'act': [0, 0, 1, 0, 0, 4, 0, 0, 0, 1], 'cheasy': [], 'small': [0, 0, 0, 0, 0, 8, 8, 12, 0, 0], 'raw': [0, 0, 0, 0, 0, 0, 0, 0, 0, 0], 'compact': [0, 0, 0, 0, 0, 0, 0, 0, 0, 0], 'quality': [1, 0, 0, 0, 0, 0, 0, 2, 0, 0], 'multitude': [0, 0, 0, 0, 0, 0, 0, 0, 0], 'visual': [0, 0, 0, 0, 0, 0, 0, 0, 0, 3], 'loud': [0, 0, 0, 0, 4, 0, 2, 2, 4, 0], 'real': [56, 2, 0, 21, 4, 1, 0, 0, 0, 0], 'tried': [20, 10, 0, 0, 10, 0, 0, 0, 0, 0], 'old': [8, 4, 0, 4, 32, 0, 0, 0, 4, 0], 'sharp': [0, 1, 0, 0, 1, 0, 0, 2, 0, 0], 'christmas': [0, 0, 0, 20, 0, 0, 0, 4, 0, 0], 'older': [0, 0, 0, 0, 21, 0, 0, 0, 3, 1], 'noiseless': [0, 0, 0, 0, 0, 0, 0, 0, 0, 0], 'quick': [5, 21, 0, 4, 0, 2, 3, 0, 2, 0], 'flimsy': [0, 0, 0, 0, 0, 0, 0, 0, 0, 0], 'negative': [0, 0, 0, 0, 0, 0, 0, 0, 0, 0], 'installed': [0, 0, 0, 0, 0, 0, 0, 2, 0, 0], 'present': [0, 0, 0, 14, 0, 0, 0, 0, 2, 0], 'regular': [2, 0, 1, 0, 0, 0, 0, 0, 0, 0], 'silent': [3, 0, 0, 0, 0, 0, 0, 2, 0, 0], 'video': [0, 0, 0, 0, 0, 0, 0, 0, 12, 27], 'remote': [0, 0, 0, 0, 0, 0, 0, 0, 0, 0], 'certain': [2, 8, 0, 0, 0, 0, 14, 0, 0, 0], 'great': [0, 7, 84, 0, 0, 0, 0, 35, 0, 0], 'worse': [0, 0, 1, 1, 0, 0, 2, 1, 0, 0], 'file': [0, 40, 0, 0, 0, 0, 0, 10, 0], 'front': [0, 0, 0, 0, 0, 0, 0, 0, 0, 0], 'progressive': [0, 0, 0, 0, 0, 0, 0, 0, 0, 0], 'attractive': [0, 0, 0, 0, 0, 0, 3, 0, 3, 0], 'disposable': [0, 0, 0, 0, 0, 0, 0, 0, 0, 0], 'claim': [2, 0, 0, 4, 0, 6, 0, 0, 0, 0], 'oppressed': [0, 0, 0, 0, 0, 0, 0, 0, 0, 0], 'couple': [0, 1, 0, 0, 3, 0, 0, 0, 1, 0], 'uk': [0, 0, 0, 0, 0, 0, 0, 0, 0, 0], 'longterm': [0, 0, 0, 0, 0, 0, 0, 0, 0, 0], 'bang': [0, 0, 0, 0, 0, 0, 0, 0, 0, 0], 'wma': [0, 0, 0, 0, 0, 0, 0, 0, 0, 0], 'smooth': [0, 0, 0, 0, 0, 0, 0, 2, 0, 0], 'many': [0, 0, 5, 3, 0, 0, 4, 0, 21, 0], 'dvd': [513, 0, 0, 0, 0, 0, 0, 0, 0, 0], 'crappy': [0, 0, 0, 0, 0, 0, 0, 0, 0, 0], 'inexpensive': [0, 0, 0, 4, 0, 0, 0, 0, 0, 2], 'allow': [0, 6, 0, 1, 0, 0, 0, 0, 0, 0], 'poor': [0, 0, 3, 0, 0, 1, 0, 1, 3, 1], 'tv': [12, 0, 0, 0, 0, 4, 0, 0, 0, 0], 'several': [0, 0, 7, 0, 14, 7, 0, 35, 7, 7], 'audio': [0, 0, 0, 0, 0, 0, 0, 0, 9, 0], 'backup': [8, 0, 0, 0, 0, 0, 0, 0, 0, 0], 'attempted': [0, 0, 0, 0, 0, 0, 0, 0, 0, 0], 'froze': [0, 0, 0, 0, 0, 0, 0, 0, 3, 0], 'cheep': [0, 0, 0, 0, 0, 0, 0, 0, 0, 0], 'wide': [0, 0, 0, 0, 0, 0, 0, 0, 0, 1], 'affordable': [0, 2, 0, 0, 2, 0, 0, 0, 6, 0], 'broken': [0, 0, 0, 0, 0, 0, 0, 0, 1, 0], 'whole': [1, 0, 0, 0, 4, 1, 0, 0, 0, 2], 'kodak': [0, 0, 0, 0, 0, 0, 0, 0, 0, 0], 'main': [0, 0, 0, 0, 0, 0, 0, 0, 0, 0], 'disk': [0, 132, 0, 0, 0, 0, 0, 18, 0, 0], 'rental': [0, 0, 0, 0, 0, 0, 0, 0, 0, 0], 'fit': [0, 0, 8, 0, 8, 8, 16, 0, 0, 0], 'portable': [0, 0, 0, 0, 0, 0, 0, 0, 0, 0], 'slim': [0, 10, 0, 0, 0, 0, 0, 0, 0, 0], 'best': [0, 0, 0, 0, 24, 14, 0, 0, 0, 42], 'light': [0, 0, 0, 0, 0, 5, 0, 0, 0, 0], 'smart': [0, 4, 8, 8, 0, 2, 0, 10, 0, 0], 'scan': [0, 0, 0, 0, 8, 0, 4, 0, 0], 'occasional': [0, 0, 0, 0, 0, 0, 0, 0, 0, 0], 'surprised': [2, 0, 2, 0, 0, 0, 0, 0, 0, 0], 'mirrorlike': [], 'expensive': [2, 1, 4, 0, 0, 0, 0, 0, 4, 0], 'drawer': [0, 0, 0, 0, 0, 0, 0, 0, 0], 'looked': [44, 0, 4, 0, 8, 4, 4, 0, 16, 0], 'pirate': [0, 0, 0, 0, 0, 0, 0, 0, 0, 0], 'disc': [0, 0, 0, 0, 0, 132, 0, 0, 0, 44], 'played': [504, 0, 54, 0, 0, 18, 0, 0, 0, 9], 'cool': [3, 33, 3, 3, 6, 0, 0, 12, 0, 6], 'play': [0, 0, 0, 0, 0, 336, 0, 0, 0, 0], 'stable': [0, 0, 0, 0, 0, 0, 0, 0, 0, 0], 'least': [0, 0, 0, 0, 0, 5, 0, 1, 0, 0], 'first': [15, 0, 15, 5, 0, 15, 0, 0, 0, 5], 'nicely': [0, 4, 0, 0, 4, 4, 0, 0, 28, 4], 'good': [0, 60, 36, 12, 0, 0, 36, 0, 24, 84], 'find': [0, 12, 0, 0, 0, 0, 9, 0, 9, 0], 'recent': [0, 0, 0, 0, 0, 0, 0, 0, 0, 0], 'ok': [2, 0, 0, 0, 0, 0, 0, 0, 0, 0], 'install': [0, 0, 0, 0, 0, 4, 0, 0, 0, 0], 'nt': [0, 0, 0, 0, 0, 0, 0, 0, 0, 0], 'sleek': [0, 5, 0, 0, 0, 0, 0, 0, 0, 0], 'stack': [0, 0, 0, 0, 0, 2, 0, 0, 0], 'nemo': [0, 0, 0, 0, 0, 0, 0, 0, 0, 0], 'february': [0, 1, 0, 0, 0, 0, 0, 0, 0, 0], 'original': [0, 0, 0, 0, 0, 0, 0, 0, 0, 0], 'big': [0, 0, 0, 0, 22, 16, 0, 2, 0, 0], 'entire': [1, 5, 1, 0, 2, 0, 0, 1, 0, 0], 'le': [0, 0, 0, 0, 0, 0, 0, 0, 0], 'literature': [0, 0, 0, 0, 0, 0, 0, 0, 0, 0], 'little': [33, 0, 24, 3, 6, 6, 12, 0, 0, 63], 'bunch': [0, 0, 0, 1, 0, 21, 4, 0, 0, 4], 'clear': [0, 5, 0, 0, 0, 0, 0, 0, 0, 2], 'pitchcorrected': [], 'full': [0, 5, 0, 0, 2, 2, 0, 2, 5, 0], 'overlook': [0, 0, 0, 0, 0, 0, 0, 0, 0, 0], 'type': [2, 0, 4, 4, 0, 6, 14, 2, 0, 0], 'used': [0, 9, 15, 0, 0, 6, 0, 0, 0, 0], 'willing': [4, 0, 1, 0, 0, 0, 0, 0, 0, 0], 'funny': [0, 0, 0, 0, 0, 0, 0, 0, 0, 0], 'remotecontrol': [], 'cheap': [2, 2, 2, 8, 0, 2, 0, 2, 0, 0], 'manual': [0, 0, 0, 0, 0, 0, 0, 0, 0, 0], 'long': [16, 0, 0, 0, 0, 48, 4, 0, 0, 4], 'freeze': [0, 0, 0, 0, 0, 0, 0, 0, 0, 0], 'unplayable': [0, 0, 0, 0, 0, 0, 0, 0, 0, 0], 'cheaper': [1, 0, 2, 0, 2, 0, 0, 0, 1, 1], 'different': [0, 4, 84, 28, 12, 0, 0, 0, 0, 0], 'satisfied': [0, 0, 0, 0, 0, 0, 0, 0, 0, 0], 'nicer': [0, 0, 0, 0, 0, 4, 0, 0, 0, 0], 'read': [0, 0, 0, 0, 0, 34, 51, 0, 0, 51], 'standard': [4, 0, 0, 2, 0, 0, 0, 0, 0, 0], 'last': [0, 15, 9, 6, 6, 9, 12, 3, 0, 3], 'eventualy': [0, 0, 0, 0, 0, 0, 0, 0, 0, 0], 'sure': [15, 5, 0, 5, 0, 0, 0, 15, 0, 0], 'wrong': [4, 0, 0, 0, 0, 2, 0, 0, 0, 0], 'feature': [0, 0, 32, 0, 0, 0, 0, 0, 0], 'new': [0, 4, 0, 0, 0, 0, 0, 0, 20, 0], 'fine': [0, 0, 9, 45, 0, 0, 36, 0, 0, 0], 'possible': [1, 0, 0, 0, 0, 0, 0, 0, 0, 0], 'worth': [0, 1, 4, 0, 0, 0, 3, 10, 0, 0], 'bad': [0, 0, 0, 0, 2, 8, 0, 0, 7, 4], 'loaded': [0, 0, 0, 0, 0, 0, 0, 0, 0, 2], 'second': [15, 3, 0, 9, 0, 3, 0, 0, 0, 0], 'extra': [0, 2, 2, 0, 2, 0, 0, 0, 8, 4], 'connect': [0, 2, 0, 0, 0, 0, 0, 0, 0, 0], 'apex': [0, 0, 0, 0, 0, 0, 0, 0, 0, 0], 'vbr': [0, 0, 0, 0, 0, 0, 0, 0, 0, 0], 'right': [4, 0, 0, 0, 0, 0, 0, 8, 0, 0], 'dvdr': [0, 0, 0, 0, 0, 0, 0, 0, 0, 0], 'nice': [12, 0, 0, 1, 4, 3, 0, 3, 0, 0], 'much': [30, 0, 0, 9, 9, 0, 0, 3, 9, 0], 'able': [0, 0, 0, 8, 0, 4, 12, 0, 0, 20], 'lightweight': [0, 20, 0, 0, 0, 0, 0, 0, 0, 0], 'shiny': [0, 0, 0, 0, 0, 0, 0, 0, 0, 0], 'divx': [0, 0, 0, 0, 0, 0, 0, 0, 0, 0], 'slow': [0, 0, 0, 2, 0, 0, 0, 0, 2, 0], 'gb': [0, 0, 0, 0, 0, 0, 0, 0, 0, 0], 'easy': [10, 105, 15, 0, 0, 0, 15, 0, 15, 0], 'amazon': [0, 0, 4, 0, 0, 0, 3, 0, 0, 0], 'speak': [1, 0, 0, 0, 0, 0, 1, 6, 0, 0], 'finest': [0, 0, 0, 0, 0, 0, 0, 0, 0, 0], 'format': [40, 0, 0, 0, 0, 0, 0, 0, 0, 0]}\n"
     ]
    }
   ],
   "source": [
    "print(global_freq_adj_dict)"
   ]
  },
  {
   "cell_type": "code",
   "execution_count": 68,
   "id": "1296d8d1",
   "metadata": {},
   "outputs": [],
   "source": [
    "#Step5: Computing aspect global frequency vector for each aspect j and all its WN related words (related WN words of all adjectives in aspect j)\n",
    "#and updating a matrix Mr(Nr,NA) where Nr is the list of all unique wordnet related terms of all aspects related adjectives"
   ]
  },
  {
   "cell_type": "code",
   "execution_count": 69,
   "id": "a6065dff",
   "metadata": {},
   "outputs": [],
   "source": [
    "#we know that all the wordnets related to all the adjectives are stored in all_wordnets list\n",
    "#But we need is the list of unique wordnets of all the adjectives\n",
    "\n",
    "all_wordnets_unique=list(set(all_wordnets))"
   ]
  },
  {
   "cell_type": "code",
   "execution_count": 70,
   "id": "7a6eb1df",
   "metadata": {},
   "outputs": [
    {
     "name": "stdout",
     "output_type": "stream",
     "text": [
      "['though', 'lui', 'redstone', 'theme', 'basic', 'stupid', 'economics', 'act', 'september', 'impossible', 'multiple', 'document', 'pack', 'funimation', 'shadow', 'bargain', 'pious', 'proper', 'service', 'philosophy', 'old', 'shaper', 'news', 'cover', 'down', 'glittery', 'sink', 'shyness', 'girl', 'possibly', 'booklet', 'rubbish', 'guess', 'perfect', 'dory', 'video', 'price', 'funky', 'ugly', 'option', 'both', 'claiming', 'computer', 'flex', 'warrant', 'board', 'entrepreneurial', 'eye', 'emotion', 'goalless', 'login', 'sony', 'or', 'create', ':o', 'today', 'sentenced', 'many', 'impoverished', 'accused', 'album', 'beat', 'shelf', 'fold', 'puked', 'allow', 'narnia', 'determined', 'charged', 'eco-friendly', 'ラウンドファスナー', 'ppl', 'hdtv', 'look', 'decided', 'io', 'high', 'pureview', 'swedish', 'compartment', 'called', 'audio', 'cost-effective', 'calculating', 'ball', 'stylish', 'january', 'xm', 'n’t', 'engine', 'tear', 'curling', 'acrylic', 'magic', 'wide', 'unrecognisable', 'scratched', 'felt', 'wall-e', 'gamebattles', 'mycareer', 'some', 'kak', 'stuck', 'almost', 'アカデミック版', 'soft', 'bt', 'broadband', 'disk', 'sexier', 'reason', 'accomplished', 'totally', 'custody', 'spend', 'available', 'contending', 'ep', 'best', 'light', 'losing', 'reputation', 'july', 'exploded', 'silky', 'whip', 'gucci', 'kinda', 'amazing', 'peed', 'complex', 'okay', 'tuh', 'america', 'rdr', 'substantial', 'this', 'panic', 'cult', 'スターターキット', 'neutral', 'that', 'maen', 'classic', 'too', 'end', 'overpriced', 'sleek', 'stack', 'might', 'could', 'installs', 'demand', 'including', 'projector', 'parent', 'optimus', 'par', 'ghz', 'slipped', 'tablette', 'nextgen', 'skinnier', 'understand', 'short-term', 'aw', 'channel', 'enjoy', 'providing', 'red', 'type', 'theology', 'ionic', 'willing', 'magenta', 'diaper', 'pose', 'issue', 'offer', 'rank', 'attracted', 'trouble', 'customer', 'doe', 'downside', 'ulead', 'nex-f', 'anything', 'fantastic', 'work', 'online', 'photoshop', 'browser', 'tomtom', 'smoked', 'energic', 'ah', 'galaxy', 'diesel', 'march', 'stand', 'emphasis', 'antivirus', 'own', 'famous', 'unwatchable', 'experience', 'fear', 'extremely', 'edition', 'shame', 'desktop', 'last', 'answer', 'i', 'reliable', 'supermarket', 'figment', 'keyboard', 'coverage', 'day', 'future', 'balik', 'sure', 'cheapest', 'book', 'feature', 'lighter', 'murder', 'rack', 'system', 'not', 'lady', 'cash', 'get', 'coudnt', 'liquor', 'neither', 'un', 'console', 'pvc', 'supposed', 'review', 'skrillex', 'key', 'cd', 'enlightened', 'audience', 'mobile', 'about', 'lack', 'clothes', 'wash', 'night', 'compare', 'world-class', 'won', 'then', 'widescreen', 'overcharge', 'value', 'hearing', 'stats', 'smaller', 'need', 'winterboard', 'stick', 'regarding', 'typewriter', 'concealer', 'attention', 'guy', 'glass', 'xd', 'educational', 'transgression', 'small', 'bundle', 'unattractive', 'put', 'rely', 'men', 'something', 'cuter', 'commanding', 'reservation', 'sanctimonious', 'suppository', 'untold', 'persecuted', 'scooby', 'easter', 'driven', 'younger', 'html', 'clean', 'better', 'odious', 'nightmare', 'disappeared', '総選挙公式ガイドブック', 'my', 'art', 'point', 'round', 'physically', 'counter', 'prepared', 'gallery', 'spicey', 'it', 'headset', 'science', 'revolutionary', 'lah', 'elegant', 'digital', 'plugged', 'check', 'approach', 'tablet', 'mess', 'rubbery', 'ultrabook', 'boot', 'compared', 'wht', 'edgy', 'artwork', 'place', 'honest', 'across', 'samsung', 'branding', 'weird', 'rather', 'tone', 'official', 'national', 'spectacularly', 'didnot', 'pretty', 'outlander', 'reference', 'gdc', 'lucky', 'sort', 'nintendo', 'solution', 'flash', 'sharpie', 'deal', 'hilarious', 'burn', 'hers', 'evrn', 'given', 'logitech', 'dictate', 'analog', 'have', 'tip', 'you', 'impressed', 'affordable', 'subtle', 'stool', 'crap', 'kl', 'found', 'copy', 'gym', 'copier', 'grab', 'rolled', 'well', 'underwhelming', 'mpl', 'discount', 'vinyl', 'gump', 'post', 'airline', 'metallic', 'product', 'miniscule', 'likeness', 'grey', 'positive', 'textured', 'withhold', 'youtube', 'four', 'smart', 'pokemon', 'appetising', 'our', 'expensive', 'customizable', 'graphic', 'la', 'significant', 'worn', 'lcd', 'step', 'play', 'person', 'gps', 'running', 'low-carbon', 'virtuous', 'curtain', 'more', 'maintaining', 'float', 'scratch', 'mean', 'since', 'usb', 'arise', 'from', 'mine', 'everything', 'being', 'comforter', 'shit', 'lovely', 'saying', 'panel', 'circus', 'six', 'should', 'entire', 'custom', 'clearly', 'optic', 'personality', 'abiding', 'next', 'silly', 'kid', 'earthly', 'union', 'manged', 'midtable', 'wt', 'klein', 'dci', 'studio', 'search', 'worldwide', 'write', 'sync', 'dnt', 'root', 'looking', 'hope', 'mtvu', 'clunky', 'holiday', 'french', 'buy', 'unless', 'dutch', 'solid', 'poorly', 'patriotic', 'five', 'kindle', 'hahaa', 'epic', 'display', 'long', 'november', 'convoluted', 'server', 'easier', 'range', 'corporate', 'literary', 'tap', 'uninstall', 'maybe', 'clearing', 'convince', 'dual', 'style', 'surfer', 'dire', 'featured', 'again', 'leathery', 'knew', 'maybelline', 'mhz', 'whether', 'standard', 'me', 'fujifilm', 'told', 'change', 'freaking', 'screw', 'investigated', 'page', 'like', 'versatile', 'crawl', 'reflect', 'motorsport', 'teach', 'happens', 'sell', 'switch', 'think', 'especially', 'claritin', 'yesterday', 'short', 'behind', 'mba', 'hundred', 'sciencey', 'single', 'bonus', 'blunt', 'rough', 'year', 'side', 'kind', 'right', \"'re\", 'much', 'show', 'update', 'figure', 'able', 'game', 'can', 'asked', 'international', 'jailbreak', 'straight', 'here', 'scatty', 'gotta', 'warehouse', 'awesome', 'every', 'eill', 'did', 'depressing', 'micro', 'perfectly', 'dwt', 'went', 'creative', 'ultimate', 'quality', 'corner', 'kakaotalk', 'qcr', 'summer', 'diversity', 'consider', 'boy', 'motif', 'bookcase', 'tripped', 'unhappy', 'shitty', 'actual', 'laser', 'these', 'market', 'spec', '?', 'lot', 'folder', 'jdp', 'lifestyle', 'skill', 'preservative', 'va', 'vocal', 'appreciate', 'judge', 'their', 'dfx', 'nothing', 'innovation', 'premium', 'ridiculously', 'blowing', 'tradition', 'week', 'titantron', 'speaker', \"'m\", 'there', 'upgraded', 'gurantee', 'decent', 'wild', 'fun', 'power', 'brand', 'irksome', 'motorsports', 'website', 'spanish', 'tab', 'kaka', 'know', 'polaroid', 'damn', 'expect', 'assorted', '’ll', 'dolphin', 'automatic', 'evening', 'culture', 'professional', 'sheisty', 'tp', 'ye', 'drop', 'agile', 'odd', 'charging', 'refer', 'djmag', 'example', 'journalism', 'bukkit', 'difficult', 'another', 'includes', 'lost', 'but', 'three', 'now', 'bottle', 'mistake', 'tripod', 'longer', 'worked', 'resurfaced', 'move', 'yours', 'buh', 'ffbb', 'photobook', 'master', 'heart', 'fit', 'handle', 'level', 'xperia', 'sorry', 'storytelling', 'watched', 'playstation', 'seen', 'grid', 'crazy', '神奈川県より', 'storage', 'traxx', 'mailbox', 'above', '<lolface>', 'young', 'rush', 'unsightly', 'funtage', 'sandbag', 'treated', 'plain', 'either', 'disc', 'exclusive', 'spot', 'after', 'cross', 'nail', 'sweet', 'talk', 'working', 'find', 'set', 'up', 'dyed', 'infrared', 'numerous', 'yet.i', 'properly', 'reputable', 'reading', 'servant', 'thats', 'pitbull', 'skinny', 'smartphone', 'big', 'woeful', 'mind', 'wing', 'enemy', 'plug', 'important', 'those', 'hot', 'blu-ray', 'pitch', 'trying', 'without', 'exactly', 'convert', 'according', 'sniping', 'version', 'hands-on', 'study', 'wheel', 'lingering', 'than', 'wen', 'into', 'she', 'cracked', 'xbox', 'low-maintenance', 'run', 'apply', 'thought', 'probably', 'itunes', 'awful', 'sound', 'mp', 'lens', 'download', 'poster', 'skimp', 'nightstand', 'mpc', 'verizon', 'cheaper', 'different', 'bold', 'be', 'third', 'optical', 'priced', 'rogue', 'relieving', 'turn', 'karuta', 'blame', 'grown', 'august', 'drain', 'celebrate', 'hell', 'bag', 'nodus', 'kno', 'active', 'date', 'lpga', 'count', 'tcn', 'confused', 'playlist', 'your', 'money', 'outsmart', 'ntsc', 'uncomfortable', 'ddr', 'fault', 'troubled', 'playing', 'fitted', 'brother', 'access', 'o.o', 'obedient', 'rod', 'low', 'african', 'badly', 'allowed', 'favorite', 'extra', 'synergy', 'helped', 'scrubby', 'parce', 'motivated', 'epee', 'canada', 'barney', 'hand', 'december', 'ebay', 'dark', 'knw', 'probbly', 'return', 'bar', 'lonely', 'experiment', 'include', 'gb', 'cheapy', 'heavy', 'so', 'dfp', 'they', 'collective', 'format', 'buying', 'hated', 'sit', 'worst', 'sleeve', 'world', 'woo', 'katniss', 'few', 'synthetic', 'stacked', 'explain', 'all', 'hardware', 'convinced', 'ace', '大阪府より', 'hight', 'reusable', 'haha', 'marimekko', 'radio', 'two', 'nurture', 'car', 'away', 'how', 'any', 'such', 'yah', 'happier', 'stressed', 'regular', 'comfortable', 'lie', 'spill', 'remote', 'bigger', 'file', 'great', 'heated', 'forced', 'valentine', 'upgrade', 'upset', 'lol', 'serious', 'top', 'delivery', 'took', 'nya', 'retail', 'aluminum', 'dec', 'gi', 'downplay', 'inshore', '-_-', 'convicted', 'telephone', 'ke', 'recyclable', 'tv', 'stuff', 'deep', 'cheat', 'october', 'arrested', 'inside', 'farmer', 'frontcourt', 'monitor', 'fuzzy', 'selection', 'gamepad', 'purchase', 'heritage', 'fresh', 'hqn', 'through', 'flipped', 'ky', 'pampers', 'dumb', 'musicnya', 'whole', 'noise', 'hahahah', 'scared', 'same', 'wii', 'wonder', 'inch', 'take', 'rugged', 'batterie', 'nor', 'shrek', 'falling', 'europe', 'gauge', 'see', 'yet', 'powerhouse', 'june', 'fork', 'zune', 'bowl', 'africa', 'dude', 'surprise', 'charger', 'choose', 'intellectual', 'horse', 'situation', 'software', 'manage', 'sun', 'most', 'cool', 'with', 'action', 'obviously', 'oh', 'first', 'bottom', 'good', 'nicely', 'hoodoo', 'friend', 'hd', 'previous', 'profitable', 'wall', 'platinum', 'abysmal', 'ibook', 'toughness', 'mrl', 'realized', 'random', 'sturdy', 'layered', 'balancing', 'other', 'mixed', 'cnt', 'latest', 'eanna', 'people', 'clear', 'drive', 'cache', 'giving', 'unfinished', 'full', 'missing', 'sibling', 'shape', 'recognize', 'limitation', 'travel', 'geometric', 'had', 'report', 'pay', 'sense', 'cheap', 'equitable', 'enough', 'underperformed', 'nstreet', 'opinion', 'seat', 'freeze', 'way', 'adapter', 'edge', 'ch_blog', 'watch', 'discipline', 'stringy', 'limited', 'discourage', 'web', 'coming', 'extream', 'wavy', 'flat', 'body', 'why', 'device', 'what', 'nicer', 'n-gage', 'hit', 'garbage', 'baaare', 'nexus', 'condition', 'monster', 'difference', 'benevolent', 'royalty', 'black', 'scary', 'thing', 'depot', 'marketing', 'special', 'goddamn', 'efficient', 'one', 'london', 'e-liquid', 'bad', 'out', 'loaded', 'relative', 'the', 'tanned', 'irig', 'thinking', 'second', 'pressure', 'unlocked', 'property', 'prettier', 'fact', 'for', 'wonderful', 'just', 'grappling', 'jst', 'xl', 'cost', 'turned', 'high-quality', 'nice', 'angle', 'xmas', 'perceive', 'disappointed', 'only', 'shambolic', 'free', 'gap', 'network', 'make', 'learn', 'anyone', 'scrap', 'russian', 'easy', 'suitable', 'around', 'speak', 'psychology', 'drunk']\n"
     ]
    }
   ],
   "source": [
    "print(all_wordnets_unique)"
   ]
  },
  {
   "cell_type": "code",
   "execution_count": 71,
   "id": "d09dd80b",
   "metadata": {},
   "outputs": [
    {
     "data": {
      "text/plain": [
       "1473"
      ]
     },
     "execution_count": 71,
     "metadata": {},
     "output_type": "execute_result"
    }
   ],
   "source": [
    "len(all_wordnets)"
   ]
  },
  {
   "cell_type": "code",
   "execution_count": 72,
   "id": "fb32ef95",
   "metadata": {},
   "outputs": [
    {
     "data": {
      "text/plain": [
       "1085"
      ]
     },
     "execution_count": 72,
     "metadata": {},
     "output_type": "execute_result"
    }
   ],
   "source": [
    "len(all_wordnets_unique)"
   ]
  },
  {
   "cell_type": "code",
   "execution_count": 73,
   "id": "1ff7117a",
   "metadata": {},
   "outputs": [],
   "source": [
    "Nr=len(all_wordnets_unique)"
   ]
  },
  {
   "cell_type": "code",
   "execution_count": 74,
   "id": "96e8ace0",
   "metadata": {},
   "outputs": [
    {
     "name": "stdout",
     "output_type": "stream",
     "text": [
      "{'act': ['talk', 'understand', 'speak', 'ppl', 'stand', 'lie', 'not', 'person', 'honest', 'people'], 'cheasy': [], 'small': ['their', 'more', 'clean', 'find', 'your', 'own', 'or', 'looking', 'side', 'bigger'], 'raw': ['epic', 'bowl', 'magic', 'wing', 'ultimate', 'spanish', 'horse', 'classic', 'dutch', 'wild'], 'compact': ['analog', 'inch', 'optical', 'laser', 'infrared', 'lens', 'aluminum', 'magenta', 'tripod', 'pvc'], 'quality': ['brand', 'creative', 'selection', 'value', 'includes', 'professional', 'product', 'standard', 'limited', 'skill'], 'multitude': ['transgression', 'discipline', 'likeness', 'shyness', 'limitation', 'motif', 'earthly', 'figment', 'untold'], 'visual': ['creative', 'marketing', 'html', 'master', 'audio', 'storytelling', 'photoshop', 'digital', 'branding', 'vocal'], 'loud': ['scary', 'sound', 'mess', 'lonely', 'blowing', 'turn', 'noise', 'crazy', 'scared', 'drunk'], 'real': ['big', 'beat', 'stand', 'young', 'better', 'than', 'one', 'bad', 'play', 'crazy'], 'tried': ['supposed', 'probably', 'decided', 'asked', 'took', 'just', 'called', 'told', 'did', 'trying'], 'old': ['wonder', 'missing', 'kid', 'my', 'whole', 'seen', 'the', 'with', 'like', 'guy'], 'sharp': ['tone', 'wide', 'lighter', 'inch', 'edge', 'gauge', 'angle', 'screw', 'clear', 'drive'], 'christmas': ['easter', 'evening', 'valentine', 'amazing', 'summer', 'holiday', 'night', 'xmas', 'day', 'lovely'], 'older': ['hated', 'younger', 'especially', 'sibling', 'treated', 'friend', 'one', 'grown', 'many', 'being'], 'noiseless': ['energic', 'nstreet', 'shaper', 'grappling', 'hoodoo', 'sandbag', 'epee', 'inshore', 'musicnya', 'extream'], 'quick': ['working', 'take', 'clean', 'gotta', 'need', 'drop', 'get', 'work', 'step', 'easy'], 'flimsy': ['irksome', 'convoluted', 'leathery', 'odious', 'unsightly', 'rubbery', 'miniscule', 'stringy', 'clunky', 'sanctimonious'], 'negative': ['emotion', 'difficult', 'opinion', 'significant', 'situation', 'lack', 'positive', 'mistake', 'action'], 'installed': ['device', 'unlocked', 'mailbox', 'sync', 'tab', 'computer', 'upgraded', 'charging', 'plugged', 'installs'], 'present': ['our', 'yours', 'special', 'enjoy', 'wonderful', 'experience', 'great', 'celebrate', 'future', 'appreciate'], 'regular': ['shitty', 'full', 'extra', 'actual', 'short', 'spot', 'gym', 'any', 'decent'], 'silent': ['panic', 'trouble', 'mind', 'behind', 'enemy', 'hearing', 'nightmare', 'fear', 'deep', 'noise'], 'video': ['version', 'official', 'tv', 'post', 'playlist', 'cd', 'cover', 'radio', 'album', 'youtube'], 'remote': ['device', 'monitor', 'automatic', 'plug', 'sync', 'charger', 'switch', 'counter', 'keyboard', 'engine'], 'certain': ['sense', 'thing', 'important', 'any', 'change', 'other', 'attention', 'different', 'difference', 'compare'], 'great': ['our', 'good', 'special', 'more', 'amazing', 'today', 'awesome', 'fantastic', 'this', 'day'], 'worse': ['awful', 'nothing', 'worst', 'losing', 'reason', 'either', 'happens', 'fault', 'crap', 'disappointed'], 'file': ['device', 'server', 'mobile', 'folder', 'document', 'computer', 'browser', 'upgrade', 'format'], 'front': ['behind', 'seat', 'corner', 'into', 'down', 'side', 'wall', 'car', 'around', 'across'], 'progressive': ['cult', 'innovation', 'culture', 'corporate', 'diversity', 'revolutionary', 'agile', 'powerhouse', 'entrepreneurial', 'collective'], 'attractive': ['sexier', 'pretty', 'unattractive', 'extremely', 'personality', 'ugly', 'such', 'attracted', 'weird', 'skinny'], 'disposable': ['recyclable', 'reusable', 'pampers', 'synthetic', 'e-liquid', 'diaper', 'concealer', 'preservative', 'claritin', 'assorted'], 'claim': ['allowed', 'demand', 'expect', 'cheat', 'refer', 'claiming', 'pay', 'allow', 'deal', 'judge'], 'oppressed': ['virtuous', 'enlightened', 'abiding', 'troubled', 'impoverished', 'servant', 'obedient', 'benevolent', 'persecuted', 'pious'], 'couple': ['parent', 'surprise', 'famous', 'random', 'pose', 'boy', 'girl', 'cool', 'point', 'date'], 'uk': ['africa', 'national', 'worldwide', 'international', 'news', 'london', 'europe', 'canada', 'union', 'america'], 'longterm': ['frontcourt', 'short-term', 'equitable', 'world-class', 'toughness', 'contending', 'commanding', 'low-maintenance', 'midtable', 'low-carbon'], 'bang': ['mba', '<lolface>', 'haha', 'woo', 'nya', 'kaka', 'kak', 'hahaa', '-_-', 'yah'], 'wma': ['dwt', 'dci', 'motorsport', 'nextgen', 'motorsports', 'outlander', 'mtvu', 'rdr', 'djmag', 'lpga'], 'smooth': ['tone', 'clean', 'fresh', 'blunt', 'deep', 'rough', 'shape', 'funky', 'soft', 'body'], 'many': ['these', 'different', 'those', 'two', 'lot', 'both', 'other', 'few', 'one', 'any'], 'dvd': ['theme', 'playlist', 'cd', 'hd', 'poster', 'edition', 'ep', 'album', 'blu-ray', 'playstation'], 'crappy': ['rubbish', 'shitty', 'proper', 'awful', 'goddamn', 'compared', 'odd', 'crap', 'depressing', 'decent'], 'inexpensive': ['eco-friendly', 'customizable', 'suitable', 'affordable', 'reputable', 'profitable', 'cost-effective', 'high-quality', 'reliable', 'example'], 'allow': ['learn', 'whether', 'nor', 'recognize', 'manage', 'willing', 'unless', 'expect', 'n’t', 'demand'], 'poor': ['neither', 'what', 'shame', 'blame', 'brother', 'how', 'difference', 'much', 'well', 'such'], 'tv': ['show', 'studio', 'channel', 'post', 'video', 'radio', 'online', 'ep', 'youtube', 'top'], 'several': ['six', 'hundred', 'entire', 'numerous', 'three', 'multiple', 'two', 'four', 'five', 'including'], 'audio': ['wii', 'channel', 'mp', 'video', 'hd', 'radio', 'nintendo', 'xbox', 'flash', 'digital'], 'backup': ['graphic', 'remote', 'spec', 'speaker', 'desktop', 'switch', 'verizon', 'upgrade', 'keyboard', 'broadband'], 'attempted': ['charged', 'murder', 'convicted', 'arrested', 'sentenced', 'custody', 'accused', 'forced', 'warrant', 'investigated'], 'froze': ['disappeared', 'scratched', 'freeze', 'flipped', 'peed', 'cracked', 'puked', 'tripped', 'slipped', 'exploded'], 'cheep': ['sciencey', 'scrubby', 'sheisty', 'scatty', 'skimp', 'baaare', 'cheapy', 'suppository', 'spicey', 'appetising'], 'wide': ['eye', 'bottom', 'clear', 'high', 'edge', 'side', 'wall', 'round', 'running', 'move'], 'affordable': ['property', 'service', 'providing', 'retail', 'product', 'solution', 'offer', 'deal', 'bargain'], 'broken': ['eye', 'behind', 'heart', 'turn', 'falling', 'away', 'inside', 'hand', 'tear'], 'whole': ['it', 'entire', 'old', 'every', 'my', 'there', 'since', 'out', 'all', 'this'], 'kodak': ['zune', 'ibook', 'logitech', 'gamepad', 'optimus', 'ultrabook', 'pureview', 'fujifilm', 'tomtom', 'typewriter'], 'main': ['tp', 'ky', 'maen', 'ye', 'ke', 'kl', 'gi', 'tuh', 'lah', 'balik'], 'disk': ['panel', 'widescreen', 'photobook', 'hdtv', 'mhz', 'lcd', 'disc', 'ghz', 'dual', 'projector'], 'rental': ['discount', 'property', 'depot', 'airline', 'retail', 'warehouse', 'travel', 'reservation', 'supermarket', 'delivery'], 'fit': ['low', 'make', 'clean', 'or', 'put', 'stick', 'solid', 'smart', 'flat', 'body'], 'portable': ['micro', 'adapter', 'batterie', 'ddr', 'usb', 'copier', 'telephone', 'tablette', 'cache', 'console'], 'slim': ['klein', 'bold', 'rod', 'diesel', 'gucci', 'boot', 'men', 'flex', 'black', 'ace'], 'best': ['favorite', 'perfect', 'good', 'special', 'amazing', 'awesome', 'one', 'great', 'lucky', 'fun'], 'light': ['clear', 'deep', 'edge', 'side', 'sun', 'inside', 'heavy', 'shadow', 'cross', 'dark'], 'smart': ['basic', 'or', 'small', 'type', 'quality', 'fit', 'high', 'easy', 'active', 'bold'], 'scan': ['display', 'feature', 'review', 'hands-on', 'photobook', 'kakaotalk', 'speaker', 'polaroid', 'booklet'], 'occasional': ['unfinished', 'emphasis', 'lingering', 'subtle', 'downside', 'relieving', 'balancing', 'calculating', 'clearing', 'substantial'], 'surprised': ['thought', 'obviously', 'probably', 'knew', 'possibly', 'clearly', 'totally', 'disappointed', 'upset', 'convinced'], 'mirrorlike': [], 'expensive': ['basic', 'small', 'plain', 'smaller', 'clothes', 'overpriced', 'mixed', 'cheaper', 'different', 'cheap'], 'drawer': ['storage', 'curtain', 'rack', 'stool', 'nightstand', 'compartment', 'shelf', 'bookcase', 'comforter'], 'looked': ['probably', 'went', 'look', 'realized', 'felt', 'almost', 'turned', 'get', 'freaking', 'seen'], 'pirate': ['circus', 'dolphin', 'rogue', 'swedish', 'horse', 'russian', 'french', 'dutch', 'farmer', 'surfer'], 'disc': ['disk', 'vinyl', 'premium', 'bundle', 'custom', 'edition', 'limited', 'gb', 'playstation', 'platinum'], 'played': ['beat', 'lost', 'playing', 'since', 'watched', 'play', 'had', 'pitch', 'seen', 'won'], 'cool': ['long', 'look', 'pretty', 'type', 'hot', 'bad', 'nice', 'best', 'crazy', 'fun'], 'play': ['game', 'hit', 'rush', 'up', 'watch', 'playing', 'out', 'ball', 'beat', 'run'], 'stable': ['relative', 'approach', 'driven', 'efficient', 'maintaining', 'neutral', 'intellectual', 'complex', 'condition', 'reputation'], 'least': ['probably', 'have', 'than', 'lost', 'but', 'both', 'there', 'think', 'yet', 'sure'], 'first': ['second', 'have', 'another', 'year', 'after', 'next', 'every', 'last', 'the', 'this'], 'nicely': ['hers', 'badly', 'nicer', 'yours', 'impressed', 'worn', 'properly', 'poorly', 'perfectly', 'worked'], 'good': ['better', 'well', 'hope', 'too', 'great', 'fun', 'nice', 'this', 'much', 'day'], 'find': ['have', 'or', 'can', 'anyone', 'way', 'not', 'need', 'anything', 'something', 'how'], 'recent': ['update', 'stats', 'audience', 'regarding', 'previous', 'issue', 'coverage', 'report', 'latest', 'according'], 'ok': ['ah', 'oh', 'xd', 'aw', '?', ':o', 'okay', 'sorry', 'o.o', 'hahahah'], 'install': ['login', 'server', 'headset', 'sync', 'jailbreak', 'download', 'remote', 'uninstall', 'browser', 'upgrade'], 'nt': ['buh', 'dnt', 'wen', 'jst', 'wt', 'wht', 'cnt', 'bt', 'kno', 'knw'], 'sleek': ['acrylic', 'metallic', 'maybelline', 'sturdy', 'edgy', 'textured', 'geometric', 'elegant', 'stylish', 'versatile'], 'stack': ['whip', 'rack', 'cash', 'scrap', 'bottle', 'liquor', 'fold', 'loaded', 'grab'], 'nemo': ['gump', 'skrillex', 'dory', 'wall-e', 'shrek', 'katniss', 'narnia', 'barney', 'pitbull', 'scooby'], 'february': ['november', 'march', 'september', 'dec', 'august', 'july', 'october', 'january', 'december', 'june'], 'original': ['version', 'red', 'master', 'cover', 'grey', 'art', 'monster', 'style', 'pokemon', 'black'], 'big': ['look', 'another', 'up', 'like', 'some', 'my', 'out', 'the', 'with', 'this'], 'entire': ['our', 'third', 'through', 'three', 'into', 'every', 'two', 'whole', 'four', 'five'], 'le': ['dire', 'lui', 'la', 'parce', 'par', 'me', 'un', 'va'], 'literature': ['study', 'educational', 'philosophy', 'economics', 'theology', 'science', 'experiment', 'literary', 'psychology', 'journalism'], 'little': ['big', 'look', 'pretty', 'old', 'lady', 'one', 'kid', 'my', 'girl', 'like'], 'bunch': ['shitty', 'old', 'stuff', 'these', 'kind', 'those', 'one', 'many', 'other', 'different'], 'clear': ['low', 'pressure', 'eye', 'above', 'key', 'clean', 'edge', 'step', 'light', 'power'], 'pitchcorrected': [], 'full': ['first', 'big', 'single', 'extra', 'set', 'high', 'spot', 'best', 'running', 'top'], 'overlook': ['reflect', 'dictate', 'outsmart', 'rely', 'discourage', 'nurture', 'arise', 'downplay', 'withhold', 'perceive'], 'type': ['figure', 'thing', 'sound', 'or', 'handle', 'change', 'bad', 'cool', 'smart', 'same'], 'used': ['should', 'find', 'doe', 'just', 'that', 'called', 'found', 'only', 'could', 'they'], 'willing': ['’ll', 'able', 'helped', 'expect', 'choose', 'rely', 'consider', 'manage', 'convince', 'allow'], 'funny': ['hilarious', 'confused', 'stupid', 'dude', 'kinda', 'silly', 'dumb', 'thats', 'crazy', 'weird'], 'remotecontrol': [], 'cheap': ['buying', 'small', 'bag', 'product', 'sell', 'buy', 'cheaper', 'ebay', 'cheapest', 'expensive'], 'manual': ['smartphone', 'monitor', 'tablet', 'server', 'antivirus', 'mobile', 'software', 'web', 'gps', 'hardware'], 'long': ['good', 'it', 'up', 'but', 'way', 'there', 'nice', 'bad', 'this'], 'freeze': ['float', 'spill', 'scratch', 'tap', 'wash', 'sink', 'drain', 'burn', 'fork', 'crawl'], 'unplayable': ['woeful', 'unrecognisable', 'abysmal', 'goalless', 'underperformed', 'spectacularly', 'unwatchable', 'resurfaced', 'shambolic', 'underwhelming'], 'cheaper': ['buying', 'customer', 'priced', 'purchase', 'price', 'option', 'cost', 'cheap', 'cheapest', 'expensive'], 'different': ['thing', 'these', 'one', 'lot', 'many', 'other', 'those', 'most', 'odd', 'any'], 'satisfied': ['happier', 'stressed', 'easier', 'treated', 'accomplished', 'motivated', 'physically', 'prepared', 'determined', 'unhappy'], 'nicer': ['happier', 'prettier', 'nicely', 'ridiculously', 'comfortable', 'sexier', 'uncomfortable', 'cuter', 'tanned', 'skinnier'], 'read': ['what', 'fact', 'write', 'it', 'about', 'answer', 'something', 'how', 'explain', 'reading'], 'standard': ['display', 'gap', 'range', 'system', 'quality', 'market', 'level', 'board', 'grid', 'hardware'], 'last': ['first', 'second', 'yesterday', 'week', 'year', 'next', 'coming', 'today', 'since', 'this'], 'eventualy': ['probbly', 'evrn', 'overcharge', 'didnot', 'yet.i', 'eill', 'coudnt', 'gurantee', 'eanna', 'manged'], 'sure': ['guess', 'it', 'but', 'see', 'know', 'maybe', 'there', 'think', 'well', 'then'], 'wrong': ['why', 'what', 'reason', 'that', 'saying', 'either', 'how', 'think', 'exactly', 'same'], 'feature': ['featured', 'update', 'review', 'graphic', 'reference', 'exclusive', 'artwork', 'latest', 'book'], 'new': ['our', 'first', 'for', 'special', 'from', 'free', 'the', 'with', 'this', 'check'], 'fine': ['long', 'just', 'she', 'i', \"'m\", 'mine', 'so', 'lol', 'sure', 'be'], 'possible': ['impossible', 'situation', 'important', 'option', 'end', 'sort', 'change', 'point', 'place'], 'worth': ['given', 'yours', 'lot', 'mean', 'spend', 'everything', 'without', 'count', 'longer', 'giving'], 'bad': ['thing', 'but', 'way', 'right', 'damn', 'hell', 'shit', 'crazy', 'like', 'same'], 'loaded': ['whip', 'garbage', 'bar', 'wheel', 'bottle', 'stacked', 'smoked', 'liquor', 'rolled', 'stack'], 'second': ['first', 'the', 'third', 'return', 'another', 'lost', 'every', 'end', 'last', 'after'], 'extra': ['regular', 'tip', 'full', 'short', 'clean', 'money', 'fresh', 'fit', 'some', 'pack'], 'connect': ['search', 'network', 'mobile', 'create', 'manage', 'include', 'access', 'upgrade', 'convert', 'apply'], 'apex': ['sniping', 'traxx', 'synergy', 'gamebattles', 'optic', 'karuta', 'gdc', 'funimation', 'mpc', 'xm'], 'vbr': ['mpl', 'ffbb', 'mrl', 'tcn', 'qcr', 'nex-f', 'mycareer', 'jdp', 'dfp', 'dfx'], 'right': ['though', 'again', 'it', 'but', 'way', 'here', 'now', 'there', 'this'], 'dvdr': ['ラウンドファスナー', 'スターターキット', 'hqn', 'ch_blog', 'marimekko', 'ntsc', '総選挙公式ガイドブック', 'アカデミック版', '神奈川県より', '大阪府より'], 'nice': ['long', 'good', 'sweet', 'pretty', 'too', 'lucky', 'fun', 'cool', 'well', 'lovely'], 'much': ['you', 'nothing', 'it', 'too', 'anything', 'lot', 'mean', \"'re\", 'everything', 'well'], 'able': ['rather', '’ll', 'find', 'choose', 'unless', 'willing', 'might', 'could', 'trying', 'expect'], 'lightweight': ['silky', 'curling', 'sleeve', 'ionic', 'rugged', 'fitted', 'heated', 'sleek', 'wavy', 'hight'], 'shiny': ['silky', 'glass', 'fuzzy', 'sleeve', 'dyed', 'layered', 'glittery', 'sharpie', 'nail'], 'divx': ['redstone', 'zune', 'n-gage', 'funtage', 'ulead', 'titantron', 'winterboard', 'nodus', 'bukkit', 'irig'], 'slow': ['sit', 'straight', 'mess', 'serious', 'turn', 'stuck', 'handle', 'bad', 'step', 'thinking'], 'gb': ['galaxy', 'tablet', 'sony', 'premium', 'xl', 'nexus', 'xperia', 'dual', 'playstation', 'samsung'], 'easy': ['rather', 'enough', 'more', 'find', 'better', 'learn', 'need', 'anything', 'something', 'work'], 'amazon': ['itunes', 'review', 'io', 'edition', 'exclusive', 'nexus', 'available', 'gallery', 'deal', 'kindle'], 'speak': ['talk', 'understand', 'act', 'learn', 'about', 'teach', 'nor', 'recognize', 'explain', 'judge'], 'finest': ['african', 'heritage', 'tradition', 'root', 'lifestyle', 'world', 'mixed', 'patriotic', 'royalty', 'powerhouse'], 'format': ['display', 'rank', 'bonus', 'website', 'file', 'folder', 'page', 'copy', 'browser', 'upgrade']}\n"
     ]
    }
   ],
   "source": [
    "print(adj_wordnets_dict)"
   ]
  },
  {
   "cell_type": "code",
   "execution_count": 75,
   "id": "052ccb3d",
   "metadata": {},
   "outputs": [
    {
     "name": "stdout",
     "output_type": "stream",
     "text": [
      "act --> ['talk', 'understand', 'speak', 'ppl', 'stand', 'lie', 'not', 'person', 'honest', 'people']\n",
      "cheasy --> []\n",
      "small --> ['their', 'more', 'clean', 'find', 'your', 'own', 'or', 'looking', 'side', 'bigger']\n",
      "raw --> ['epic', 'bowl', 'magic', 'wing', 'ultimate', 'spanish', 'horse', 'classic', 'dutch', 'wild']\n",
      "compact --> ['analog', 'inch', 'optical', 'laser', 'infrared', 'lens', 'aluminum', 'magenta', 'tripod', 'pvc']\n",
      "quality --> ['brand', 'creative', 'selection', 'value', 'includes', 'professional', 'product', 'standard', 'limited', 'skill']\n",
      "multitude --> ['transgression', 'discipline', 'likeness', 'shyness', 'limitation', 'motif', 'earthly', 'figment', 'untold']\n",
      "visual --> ['creative', 'marketing', 'html', 'master', 'audio', 'storytelling', 'photoshop', 'digital', 'branding', 'vocal']\n",
      "loud --> ['scary', 'sound', 'mess', 'lonely', 'blowing', 'turn', 'noise', 'crazy', 'scared', 'drunk']\n",
      "real --> ['big', 'beat', 'stand', 'young', 'better', 'than', 'one', 'bad', 'play', 'crazy']\n",
      "tried --> ['supposed', 'probably', 'decided', 'asked', 'took', 'just', 'called', 'told', 'did', 'trying']\n",
      "old --> ['wonder', 'missing', 'kid', 'my', 'whole', 'seen', 'the', 'with', 'like', 'guy']\n",
      "sharp --> ['tone', 'wide', 'lighter', 'inch', 'edge', 'gauge', 'angle', 'screw', 'clear', 'drive']\n",
      "christmas --> ['easter', 'evening', 'valentine', 'amazing', 'summer', 'holiday', 'night', 'xmas', 'day', 'lovely']\n",
      "older --> ['hated', 'younger', 'especially', 'sibling', 'treated', 'friend', 'one', 'grown', 'many', 'being']\n",
      "noiseless --> ['energic', 'nstreet', 'shaper', 'grappling', 'hoodoo', 'sandbag', 'epee', 'inshore', 'musicnya', 'extream']\n",
      "quick --> ['working', 'take', 'clean', 'gotta', 'need', 'drop', 'get', 'work', 'step', 'easy']\n",
      "flimsy --> ['irksome', 'convoluted', 'leathery', 'odious', 'unsightly', 'rubbery', 'miniscule', 'stringy', 'clunky', 'sanctimonious']\n",
      "negative --> ['emotion', 'difficult', 'opinion', 'significant', 'situation', 'lack', 'positive', 'mistake', 'action']\n",
      "installed --> ['device', 'unlocked', 'mailbox', 'sync', 'tab', 'computer', 'upgraded', 'charging', 'plugged', 'installs']\n",
      "present --> ['our', 'yours', 'special', 'enjoy', 'wonderful', 'experience', 'great', 'celebrate', 'future', 'appreciate']\n",
      "regular --> ['shitty', 'full', 'extra', 'actual', 'short', 'spot', 'gym', 'any', 'decent']\n",
      "silent --> ['panic', 'trouble', 'mind', 'behind', 'enemy', 'hearing', 'nightmare', 'fear', 'deep', 'noise']\n",
      "video --> ['version', 'official', 'tv', 'post', 'playlist', 'cd', 'cover', 'radio', 'album', 'youtube']\n",
      "remote --> ['device', 'monitor', 'automatic', 'plug', 'sync', 'charger', 'switch', 'counter', 'keyboard', 'engine']\n",
      "certain --> ['sense', 'thing', 'important', 'any', 'change', 'other', 'attention', 'different', 'difference', 'compare']\n",
      "great --> ['our', 'good', 'special', 'more', 'amazing', 'today', 'awesome', 'fantastic', 'this', 'day']\n",
      "worse --> ['awful', 'nothing', 'worst', 'losing', 'reason', 'either', 'happens', 'fault', 'crap', 'disappointed']\n",
      "file --> ['device', 'server', 'mobile', 'folder', 'document', 'computer', 'browser', 'upgrade', 'format']\n",
      "front --> ['behind', 'seat', 'corner', 'into', 'down', 'side', 'wall', 'car', 'around', 'across']\n",
      "progressive --> ['cult', 'innovation', 'culture', 'corporate', 'diversity', 'revolutionary', 'agile', 'powerhouse', 'entrepreneurial', 'collective']\n",
      "attractive --> ['sexier', 'pretty', 'unattractive', 'extremely', 'personality', 'ugly', 'such', 'attracted', 'weird', 'skinny']\n",
      "disposable --> ['recyclable', 'reusable', 'pampers', 'synthetic', 'e-liquid', 'diaper', 'concealer', 'preservative', 'claritin', 'assorted']\n",
      "claim --> ['allowed', 'demand', 'expect', 'cheat', 'refer', 'claiming', 'pay', 'allow', 'deal', 'judge']\n",
      "oppressed --> ['virtuous', 'enlightened', 'abiding', 'troubled', 'impoverished', 'servant', 'obedient', 'benevolent', 'persecuted', 'pious']\n",
      "couple --> ['parent', 'surprise', 'famous', 'random', 'pose', 'boy', 'girl', 'cool', 'point', 'date']\n",
      "uk --> ['africa', 'national', 'worldwide', 'international', 'news', 'london', 'europe', 'canada', 'union', 'america']\n",
      "longterm --> ['frontcourt', 'short-term', 'equitable', 'world-class', 'toughness', 'contending', 'commanding', 'low-maintenance', 'midtable', 'low-carbon']\n",
      "bang --> ['mba', '<lolface>', 'haha', 'woo', 'nya', 'kaka', 'kak', 'hahaa', '-_-', 'yah']\n",
      "wma --> ['dwt', 'dci', 'motorsport', 'nextgen', 'motorsports', 'outlander', 'mtvu', 'rdr', 'djmag', 'lpga']\n",
      "smooth --> ['tone', 'clean', 'fresh', 'blunt', 'deep', 'rough', 'shape', 'funky', 'soft', 'body']\n",
      "many --> ['these', 'different', 'those', 'two', 'lot', 'both', 'other', 'few', 'one', 'any']\n",
      "dvd --> ['theme', 'playlist', 'cd', 'hd', 'poster', 'edition', 'ep', 'album', 'blu-ray', 'playstation']\n",
      "crappy --> ['rubbish', 'shitty', 'proper', 'awful', 'goddamn', 'compared', 'odd', 'crap', 'depressing', 'decent']\n",
      "inexpensive --> ['eco-friendly', 'customizable', 'suitable', 'affordable', 'reputable', 'profitable', 'cost-effective', 'high-quality', 'reliable', 'example']\n",
      "allow --> ['learn', 'whether', 'nor', 'recognize', 'manage', 'willing', 'unless', 'expect', 'n’t', 'demand']\n",
      "poor --> ['neither', 'what', 'shame', 'blame', 'brother', 'how', 'difference', 'much', 'well', 'such']\n",
      "tv --> ['show', 'studio', 'channel', 'post', 'video', 'radio', 'online', 'ep', 'youtube', 'top']\n",
      "several --> ['six', 'hundred', 'entire', 'numerous', 'three', 'multiple', 'two', 'four', 'five', 'including']\n",
      "audio --> ['wii', 'channel', 'mp', 'video', 'hd', 'radio', 'nintendo', 'xbox', 'flash', 'digital']\n",
      "backup --> ['graphic', 'remote', 'spec', 'speaker', 'desktop', 'switch', 'verizon', 'upgrade', 'keyboard', 'broadband']\n",
      "attempted --> ['charged', 'murder', 'convicted', 'arrested', 'sentenced', 'custody', 'accused', 'forced', 'warrant', 'investigated']\n",
      "froze --> ['disappeared', 'scratched', 'freeze', 'flipped', 'peed', 'cracked', 'puked', 'tripped', 'slipped', 'exploded']\n",
      "cheep --> ['sciencey', 'scrubby', 'sheisty', 'scatty', 'skimp', 'baaare', 'cheapy', 'suppository', 'spicey', 'appetising']\n",
      "wide --> ['eye', 'bottom', 'clear', 'high', 'edge', 'side', 'wall', 'round', 'running', 'move']\n",
      "affordable --> ['property', 'service', 'providing', 'retail', 'product', 'solution', 'offer', 'deal', 'bargain']\n",
      "broken --> ['eye', 'behind', 'heart', 'turn', 'falling', 'away', 'inside', 'hand', 'tear']\n",
      "whole --> ['it', 'entire', 'old', 'every', 'my', 'there', 'since', 'out', 'all', 'this']\n",
      "kodak --> ['zune', 'ibook', 'logitech', 'gamepad', 'optimus', 'ultrabook', 'pureview', 'fujifilm', 'tomtom', 'typewriter']\n",
      "main --> ['tp', 'ky', 'maen', 'ye', 'ke', 'kl', 'gi', 'tuh', 'lah', 'balik']\n",
      "disk --> ['panel', 'widescreen', 'photobook', 'hdtv', 'mhz', 'lcd', 'disc', 'ghz', 'dual', 'projector']\n",
      "rental --> ['discount', 'property', 'depot', 'airline', 'retail', 'warehouse', 'travel', 'reservation', 'supermarket', 'delivery']\n",
      "fit --> ['low', 'make', 'clean', 'or', 'put', 'stick', 'solid', 'smart', 'flat', 'body']\n",
      "portable --> ['micro', 'adapter', 'batterie', 'ddr', 'usb', 'copier', 'telephone', 'tablette', 'cache', 'console']\n",
      "slim --> ['klein', 'bold', 'rod', 'diesel', 'gucci', 'boot', 'men', 'flex', 'black', 'ace']\n",
      "best --> ['favorite', 'perfect', 'good', 'special', 'amazing', 'awesome', 'one', 'great', 'lucky', 'fun']\n",
      "light --> ['clear', 'deep', 'edge', 'side', 'sun', 'inside', 'heavy', 'shadow', 'cross', 'dark']\n",
      "smart --> ['basic', 'or', 'small', 'type', 'quality', 'fit', 'high', 'easy', 'active', 'bold']\n",
      "scan --> ['display', 'feature', 'review', 'hands-on', 'photobook', 'kakaotalk', 'speaker', 'polaroid', 'booklet']\n",
      "occasional --> ['unfinished', 'emphasis', 'lingering', 'subtle', 'downside', 'relieving', 'balancing', 'calculating', 'clearing', 'substantial']\n",
      "surprised --> ['thought', 'obviously', 'probably', 'knew', 'possibly', 'clearly', 'totally', 'disappointed', 'upset', 'convinced']\n",
      "mirrorlike --> []\n",
      "expensive --> ['basic', 'small', 'plain', 'smaller', 'clothes', 'overpriced', 'mixed', 'cheaper', 'different', 'cheap']\n",
      "drawer --> ['storage', 'curtain', 'rack', 'stool', 'nightstand', 'compartment', 'shelf', 'bookcase', 'comforter']\n",
      "looked --> ['probably', 'went', 'look', 'realized', 'felt', 'almost', 'turned', 'get', 'freaking', 'seen']\n",
      "pirate --> ['circus', 'dolphin', 'rogue', 'swedish', 'horse', 'russian', 'french', 'dutch', 'farmer', 'surfer']\n",
      "disc --> ['disk', 'vinyl', 'premium', 'bundle', 'custom', 'edition', 'limited', 'gb', 'playstation', 'platinum']\n",
      "played --> ['beat', 'lost', 'playing', 'since', 'watched', 'play', 'had', 'pitch', 'seen', 'won']\n",
      "cool --> ['long', 'look', 'pretty', 'type', 'hot', 'bad', 'nice', 'best', 'crazy', 'fun']\n",
      "play --> ['game', 'hit', 'rush', 'up', 'watch', 'playing', 'out', 'ball', 'beat', 'run']\n",
      "stable --> ['relative', 'approach', 'driven', 'efficient', 'maintaining', 'neutral', 'intellectual', 'complex', 'condition', 'reputation']\n",
      "least --> ['probably', 'have', 'than', 'lost', 'but', 'both', 'there', 'think', 'yet', 'sure']\n",
      "first --> ['second', 'have', 'another', 'year', 'after', 'next', 'every', 'last', 'the', 'this']\n",
      "nicely --> ['hers', 'badly', 'nicer', 'yours', 'impressed', 'worn', 'properly', 'poorly', 'perfectly', 'worked']\n",
      "good --> ['better', 'well', 'hope', 'too', 'great', 'fun', 'nice', 'this', 'much', 'day']\n",
      "find --> ['have', 'or', 'can', 'anyone', 'way', 'not', 'need', 'anything', 'something', 'how']\n",
      "recent --> ['update', 'stats', 'audience', 'regarding', 'previous', 'issue', 'coverage', 'report', 'latest', 'according']\n",
      "ok --> ['ah', 'oh', 'xd', 'aw', '?', ':o', 'okay', 'sorry', 'o.o', 'hahahah']\n",
      "install --> ['login', 'server', 'headset', 'sync', 'jailbreak', 'download', 'remote', 'uninstall', 'browser', 'upgrade']\n",
      "nt --> ['buh', 'dnt', 'wen', 'jst', 'wt', 'wht', 'cnt', 'bt', 'kno', 'knw']\n",
      "sleek --> ['acrylic', 'metallic', 'maybelline', 'sturdy', 'edgy', 'textured', 'geometric', 'elegant', 'stylish', 'versatile']\n",
      "stack --> ['whip', 'rack', 'cash', 'scrap', 'bottle', 'liquor', 'fold', 'loaded', 'grab']\n",
      "nemo --> ['gump', 'skrillex', 'dory', 'wall-e', 'shrek', 'katniss', 'narnia', 'barney', 'pitbull', 'scooby']\n",
      "february --> ['november', 'march', 'september', 'dec', 'august', 'july', 'october', 'january', 'december', 'june']\n",
      "original --> ['version', 'red', 'master', 'cover', 'grey', 'art', 'monster', 'style', 'pokemon', 'black']\n",
      "big --> ['look', 'another', 'up', 'like', 'some', 'my', 'out', 'the', 'with', 'this']\n",
      "entire --> ['our', 'third', 'through', 'three', 'into', 'every', 'two', 'whole', 'four', 'five']\n",
      "le --> ['dire', 'lui', 'la', 'parce', 'par', 'me', 'un', 'va']\n",
      "literature --> ['study', 'educational', 'philosophy', 'economics', 'theology', 'science', 'experiment', 'literary', 'psychology', 'journalism']\n",
      "little --> ['big', 'look', 'pretty', 'old', 'lady', 'one', 'kid', 'my', 'girl', 'like']\n",
      "bunch --> ['shitty', 'old', 'stuff', 'these', 'kind', 'those', 'one', 'many', 'other', 'different']\n",
      "clear --> ['low', 'pressure', 'eye', 'above', 'key', 'clean', 'edge', 'step', 'light', 'power']\n",
      "pitchcorrected --> []\n",
      "full --> ['first', 'big', 'single', 'extra', 'set', 'high', 'spot', 'best', 'running', 'top']\n",
      "overlook --> ['reflect', 'dictate', 'outsmart', 'rely', 'discourage', 'nurture', 'arise', 'downplay', 'withhold', 'perceive']\n",
      "type --> ['figure', 'thing', 'sound', 'or', 'handle', 'change', 'bad', 'cool', 'smart', 'same']\n",
      "used --> ['should', 'find', 'doe', 'just', 'that', 'called', 'found', 'only', 'could', 'they']\n",
      "willing --> ['’ll', 'able', 'helped', 'expect', 'choose', 'rely', 'consider', 'manage', 'convince', 'allow']\n",
      "funny --> ['hilarious', 'confused', 'stupid', 'dude', 'kinda', 'silly', 'dumb', 'thats', 'crazy', 'weird']\n",
      "remotecontrol --> []\n",
      "cheap --> ['buying', 'small', 'bag', 'product', 'sell', 'buy', 'cheaper', 'ebay', 'cheapest', 'expensive']\n",
      "manual --> ['smartphone', 'monitor', 'tablet', 'server', 'antivirus', 'mobile', 'software', 'web', 'gps', 'hardware']\n",
      "long --> ['good', 'it', 'up', 'but', 'way', 'there', 'nice', 'bad', 'this']\n",
      "freeze --> ['float', 'spill', 'scratch', 'tap', 'wash', 'sink', 'drain', 'burn', 'fork', 'crawl']\n",
      "unplayable --> ['woeful', 'unrecognisable', 'abysmal', 'goalless', 'underperformed', 'spectacularly', 'unwatchable', 'resurfaced', 'shambolic', 'underwhelming']\n",
      "cheaper --> ['buying', 'customer', 'priced', 'purchase', 'price', 'option', 'cost', 'cheap', 'cheapest', 'expensive']\n",
      "different --> ['thing', 'these', 'one', 'lot', 'many', 'other', 'those', 'most', 'odd', 'any']\n",
      "satisfied --> ['happier', 'stressed', 'easier', 'treated', 'accomplished', 'motivated', 'physically', 'prepared', 'determined', 'unhappy']\n",
      "nicer --> ['happier', 'prettier', 'nicely', 'ridiculously', 'comfortable', 'sexier', 'uncomfortable', 'cuter', 'tanned', 'skinnier']\n",
      "read --> ['what', 'fact', 'write', 'it', 'about', 'answer', 'something', 'how', 'explain', 'reading']\n",
      "standard --> ['display', 'gap', 'range', 'system', 'quality', 'market', 'level', 'board', 'grid', 'hardware']\n",
      "last --> ['first', 'second', 'yesterday', 'week', 'year', 'next', 'coming', 'today', 'since', 'this']\n",
      "eventualy --> ['probbly', 'evrn', 'overcharge', 'didnot', 'yet.i', 'eill', 'coudnt', 'gurantee', 'eanna', 'manged']\n",
      "sure --> ['guess', 'it', 'but', 'see', 'know', 'maybe', 'there', 'think', 'well', 'then']\n",
      "wrong --> ['why', 'what', 'reason', 'that', 'saying', 'either', 'how', 'think', 'exactly', 'same']\n",
      "feature --> ['featured', 'update', 'review', 'graphic', 'reference', 'exclusive', 'artwork', 'latest', 'book']\n",
      "new --> ['our', 'first', 'for', 'special', 'from', 'free', 'the', 'with', 'this', 'check']\n",
      "fine --> ['long', 'just', 'she', 'i', \"'m\", 'mine', 'so', 'lol', 'sure', 'be']\n",
      "possible --> ['impossible', 'situation', 'important', 'option', 'end', 'sort', 'change', 'point', 'place']\n",
      "worth --> ['given', 'yours', 'lot', 'mean', 'spend', 'everything', 'without', 'count', 'longer', 'giving']\n",
      "bad --> ['thing', 'but', 'way', 'right', 'damn', 'hell', 'shit', 'crazy', 'like', 'same']\n",
      "loaded --> ['whip', 'garbage', 'bar', 'wheel', 'bottle', 'stacked', 'smoked', 'liquor', 'rolled', 'stack']\n",
      "second --> ['first', 'the', 'third', 'return', 'another', 'lost', 'every', 'end', 'last', 'after']\n",
      "extra --> ['regular', 'tip', 'full', 'short', 'clean', 'money', 'fresh', 'fit', 'some', 'pack']\n",
      "connect --> ['search', 'network', 'mobile', 'create', 'manage', 'include', 'access', 'upgrade', 'convert', 'apply']\n",
      "apex --> ['sniping', 'traxx', 'synergy', 'gamebattles', 'optic', 'karuta', 'gdc', 'funimation', 'mpc', 'xm']\n",
      "vbr --> ['mpl', 'ffbb', 'mrl', 'tcn', 'qcr', 'nex-f', 'mycareer', 'jdp', 'dfp', 'dfx']\n",
      "right --> ['though', 'again', 'it', 'but', 'way', 'here', 'now', 'there', 'this']\n",
      "dvdr --> ['ラウンドファスナー', 'スターターキット', 'hqn', 'ch_blog', 'marimekko', 'ntsc', '総選挙公式ガイドブック', 'アカデミック版', '神奈川県より', '大阪府より']\n",
      "nice --> ['long', 'good', 'sweet', 'pretty', 'too', 'lucky', 'fun', 'cool', 'well', 'lovely']\n",
      "much --> ['you', 'nothing', 'it', 'too', 'anything', 'lot', 'mean', \"'re\", 'everything', 'well']\n",
      "able --> ['rather', '’ll', 'find', 'choose', 'unless', 'willing', 'might', 'could', 'trying', 'expect']\n",
      "lightweight --> ['silky', 'curling', 'sleeve', 'ionic', 'rugged', 'fitted', 'heated', 'sleek', 'wavy', 'hight']\n",
      "shiny --> ['silky', 'glass', 'fuzzy', 'sleeve', 'dyed', 'layered', 'glittery', 'sharpie', 'nail']\n",
      "divx --> ['redstone', 'zune', 'n-gage', 'funtage', 'ulead', 'titantron', 'winterboard', 'nodus', 'bukkit', 'irig']\n",
      "slow --> ['sit', 'straight', 'mess', 'serious', 'turn', 'stuck', 'handle', 'bad', 'step', 'thinking']\n",
      "gb --> ['galaxy', 'tablet', 'sony', 'premium', 'xl', 'nexus', 'xperia', 'dual', 'playstation', 'samsung']\n",
      "easy --> ['rather', 'enough', 'more', 'find', 'better', 'learn', 'need', 'anything', 'something', 'work']\n",
      "amazon --> ['itunes', 'review', 'io', 'edition', 'exclusive', 'nexus', 'available', 'gallery', 'deal', 'kindle']\n",
      "speak --> ['talk', 'understand', 'act', 'learn', 'about', 'teach', 'nor', 'recognize', 'explain', 'judge']\n",
      "finest --> ['african', 'heritage', 'tradition', 'root', 'lifestyle', 'world', 'mixed', 'patriotic', 'royalty', 'powerhouse']\n",
      "format --> ['display', 'rank', 'bonus', 'website', 'file', 'folder', 'page', 'copy', 'browser', 'upgrade']\n"
     ]
    }
   ],
   "source": [
    "for adj in adj_wordnets_dict:\n",
    "    list=adj_wordnets_dict[adj]\n",
    "    print(adj,'-->',list)"
   ]
  },
  {
   "cell_type": "code",
   "execution_count": 76,
   "id": "11e338de",
   "metadata": {},
   "outputs": [],
   "source": [
    "# Creating an empty matrix to store the WN frequency for each aspect\n",
    "Mr = np.zeros((Nr, NA))\n",
    "\n",
    "#Nr is the total no. of unique wordnets\n",
    "#NA is the total no. of aspects\n",
    "\n",
    "\n",
    "for i, wordnet in enumerate(all_wordnets_unique):\n",
    "    for j, aspect in enumerate(y):\n",
    "        asp_adj_list=aspect_adjectives_dict[aspect]  #retreiving the list of adjectives related to the aspect\n",
    "        for adj in asp_adj_list:      #iterating through each adjective in the list\n",
    "            if adj in adj_wordnets_dict:\n",
    "                adj_wn_list=adj_wordnets_dict[adj]\n",
    "                for wn in adj_wn_list:\n",
    "                    if wordnet==wn:\n",
    "                        wn_freq=new_corpus_words.count(wn)\n",
    "                        adj_freq=adj_freq_dict[adj]\n",
    "                        aspect_wordnet_freq=wn_freq*adj_freq\n",
    "                        Mr[i,j]=aspect_wordnet_freq"
   ]
  },
  {
   "cell_type": "code",
   "execution_count": 77,
   "id": "af77dff4",
   "metadata": {},
   "outputs": [
    {
     "name": "stdout",
     "output_type": "stream",
     "text": [
      "[[0. 0. 0. ... 0. 0. 0.]\n",
      " [0. 0. 0. ... 0. 0. 0.]\n",
      " [0. 0. 0. ... 0. 0. 0.]\n",
      " ...\n",
      " [0. 0. 0. ... 0. 0. 0.]\n",
      " [0. 0. 0. ... 0. 0. 0.]\n",
      " [0. 0. 0. ... 0. 0. 0.]]\n"
     ]
    }
   ],
   "source": [
    "print(Mr)"
   ]
  },
  {
   "cell_type": "code",
   "execution_count": 78,
   "id": "034d9c8a",
   "metadata": {},
   "outputs": [],
   "source": [
    "#Step6: Augmenting the two matrices Ma and Mr vertically called stacking\n",
    "\n",
    "# Augment the matrices vertically\n",
    "Mt = np.vstack((Ma, Mr))"
   ]
  },
  {
   "cell_type": "code",
   "execution_count": 79,
   "id": "19be5abb",
   "metadata": {},
   "outputs": [
    {
     "name": "stdout",
     "output_type": "stream",
     "text": [
      "[[0. 0. 0. ... 0. 0. 0.]\n",
      " [0. 0. 0. ... 0. 0. 0.]\n",
      " [0. 0. 4. ... 0. 0. 0.]\n",
      " ...\n",
      " [0. 0. 0. ... 0. 0. 0.]\n",
      " [0. 0. 0. ... 0. 0. 0.]\n",
      " [0. 0. 0. ... 0. 0. 0.]]\n"
     ]
    }
   ],
   "source": [
    "print(Mt)"
   ]
  },
  {
   "cell_type": "code",
   "execution_count": 80,
   "id": "0eb558bb",
   "metadata": {},
   "outputs": [],
   "source": [
    "#Phase 2: NB training"
   ]
  },
  {
   "cell_type": "code",
   "execution_count": 81,
   "id": "0dba076d",
   "metadata": {},
   "outputs": [],
   "source": [
    "Mt_transpose=Mt.transpose()"
   ]
  },
  {
   "cell_type": "code",
   "execution_count": 82,
   "id": "2c6a58ac",
   "metadata": {},
   "outputs": [
    {
     "name": "stdout",
     "output_type": "stream",
     "text": [
      "[[0. 0. 0. ... 0. 0. 0.]\n",
      " [0. 0. 0. ... 0. 0. 0.]\n",
      " [0. 0. 4. ... 0. 0. 0.]\n",
      " ...\n",
      " [0. 0. 0. ... 0. 0. 0.]\n",
      " [0. 0. 0. ... 0. 0. 0.]\n",
      " [0. 0. 0. ... 0. 0. 0.]]\n"
     ]
    }
   ],
   "source": [
    "print(Mt_transpose)   #Mt_transpose contains list of all aspects in rows and list of all adjectives + WN related words in column"
   ]
  },
  {
   "cell_type": "code",
   "execution_count": 83,
   "id": "210be889",
   "metadata": {},
   "outputs": [
    {
     "name": "stdout",
     "output_type": "stream",
     "text": [
      "(163, 1237)\n"
     ]
    }
   ],
   "source": [
    "print(Mt_transpose.shape)"
   ]
  },
  {
   "cell_type": "code",
   "execution_count": 84,
   "id": "d6d23673",
   "metadata": {},
   "outputs": [
    {
     "name": "stdout",
     "output_type": "stream",
     "text": [
      "163\n"
     ]
    }
   ],
   "source": [
    "print(len(y))"
   ]
  },
  {
   "cell_type": "code",
   "execution_count": 85,
   "id": "8c3db4e2",
   "metadata": {},
   "outputs": [
    {
     "data": {
      "text/plain": [
       "numpy.ndarray"
      ]
     },
     "execution_count": 85,
     "metadata": {},
     "output_type": "execute_result"
    }
   ],
   "source": [
    "type(y)"
   ]
  },
  {
   "cell_type": "code",
   "execution_count": 89,
   "id": "f2f2a6ac",
   "metadata": {},
   "outputs": [],
   "source": [
    "from sklearn.model_selection import KFold\n",
    "\n",
    "# Initialize a Multinomial Naive Bayes classifier\n",
    "from sklearn.naive_bayes import MultinomialNB\n",
    "\n",
    "from sklearn.metrics import accuracy_score,precision_score,recall_score,f1_score\n",
    "\n",
    "# Initialize a Multinomial Naive Bayes classifier\n",
    "clf = MultinomialNB()\n",
    "\n",
    "# define the number of folds for cross-validation\n",
    "num_folds = 5\n",
    "\n",
    "# create a KFold object to split the data into folds\n",
    "kf = KFold(n_splits=num_folds)"
   ]
  },
  {
   "cell_type": "code",
   "execution_count": 90,
   "id": "fb442a82",
   "metadata": {},
   "outputs": [
    {
     "name": "stdout",
     "output_type": "stream",
     "text": [
      "[['performance' 'performance']\n",
      " ['performance' 'performance']\n",
      " ['appearance' 'appearance']\n",
      " ['functionality' 'functionality']\n",
      " ['performance' 'performance']\n",
      " ['appearance' 'appearance']\n",
      " ['quality' 'quality']\n",
      " ['performance' 'performance']\n",
      " ['quality' 'quality']\n",
      " ['appearance' 'appearance']\n",
      " ['quality' 'quality']\n",
      " ['performance' 'performance']\n",
      " ['functionality' 'functionality']\n",
      " ['performance' 'performance']\n",
      " ['functionality' 'functionality']\n",
      " ['functionality' 'functionality']\n",
      " ['performance' 'performance']\n",
      " ['performance' 'performance']\n",
      " ['performance' 'performance']\n",
      " ['quality' 'quality']\n",
      " ['quality' 'quality']\n",
      " ['quality' 'quality']\n",
      " ['performance' 'performance']\n",
      " ['performance' 'performance']\n",
      " ['quality' 'quality']\n",
      " ['performance' 'performance']\n",
      " ['functionality' 'functionality']\n",
      " ['functionality' 'functionality']\n",
      " ['quality' 'quality']\n",
      " ['quality' 'quality']\n",
      " ['performance' 'performance']\n",
      " ['functionality' 'functionality']\n",
      " ['performance' 'performance']]\n",
      "Accuracy: 1.0\n",
      "\n",
      "precision score(micro): 1.0\n",
      "precision score(macro): 1.0\n",
      "\n",
      "recall score(micro): 1.0\n",
      "recall score(macro): 1.0\n",
      "\n",
      "F1 score(micro): 1.0\n",
      "F1 score(macro): 1.0\n",
      "\n",
      "\n",
      "[['performance' 'performance']\n",
      " ['performance' 'performance']\n",
      " ['functionality' 'functionality']\n",
      " ['performance' 'performance']\n",
      " ['functionality' 'functionality']\n",
      " ['quality' 'quality']\n",
      " ['performance' 'performance']\n",
      " ['quality' 'quality']\n",
      " ['quality' 'quality']\n",
      " ['functionality' 'functionality']\n",
      " ['behavior' 'behavior']\n",
      " ['performance' 'performance']\n",
      " ['quality' 'quality']\n",
      " ['quality' 'quality']\n",
      " ['quality' 'quality']\n",
      " ['performance' 'performance']\n",
      " ['performance' 'performance']\n",
      " ['quality' 'quality']\n",
      " ['size' 'size']\n",
      " ['appearance' 'appearance']\n",
      " ['quality' 'quality']\n",
      " ['quality' 'quality']\n",
      " ['performance' 'performance']\n",
      " ['functionality' 'functionality']\n",
      " ['quality' 'quality']\n",
      " ['quality' 'quality']\n",
      " ['performance' 'performance']\n",
      " ['performance' 'performance']\n",
      " ['behavior' 'behavior']\n",
      " ['performance' 'performance']\n",
      " ['performance' 'performance']\n",
      " ['performance' 'performance']\n",
      " ['price' 'price']]\n",
      "Accuracy: 1.0\n",
      "\n",
      "precision score(micro): 1.0\n",
      "precision score(macro): 1.0\n",
      "\n",
      "recall score(micro): 1.0\n",
      "recall score(macro): 1.0\n",
      "\n",
      "F1 score(micro): 1.0\n",
      "F1 score(macro): 1.0\n",
      "\n",
      "\n",
      "[['quality' 'quality']\n",
      " ['appearance' 'appearance']\n",
      " ['quality' 'quality']\n",
      " ['quality' 'quality']\n",
      " ['functionality' 'functionality']\n",
      " ['performance' 'performance']\n",
      " ['size' 'size']\n",
      " ['appearance' 'appearance']\n",
      " ['performance' 'performance']\n",
      " ['quality' 'quality']\n",
      " ['functionality' 'functionality']\n",
      " ['functionality' 'functionality']\n",
      " ['performance' 'performance']\n",
      " ['performance' 'performance']\n",
      " ['performance' 'performance']\n",
      " ['performance' 'performance']\n",
      " ['performance' 'performance']\n",
      " ['size' 'size']\n",
      " ['quality' 'quality']\n",
      " ['appearance' 'appearance']\n",
      " ['quality' 'quality']\n",
      " ['performance' 'performance']\n",
      " ['performance' 'performance']\n",
      " ['quality' 'quality']\n",
      " ['quality' 'quality']\n",
      " ['functionality' 'functionality']\n",
      " ['size' 'size']\n",
      " ['price' 'price']\n",
      " ['quality' 'quality']\n",
      " ['size' 'size']\n",
      " ['appearance' 'appearance']\n",
      " ['functionality' 'functionality']\n",
      " ['performance' 'performance']]\n",
      "Accuracy: 1.0\n",
      "\n",
      "precision score(micro): 1.0\n",
      "precision score(macro): 1.0\n",
      "\n",
      "recall score(micro): 1.0\n",
      "recall score(macro): 1.0\n",
      "\n",
      "F1 score(micro): 1.0\n",
      "F1 score(macro): 1.0\n",
      "\n",
      "\n",
      "[['performance' 'performance']\n",
      " ['quality' 'quality']\n",
      " ['quality' 'quality']\n",
      " ['performance' 'performance']\n",
      " ['performance' 'performance']\n",
      " ['appearance' 'appearance']\n",
      " ['performance' 'performance']\n",
      " ['performance' 'performance']\n",
      " ['quality' 'quality']\n",
      " ['quality' 'quality']\n",
      " ['appearance' 'appearance']\n",
      " ['quality' 'quality']\n",
      " ['behavior' 'behavior']\n",
      " ['quality' 'quality']\n",
      " ['performance' 'performance']\n",
      " ['weight' 'weight']\n",
      " ['size' 'size']\n",
      " ['size' 'size']\n",
      " ['price' 'price']\n",
      " ['quality' 'quality']\n",
      " ['quality' 'quality']\n",
      " ['functionality' 'functionality']\n",
      " ['quality' 'quality']\n",
      " ['performance' 'performance']\n",
      " ['performance' 'performance']\n",
      " ['quality' 'quality']\n",
      " ['performance' 'performance']\n",
      " ['quality' 'quality']\n",
      " ['quality' 'quality']\n",
      " ['performance' 'performance']\n",
      " ['performance' 'performance']\n",
      " ['performance' 'performance']]\n",
      "Accuracy: 1.0\n",
      "\n",
      "precision score(micro): 1.0\n",
      "precision score(macro): 1.0\n",
      "\n",
      "recall score(micro): 1.0\n",
      "recall score(macro): 1.0\n",
      "\n",
      "F1 score(micro): 1.0\n",
      "F1 score(macro): 1.0\n",
      "\n",
      "\n",
      "[['functionality' 'functionality']\n",
      " ['quality' 'quality']\n",
      " ['performance' 'performance']\n",
      " ['performance' 'performance']\n",
      " ['performance' 'performance']\n",
      " ['price' 'price']\n",
      " ['price' 'price']\n",
      " ['appearance' 'appearance']\n",
      " ['functionality' 'functionality']\n",
      " ['functionality' 'functionality']\n",
      " ['performance' 'performance']\n",
      " ['performance' 'performance']\n",
      " ['appearance' 'appearance']\n",
      " ['weight' 'size']\n",
      " ['size' 'size']\n",
      " ['performance' 'performance']\n",
      " ['performance' 'performance']\n",
      " ['performance' 'performance']\n",
      " ['performance' 'performance']\n",
      " ['performance' 'performance']\n",
      " ['performance' 'performance']\n",
      " ['performance' 'performance']\n",
      " ['performance' 'performance']\n",
      " ['performance' 'performance']\n",
      " ['appearance' 'appearance']\n",
      " ['performance' 'performance']\n",
      " ['behavior' 'behavior']\n",
      " ['weight' 'size']\n",
      " ['performance' 'performance']\n",
      " ['performance' 'performance']\n",
      " ['performance' 'performance']\n",
      " ['performance' 'performance']]\n",
      "Accuracy: 0.9375\n",
      "\n",
      "precision score(micro): 0.9375\n",
      "precision score(macro): 0.9166666666666666\n",
      "\n",
      "recall score(micro): 0.9375\n",
      "recall score(macro): 0.875\n",
      "\n",
      "F1 score(micro): 0.9375\n",
      "F1 score(macro): 0.8125\n",
      "\n",
      "\n"
     ]
    }
   ],
   "source": [
    "f1_micro=[]\n",
    "f1_macro=[]\n",
    "precision_micro_list=[]\n",
    "precision_macro_list=[]\n",
    "recall_micro_list=[]\n",
    "recall_macro_list=[]\n",
    "\n",
    "# iterate over each fold\n",
    "for train_index, test_index in kf.split(Mt_transpose):\n",
    "\n",
    "    # get the training and testing data for this fold\n",
    "    X_train, X_test = Mt_transpose[train_index], Mt_transpose[test_index]\n",
    "    y_train, y_test = y[train_index], y[test_index]\n",
    "\n",
    "    # train the classifier on the training data\n",
    "    clf.fit(X_train, y_train)\n",
    "\n",
    "    # make predictions on the testing data\n",
    "    y_pred = clf.predict(X_test)\n",
    "      \n",
    "    print(np.concatenate((y_test.reshape(len(y_test),1),y_pred.reshape(len(y_pred),1)),1))\n",
    "   \n",
    "\n",
    "    #calculate the accuracy of the classifier on the testing data for this fold\n",
    "    accuracy = accuracy_score(y_test, y_pred)\n",
    "    print(\"Accuracy:\", accuracy)\n",
    "    \n",
    "    print()\n",
    "   \n",
    "    #calculate the precision(micro) of the classifier on the testing data for this fold\n",
    "    precision_micro= precision_score(y_test,y_pred, average='micro',zero_division=1)\n",
    "    print('precision score(micro):',precision_micro)\n",
    "    precision_micro_list.append(precision_micro)\n",
    "      \n",
    "    #calculate the precision(macro) of the classifier on the testing data for this fold\n",
    "    precision_macro= precision_score(y_test,y_pred, average='macro',zero_division=1)\n",
    "    print('precision score(macro):',precision_macro)\n",
    "    precision_macro_list.append(precision_macro)\n",
    "    \n",
    "    print()\n",
    "    \n",
    "    #calculate the recall(micro) of the classifier on the testing data for this fold\n",
    "    recall_micro=recall_score(y_test,y_pred, average='micro')\n",
    "    print('recall score(micro):',recall_micro)\n",
    "    recall_micro_list.append(recall_micro)\n",
    "    \n",
    "    #calculate the recall(macro) of the classifier on the testing data for this fold\n",
    "    recall_macro=recall_score(y_test,y_pred, average='macro')\n",
    "    print('recall score(macro):',recall_macro)\n",
    "    recall_macro_list.append(recall_macro)\n",
    "    \n",
    "    print() \n",
    "    \n",
    "    # calculate the F1 score for your predictions\n",
    "    f1 = f1_score(y_test, y_pred, average='micro')\n",
    "    print(\"F1 score(micro):\", f1)\n",
    "    f1_micro.append(f1)\n",
    "    \n",
    "    # calculate the F1 score for your predictions\n",
    "    f1 = f1_score(y_test, y_pred, average='macro')\n",
    "    print(\"F1 score(macro):\", f1)\n",
    "    f1_macro.append(f1)\n",
    " \n",
    "    print()\n",
    "    print()    "
   ]
  },
  {
   "cell_type": "code",
   "execution_count": 91,
   "id": "e2f0090d",
   "metadata": {},
   "outputs": [
    {
     "name": "stdout",
     "output_type": "stream",
     "text": [
      "precision_score(micro): 0.9875\n",
      "precision_score(macro): 0.9833333333333334\n",
      "\n",
      "recall_score(micro): 0.9875\n",
      "recall_score(macro): 0.975\n",
      "\n",
      "f1_score(micro): 0.9875\n",
      "f1_score(macro): 0.9625\n"
     ]
    }
   ],
   "source": [
    "precision_micro_sum=sum(precision_micro_list)\n",
    "precision_micro_len=len(precision_micro_list)\n",
    "precision_micro_avg=precision_micro_sum/precision_micro_len\n",
    "print('precision_score(micro):',precision_micro_avg)\n",
    "\n",
    "precision_macro_sum=sum(precision_macro_list)\n",
    "precision_macro_len=len(precision_macro_list)\n",
    "precision_macro_avg=precision_macro_sum/precision_macro_len\n",
    "print('precision_score(macro):',precision_macro_avg)\n",
    "\n",
    "print()\n",
    "\n",
    "recall_micro_sum=sum(recall_micro_list)\n",
    "recall_micro_len=len(recall_micro_list)\n",
    "recall_micro_avg=recall_micro_sum/recall_micro_len\n",
    "print('recall_score(micro):',recall_micro_avg)\n",
    "\n",
    "recall_macro_sum=sum(recall_macro_list)\n",
    "recall_macro_len=len(recall_macro_list)\n",
    "recall_macro_avg=recall_macro_sum/recall_macro_len\n",
    "print('recall_score(macro):',recall_macro_avg)\n",
    "\n",
    "print()\n",
    "\n",
    "f1_micro_sum=sum(f1_micro)\n",
    "f1_micro_len=len(f1_micro)\n",
    "f1_micro_avg=f1_micro_sum/f1_micro_len\n",
    "print('f1_score(micro):',f1_micro_avg)\n",
    "\n",
    "f1_macro_sum=sum(f1_macro)\n",
    "f1_macro_len=len(f1_macro)\n",
    "f1_macro_avg=f1_macro_sum/f1_macro_len\n",
    "print('f1_score(macro):',f1_macro_avg)"
   ]
  }
 ],
 "metadata": {
  "kernelspec": {
   "display_name": "Python 3 (ipykernel)",
   "language": "python",
   "name": "python3"
  },
  "language_info": {
   "codemirror_mode": {
    "name": "ipython",
    "version": 3
   },
   "file_extension": ".py",
   "mimetype": "text/x-python",
   "name": "python",
   "nbconvert_exporter": "python",
   "pygments_lexer": "ipython3",
   "version": "3.9.12"
  }
 },
 "nbformat": 4,
 "nbformat_minor": 5
}
